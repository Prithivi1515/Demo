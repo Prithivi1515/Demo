{
  "nbformat": 4,
  "nbformat_minor": 0,
  "metadata": {
    "colab": {
      "provenance": [],
      "authorship_tag": "ABX9TyOtLg6eNscp/Gl7zhidGqpe",
      "include_colab_link": true
    },
    "kernelspec": {
      "name": "python3",
      "display_name": "Python 3"
    },
    "language_info": {
      "name": "python"
    }
  },
  "cells": [
    {
      "cell_type": "markdown",
      "metadata": {
        "id": "view-in-github",
        "colab_type": "text"
      },
      "source": [
        "<a href=\"https://colab.research.google.com/github/Prithivi1515/Demo/blob/main/Statistics_Advance_1.ipynb\" target=\"_parent\"><img src=\"https://colab.research.google.com/assets/colab-badge.svg\" alt=\"Open In Colab\"/></a>"
      ]
    },
    {
      "cell_type": "markdown",
      "source": [
        "Statistics Advance - 1"
      ],
      "metadata": {
        "id": "OqVA9L7GbeLr"
      }
    },
    {
      "cell_type": "markdown",
      "source": [
        "1. Explain the properties of the F-distribution."
      ],
      "metadata": {
        "id": "Fz1LRVcLbcT6"
      }
    },
    {
      "cell_type": "markdown",
      "source": [
        "1. Properties of the F-Distribution:\n",
        "Shape: Positively skewed (right-tailed).\n",
        "\n",
        "Range: Non-negative (0 to ∞).\n",
        "\n",
        "Degrees of Freedom: Depends on two parameters:\n",
        "d\n",
        "f\n",
        "1\n",
        "df\n",
        "1\n",
        "​\n",
        "  (numerator) and\n",
        "d\n",
        "f\n",
        "2\n",
        "df\n",
        "2\n",
        "​\n",
        "  (denominator).\n",
        "\n",
        "Relationship to Other Distributions: Derived from the ratio of two chi-squared distributions.\n",
        "\n",
        "Use: Primarily used in ANOVA and regression analysis."
      ],
      "metadata": {
        "id": "vDQcqSgHbhc3"
      }
    },
    {
      "cell_type": "markdown",
      "source": [
        "2. Statistical Tests Using the F-Distribution:\n"
      ],
      "metadata": {
        "id": "AgcJnZ4VblJo"
      }
    },
    {
      "cell_type": "markdown",
      "source": [
        "ANOVA (Analysis of Variance): To compare means of three or more groups.\n",
        "\n",
        "F-Test for Equality of Variances: To compare variances of two populations.\n",
        "\n",
        "Regression Analysis: To test the overall significance of a regression model."
      ],
      "metadata": {
        "id": "dqPyK0QIbnzZ"
      }
    },
    {
      "cell_type": "markdown",
      "source": [
        "3. Assumptions for Conducting an F-Test:\n"
      ],
      "metadata": {
        "id": "c7k4qYSIbq0t"
      }
    },
    {
      "cell_type": "markdown",
      "source": [
        "Normality: Both populations should be normally distributed.\n",
        "\n",
        "Independence: Samples must be independent.\n",
        "\n",
        "Random Sampling: Data should be collected through random sampling.\n",
        "\n",
        "Homogeneity of Variance: For ANOVA, variances of groups should be equal (homoscedasticity)."
      ],
      "metadata": {
        "id": "tD58XMY9bs4K"
      }
    },
    {
      "cell_type": "markdown",
      "source": [
        "4. Purpose of ANOVA and Difference from t-Test:\n"
      ],
      "metadata": {
        "id": "j2LfyMlpbulL"
      }
    },
    {
      "cell_type": "markdown",
      "source": [
        "Purpose of ANOVA: To compare the means of three or more groups to determine if at least one group is significantly different.\n",
        "\n",
        "Difference from t-Test: A t-test compares the means of two groups, while ANOVA compares three or more groups."
      ],
      "metadata": {
        "id": "5iIIYfq_bwVF"
      }
    },
    {
      "cell_type": "markdown",
      "source": [
        "5. Why Use One-Way ANOVA Instead of Multiple t-Tests:\n"
      ],
      "metadata": {
        "id": "Wf3H3Nz0bxsz"
      }
    },
    {
      "cell_type": "markdown",
      "source": [
        "Multiple Comparisons Problem: Conducting multiple t-tests increases the likelihood of Type I errors (false positives).\n",
        "\n",
        "Efficiency: ANOVA performs a single test to compare all groups simultaneously, controlling the overall error rate."
      ],
      "metadata": {
        "id": "mF23Vdd8bzMk"
      }
    },
    {
      "cell_type": "markdown",
      "source": [
        "6. Partitioning Variance in ANOVA:\n"
      ],
      "metadata": {
        "id": "5EqUyWKsb1C-"
      }
    },
    {
      "cell_type": "markdown",
      "source": [
        "Between-Group Variance: Measures variability between group means.\n",
        "\n",
        "Within-Group Variance: Measures variability within each group.\n",
        "\n",
        "F-Statistic Calculation:\n",
        "\n",
        "F\n",
        "=\n",
        "Between-Group Variance\n",
        "/Within-Group Variance\n",
        "\n",
        "Interpretation: A high F-statistic indicates significant differences between group means."
      ],
      "metadata": {
        "id": "vIhR6nRib2ji"
      }
    },
    {
      "cell_type": "markdown",
      "source": [
        "7. Classical (Frequentist) vs. Bayesian ANOVA:\n"
      ],
      "metadata": {
        "id": "5SirmVWhcEb8"
      }
    },
    {
      "cell_type": "markdown",
      "source": [
        "Classical ANOVA:\n",
        "\n",
        "Focuses on p-values and null hypothesis testing.\n",
        "\n",
        "Assumes fixed parameters and random data.\n",
        "\n",
        "Bayesian ANOVA:\n",
        "\n",
        "Uses prior distributions and updates beliefs based on data.\n",
        "\n",
        "Provides posterior probabilities for hypotheses.\n",
        "\n",
        "Key Differences:\n",
        "\n",
        "Uncertainty: Bayesian ANOVA quantifies uncertainty using probability distributions.\n",
        "\n",
        "Parameter Estimation: Bayesian methods provide full posterior distributions for parameters.\n",
        "\n",
        "Hypothesis Testing: Bayesian ANOVA evaluates evidence for hypotheses directly, rather than relying on p-values.\n",
        "\n"
      ],
      "metadata": {
        "id": "nhY33AdbcE37"
      }
    },
    {
      "cell_type": "markdown",
      "source": [
        "8. F-Test for Equality of Variances: Python Implementation\n"
      ],
      "metadata": {
        "id": "FnPvd3UZcHro"
      }
    },
    {
      "cell_type": "markdown",
      "source": [
        "Data:\n",
        "\n",
        "Profession A:\n",
        "[48,52,55,60,62]\n",
        "\n",
        "Profession B:\n",
        "[45,50,55,52,47]"
      ],
      "metadata": {
        "id": "IQmo1C3BcJqr"
      }
    },
    {
      "cell_type": "code",
      "source": [
        "import scipy.stats as stats\n",
        "import numpy as np\n",
        "\n",
        "# Data\n",
        "profession_A = [48, 52, 55, 60, 62]\n",
        "profession_B = [45, 50, 55, 52, 47]\n",
        "\n",
        "# Perform F-test\n",
        "F_statistic = np.var(profession_A, ddof=1) / np.var(profession_B, ddof=1)  # ddof=1 for sample variance\n",
        "df1 = len(profession_A) - 1\n",
        "df2 = len(profession_B) - 1\n",
        "p_value = stats.f.sf(F_statistic, df1, df2)  # Survival function (1 - CDF)\n",
        "\n",
        "print(f\"F-statistic: {F_statistic:.4f}\")\n",
        "print(f\"P-value: {p_value:.4f}\")"
      ],
      "metadata": {
        "colab": {
          "base_uri": "https://localhost:8080/"
        },
        "id": "YyHk1CXwcMAB",
        "outputId": "dd428718-67f7-4d96-af1a-e261fa8a55b4"
      },
      "execution_count": 2,
      "outputs": [
        {
          "output_type": "stream",
          "name": "stdout",
          "text": [
            "F-statistic: 2.0892\n",
            "P-value: 0.2465\n"
          ]
        }
      ]
    },
    {
      "cell_type": "markdown",
      "source": [
        "Interpretation:\n",
        "Since the p-value (\n",
        "0.3496\n",
        "0.3496) is greater than\n",
        "0.05\n",
        "0.05, we fail to reject the null hypothesis. There is no significant difference in the variances of the two professions' incomes."
      ],
      "metadata": {
        "id": "qWqZJdNIcVud"
      }
    },
    {
      "cell_type": "markdown",
      "source": [
        "9. One-Way ANOVA: Python Implementation\n"
      ],
      "metadata": {
        "id": "rVUdYVvecad-"
      }
    },
    {
      "cell_type": "markdown",
      "source": [
        "Data:\n",
        "\n",
        "Region A:\n",
        "\n",
        "[160,162,165,158,164]\n",
        "\n",
        "Region B:\n",
        "\n",
        "[172,175,170,168,174]\n",
        "\n",
        "Region C:\n",
        "\n",
        "[180,182,179,185,183]"
      ],
      "metadata": {
        "id": "efZHmtZ1cdgM"
      }
    },
    {
      "cell_type": "code",
      "source": [
        "import scipy.stats as stats\n",
        "\n",
        "# Data\n",
        "region_A = [160, 162, 165, 158, 164]\n",
        "region_B = [172, 175, 170, 168, 174]\n",
        "region_C = [180, 182, 179, 185, 183]\n",
        "\n",
        "# Perform one-way ANOVA\n",
        "F_statistic, p_value = stats.f_oneway(region_A, region_B, region_C)\n",
        "\n",
        "print(f\"F-statistic: {F_statistic:.4f}\")\n",
        "print(f\"P-value: {p_value:.4f}\")"
      ],
      "metadata": {
        "colab": {
          "base_uri": "https://localhost:8080/"
        },
        "id": "r_ev45ctcjeN",
        "outputId": "01303823-dd58-43bc-e1b5-65819a3cbc2e"
      },
      "execution_count": 3,
      "outputs": [
        {
          "output_type": "stream",
          "name": "stdout",
          "text": [
            "F-statistic: 67.8733\n",
            "P-value: 0.0000\n"
          ]
        }
      ]
    },
    {
      "cell_type": "markdown",
      "source": [
        "Interpretation:\n",
        "Since the p-value (\n",
        "<\n",
        "0.05\n",
        "<0.05) is very small, we reject the null hypothesis. There is a statistically significant difference in average heights between the three regions."
      ],
      "metadata": {
        "id": "5D23ZT-Ocl9E"
      }
    }
  ]
}