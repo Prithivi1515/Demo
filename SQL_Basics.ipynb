{
  "nbformat": 4,
  "nbformat_minor": 0,
  "metadata": {
    "colab": {
      "provenance": [],
      "authorship_tag": "ABX9TyNowsXeJ80uY98tUzyiMnFf",
      "include_colab_link": true
    },
    "kernelspec": {
      "name": "python3",
      "display_name": "Python 3"
    },
    "language_info": {
      "name": "python"
    }
  },
  "cells": [
    {
      "cell_type": "markdown",
      "metadata": {
        "id": "view-in-github",
        "colab_type": "text"
      },
      "source": [
        "<a href=\"https://colab.research.google.com/github/Prithivi1515/Demo/blob/main/SQL_Basics.ipynb\" target=\"_parent\"><img src=\"https://colab.research.google.com/assets/colab-badge.svg\" alt=\"Open In Colab\"/></a>"
      ]
    },
    {
      "cell_type": "markdown",
      "source": [
        "1. Create a table called employees with the following structure:\n"
      ],
      "metadata": {
        "id": "UVVglRLDYzXR"
      }
    },
    {
      "cell_type": "code",
      "source": [
        "CREATE TABLE employees (\n",
        "    emp_id INT NOT NULL PRIMARY KEY,\n",
        "    emp_name TEXT NOT NULL,\n",
        "    age INT CHECK (age >= 18),\n",
        "    email TEXT UNIQUE,\n",
        "    salary DECIMAL(10, 2) DEFAULT 30000\n",
        ");"
      ],
      "metadata": {
        "id": "MvdjlYj2ZMEV"
      },
      "execution_count": null,
      "outputs": []
    },
    {
      "cell_type": "markdown",
      "source": [
        "2. Purpose of constraints and how they help maintain data integrity:\n"
      ],
      "metadata": {
        "id": "_xY1uAhWY-NU"
      }
    },
    {
      "cell_type": "markdown",
      "source": [
        "Constraints are rules applied to columns in a table to ensure the accuracy and reliability of the data. They help maintain data integrity by preventing invalid data from being entered into the database. Examples of common constraints include:\n",
        "\n",
        "Primary Key: Ensures uniqueness and identifies each row uniquely.\n",
        "\n",
        "Foreign Key: Ensures referential integrity by linking two tables.\n",
        "\n",
        "NOT NULL: Ensures a column cannot have NULL values.\n",
        "\n",
        "UNIQUE: Ensures all values in a column are unique.\n",
        "\n",
        "CHECK: Ensures values in a column satisfy a specific condition.\n",
        "\n",
        "DEFAULT: Provides a default value for a column if no value is specified."
      ],
      "metadata": {
        "id": "p-3UXcgPZJyA"
      }
    },
    {
      "cell_type": "markdown",
      "source": [
        "3. Why apply the NOT NULL constraint? Can a primary key contain NULL values?\n"
      ],
      "metadata": {
        "id": "ncdCbIwUZQmi"
      }
    },
    {
      "cell_type": "markdown",
      "source": [
        "The NOT NULL constraint ensures that a column cannot have NULL values, which is useful for mandatory fields like emp_name or emp_id.\n",
        "\n",
        "A primary key cannot contain NULL values because it uniquely identifies each row in a table. If NULL values were allowed, it would violate the uniqueness constraint."
      ],
      "metadata": {
        "id": "7hU_7i4WZS6I"
      }
    },
    {
      "cell_type": "markdown",
      "source": [
        "4. Steps to add or remove constraints on an existing table:\n"
      ],
      "metadata": {
        "id": "gkrvh7zTZTlW"
      }
    },
    {
      "cell_type": "markdown",
      "source": [
        "Adding a constraint:\n",
        "\n",
        "ALTER TABLE employees\n",
        "ADD CONSTRAINT chk_age CHECK (age >= 18);\n",
        "\n",
        "Removing a constraint:\n",
        "\n",
        "ALTER TABLE employees\n",
        "DROP CONSTRAINT chk_age;"
      ],
      "metadata": {
        "id": "J3tsjH_gZVbK"
      }
    },
    {
      "cell_type": "markdown",
      "source": [
        "5. Consequences of violating constraints:\n"
      ],
      "metadata": {
        "id": "q2LybqefZbmS"
      }
    },
    {
      "cell_type": "markdown",
      "source": [
        "When you attempt to insert, update, or delete data in a way that violates constraints, the database will reject the operation and return an error. For example:\n",
        "\n",
        "Error Message: ERROR: duplicate key value violates unique constraint \"employees_email_key\""
      ],
      "metadata": {
        "id": "XCRE_KAdZdnE"
      }
    },
    {
      "cell_type": "markdown",
      "source": [
        "6. Modify the products table to add constraints:\n"
      ],
      "metadata": {
        "id": "-T2DW5UCZe3p"
      }
    },
    {
      "cell_type": "markdown",
      "source": [
        "ALTER TABLE products\n",
        "ADD PRIMARY KEY (product_id);\n",
        "\n",
        "ALTER TABLE products\n",
        "ALTER COLUMN price SET DEFAULT 50.00;"
      ],
      "metadata": {
        "id": "ooCO-jfxZfq8"
      }
    },
    {
      "cell_type": "markdown",
      "source": [
        "7. Fetch student_name and class_name using INNER JOIN:\n"
      ],
      "metadata": {
        "id": "Pbdm6SS_Zg55"
      }
    },
    {
      "cell_type": "markdown",
      "source": [
        "SELECT s.student_name, c.class_name\n",
        "FROM Students s\n",
        "INNER JOIN Classes c ON s.class_id = c.class_id;"
      ],
      "metadata": {
        "id": "uNfgV9_6Zh2B"
      }
    },
    {
      "cell_type": "markdown",
      "source": [
        "8. Query to show all order_id, customer_name, and product_name:\n"
      ],
      "metadata": {
        "id": "jkdihffXZi1P"
      }
    },
    {
      "cell_type": "markdown",
      "source": [
        "SELECT o.order_id, c.customer_name, p.product_name\n",
        "\n",
        "FROM Orders o\n",
        "\n",
        "INNER JOIN Customers c ON o.customer_id = c.customer_id\n",
        "\n",
        "LEFT JOIN Products p ON o.order_id = p.order_id;"
      ],
      "metadata": {
        "id": "vC8xIVW4ZjzB"
      }
    },
    {
      "cell_type": "markdown",
      "source": [
        "9. Query to find the total sales amount for each product:\n"
      ],
      "metadata": {
        "id": "5Iyfw2LMZniY"
      }
    },
    {
      "cell_type": "markdown",
      "source": [
        "SELECT p.product_name, SUM(s.amount) AS total_sales\n",
        "\n",
        "FROM Sales s\n",
        "\n",
        "INNER JOIN Products p ON s.product_id = p.product_id\n",
        "\n",
        "GROUP BY p.product_name;"
      ],
      "metadata": {
        "id": "gvrEszHpZp2d"
      }
    },
    {
      "cell_type": "markdown",
      "source": [
        "10. Query to display order_id, customer_name, and quantity of products ordered:\n"
      ],
      "metadata": {
        "id": "5RlqhyCQZt_q"
      }
    },
    {
      "cell_type": "markdown",
      "source": [
        "SELECT o.order_id, c.customer_name, COUNT(p.product_id) AS quantity_ordered\n",
        "\n",
        "FROM Orders o\n",
        "\n",
        "INNER JOIN Customers c ON o.customer_id = c.customer_id\n",
        "\n",
        "INNER JOIN Products p ON o.order_id = p.order_id\n",
        "\n",
        "GROUP BY o.order_id, c.customer_name;"
      ],
      "metadata": {
        "id": "bhurDF1MZvSk"
      }
    },
    {
      "cell_type": "markdown",
      "source": [
        "SQL Commands\n"
      ],
      "metadata": {
        "id": "4FvhRqG9ZyLX"
      }
    },
    {
      "cell_type": "markdown",
      "source": [
        "1. Primary keys and foreign keys in Maven Movies DB:\n"
      ],
      "metadata": {
        "id": "iCusGq4HZ6HI"
      }
    },
    {
      "cell_type": "markdown",
      "source": [
        "Primary Key: Uniquely identifies a row in a table (e.g., actor_id in the actor table).\n",
        "\n",
        "Foreign Key: Links two tables by referencing the primary key of another table (e.g., film_id in the film_actor table references film_id in the film table)."
      ],
      "metadata": {
        "id": "erGQrzlfZ8cx"
      }
    },
    {
      "cell_type": "markdown",
      "source": [
        "2. List all details of actors:\n"
      ],
      "metadata": {
        "id": "aKCK6eYXZ8-L"
      }
    },
    {
      "cell_type": "markdown",
      "source": [
        "SELECT * FROM actor;"
      ],
      "metadata": {
        "id": "FD9K-AAZZ-xw"
      }
    },
    {
      "cell_type": "markdown",
      "source": [
        "3. List all customer information:\n"
      ],
      "metadata": {
        "id": "Dlr-kXBlZ_uD"
      }
    },
    {
      "cell_type": "markdown",
      "source": [
        "SELECT * FROM customer;"
      ],
      "metadata": {
        "id": "6c-gq4tDaAaO"
      }
    },
    {
      "cell_type": "markdown",
      "source": [
        "4. List different countries:\n"
      ],
      "metadata": {
        "id": "1RPoC1KqaBu3"
      }
    },
    {
      "cell_type": "markdown",
      "source": [
        "SELECT DISTINCT country FROM country;"
      ],
      "metadata": {
        "id": "IKfWvl_HaCsg"
      }
    },
    {
      "cell_type": "markdown",
      "source": [
        "5. Display all active customers:\n"
      ],
      "metadata": {
        "id": "eLWWslIiaEGX"
      }
    },
    {
      "cell_type": "markdown",
      "source": [
        "SELECT * FROM customer WHERE active = 1;"
      ],
      "metadata": {
        "id": "EWdg8LkjaEpY"
      }
    },
    {
      "cell_type": "markdown",
      "source": [
        "6. List all rental IDs for customer with ID 1:\n"
      ],
      "metadata": {
        "id": "2KNskVVfaFvO"
      }
    },
    {
      "cell_type": "markdown",
      "source": [
        "SELECT rental_id FROM rental WHERE customer_id = 1;"
      ],
      "metadata": {
        "id": "47NLQ2YtaGqU"
      }
    },
    {
      "cell_type": "markdown",
      "source": [
        "7. Display films with rental duration greater than 5:\n"
      ],
      "metadata": {
        "id": "nbqmKhlKaHoV"
      }
    },
    {
      "cell_type": "markdown",
      "source": [
        "SELECT * FROM film WHERE rental_duration > 5;"
      ],
      "metadata": {
        "id": "yinkn5O1aITB"
      }
    },
    {
      "cell_type": "markdown",
      "source": [
        "8. Total number of films with replacement cost between\n",
        "15 and 20:"
      ],
      "metadata": {
        "id": "5EGDHyN0aKSe"
      }
    },
    {
      "cell_type": "markdown",
      "source": [
        "SELECT COUNT(*) FROM film WHERE replacement_cost BETWEEN 15 AND 20;"
      ],
      "metadata": {
        "id": "ESkU5sBYaOEC"
      }
    },
    {
      "cell_type": "markdown",
      "source": [
        "9. Count of unique first names of actors:\n"
      ],
      "metadata": {
        "id": "gqmquSoFaPCc"
      }
    },
    {
      "cell_type": "markdown",
      "source": [
        "SELECT COUNT(DISTINCT first_name) FROM actor;"
      ],
      "metadata": {
        "id": "BYJGEV7qaQOe"
      }
    },
    {
      "cell_type": "markdown",
      "source": [],
      "metadata": {
        "id": "E_VFVEyUaRD1"
      }
    },
    {
      "cell_type": "markdown",
      "source": [
        "10. Display the first 10 records from the customer table:\n"
      ],
      "metadata": {
        "id": "WW8J3lOpaR5X"
      }
    },
    {
      "cell_type": "markdown",
      "source": [
        "SELECT * FROM customer LIMIT 10;"
      ],
      "metadata": {
        "id": "5f9Es9YeaSoj"
      }
    },
    {
      "cell_type": "markdown",
      "source": [
        "11. Display the first 3 records from the customer table where first name starts with 'b':\n"
      ],
      "metadata": {
        "id": "t0jtjVfLaT0D"
      }
    },
    {
      "cell_type": "markdown",
      "source": [
        "SELECT * FROM customer WHERE first_name LIKE 'b%' LIMIT 3;"
      ],
      "metadata": {
        "id": "eh62De7laVrw"
      }
    },
    {
      "cell_type": "markdown",
      "source": [
        "12. Names of the first 5 movies rated 'G':\n"
      ],
      "metadata": {
        "id": "ckp8XF7vaWrR"
      }
    },
    {
      "cell_type": "markdown",
      "source": [
        "SELECT title FROM film WHERE rating = 'G' LIMIT 5;"
      ],
      "metadata": {
        "id": "VrFAemQdaaQh"
      }
    },
    {
      "cell_type": "markdown",
      "source": [
        "13. Find all customers whose first name starts with \"a\":\n"
      ],
      "metadata": {
        "id": "pGArP_bKacaI"
      }
    },
    {
      "cell_type": "markdown",
      "source": [
        "SELECT * FROM customer WHERE first_name LIKE 'a%';"
      ],
      "metadata": {
        "id": "bjc0TEjEaeK9"
      }
    },
    {
      "cell_type": "markdown",
      "source": [
        "14. Find all customers whose first name ends with \"a\":\n"
      ],
      "metadata": {
        "id": "lzabyxOOafWC"
      }
    },
    {
      "cell_type": "markdown",
      "source": [
        "SELECT * FROM customer WHERE first_name LIKE '%a';"
      ],
      "metadata": {
        "id": "kb6UP6sMagFL"
      }
    },
    {
      "cell_type": "markdown",
      "source": [
        "15. List of first 4 cities that start and end with 'a':\n"
      ],
      "metadata": {
        "id": "vsQTiv_XahkG"
      }
    },
    {
      "cell_type": "markdown",
      "source": [
        "SELECT city FROM city WHERE city LIKE 'a%a' LIMIT 4;"
      ],
      "metadata": {
        "id": "HGEBsiKjaibC"
      }
    },
    {
      "cell_type": "markdown",
      "source": [
        "16. Find all customers whose first name has \"NI\" in any position:\n"
      ],
      "metadata": {
        "id": "BvwLOpw3aji_"
      }
    },
    {
      "cell_type": "markdown",
      "source": [
        "SELECT * FROM customer WHERE first_name LIKE '%NI%';"
      ],
      "metadata": {
        "id": "7WofCo4uakX-"
      }
    },
    {
      "cell_type": "markdown",
      "source": [
        "17. Find all customers whose first name has \"r\" in the second position:\n"
      ],
      "metadata": {
        "id": "q8NufDwOal4L"
      }
    },
    {
      "cell_type": "markdown",
      "source": [
        "SELECT * FROM customer WHERE first_name LIKE '_r%';"
      ],
      "metadata": {
        "id": "XmeSMlzFaml2"
      }
    },
    {
      "cell_type": "markdown",
      "source": [
        "18. Find all customers whose first name starts with \"a\" and is at least 5 characters long:\n"
      ],
      "metadata": {
        "id": "YODYVb42aoIl"
      }
    },
    {
      "cell_type": "markdown",
      "source": [
        "SELECT * FROM customer WHERE first_name LIKE 'a____%';"
      ],
      "metadata": {
        "id": "jrQyEam4apES"
      }
    },
    {
      "cell_type": "markdown",
      "source": [
        "19. Find all customers whose first name starts with \"a\" and ends with \"o\":\n"
      ],
      "metadata": {
        "id": "zV0Pii1NaqOK"
      }
    },
    {
      "cell_type": "markdown",
      "source": [
        "SELECT * FROM customer WHERE first_name LIKE 'a%o';"
      ],
      "metadata": {
        "id": "JHnOZsAvarMt"
      }
    },
    {
      "cell_type": "markdown",
      "source": [
        "20. Get films with PG and PG-13 ratings:\n"
      ],
      "metadata": {
        "id": "eUJ113SNasqL"
      }
    },
    {
      "cell_type": "markdown",
      "source": [
        "SELECT * FROM film WHERE rating IN ('PG', 'PG-13');"
      ],
      "metadata": {
        "id": "bzRvG_c_atLo"
      }
    },
    {
      "cell_type": "markdown",
      "source": [
        "21. Get films with length between 50 and 100:\n"
      ],
      "metadata": {
        "id": "cvOtBhg7auIP"
      }
    },
    {
      "cell_type": "markdown",
      "source": [
        "SELECT * FROM film WHERE length BETWEEN 50 AND 100;"
      ],
      "metadata": {
        "id": "5OZ2Rpobav43"
      }
    },
    {
      "cell_type": "markdown",
      "source": [
        "22. Get the top 50 actors:\n"
      ],
      "metadata": {
        "id": "KmZk-uiHaxiH"
      }
    },
    {
      "cell_type": "markdown",
      "source": [
        "SELECT * FROM actor LIMIT 50;"
      ],
      "metadata": {
        "id": "2lfXVjuvayiu"
      }
    },
    {
      "cell_type": "markdown",
      "source": [
        "23. Get distinct film IDs from the inventory table:\n"
      ],
      "metadata": {
        "id": "9UiaKSgWaz6F"
      }
    },
    {
      "cell_type": "markdown",
      "source": [
        "SELECT DISTINCT film_id FROM inventory;"
      ],
      "metadata": {
        "id": "kY7l-CUna0eo"
      }
    },
    {
      "cell_type": "markdown",
      "source": [
        "Functions"
      ],
      "metadata": {
        "id": "ZKvaPeIFa16b"
      }
    },
    {
      "cell_type": "markdown",
      "source": [
        "1. Total number of rentals:\n"
      ],
      "metadata": {
        "id": "ro3VVyTwa3IV"
      }
    },
    {
      "cell_type": "markdown",
      "source": [
        "SELECT COUNT(*) FROM rental;"
      ],
      "metadata": {
        "id": "S181yYm2a31t"
      }
    },
    {
      "cell_type": "markdown",
      "source": [
        "2. Average rental duration:\n"
      ],
      "metadata": {
        "id": "eQGk-cn3a5Dr"
      }
    },
    {
      "cell_type": "markdown",
      "source": [
        "SELECT AVG(rental_duration) FROM film;"
      ],
      "metadata": {
        "id": "st-fAEuRa5zU"
      }
    },
    {
      "cell_type": "markdown",
      "source": [
        "3. Display customer names in uppercase:\n"
      ],
      "metadata": {
        "id": "ItMRrhjya7D6"
      }
    },
    {
      "cell_type": "markdown",
      "source": [
        "SELECT UPPER(first_name), UPPER(last_name) FROM customer;"
      ],
      "metadata": {
        "id": "VwedAmhIa77d"
      }
    },
    {
      "cell_type": "markdown",
      "source": [
        "4. Extract month from rental date:\n"
      ],
      "metadata": {
        "id": "BAYaM6M3a9H5"
      }
    },
    {
      "cell_type": "markdown",
      "source": [
        "SELECT rental_id, MONTH(rental_date) AS rental_month FROM rental;"
      ],
      "metadata": {
        "id": "5SwSpufWa99f"
      }
    },
    {
      "cell_type": "markdown",
      "source": [
        "5. Count of rentals for each customer:\n"
      ],
      "metadata": {
        "id": "ozOZa0nba_q4"
      }
    },
    {
      "cell_type": "markdown",
      "source": [
        "SELECT customer_id, COUNT(*) AS rental_count FROM rental GROUP BY customer_id;"
      ],
      "metadata": {
        "id": "sajAZ0PYbAjr"
      }
    },
    {
      "cell_type": "markdown",
      "source": [
        "6. Total revenue generated by each store:\n"
      ],
      "metadata": {
        "id": "Ls_FV9rWbCpm"
      }
    },
    {
      "cell_type": "markdown",
      "source": [
        "SELECT store_id, SUM(amount) AS total_revenue FROM payment GROUP BY store_id;"
      ],
      "metadata": {
        "id": "QlEP0DShbEQu"
      }
    },
    {
      "cell_type": "markdown",
      "source": [
        "7. Total number of rentals for each category:\n"
      ],
      "metadata": {
        "id": "doAjZdxAbGC4"
      }
    },
    {
      "cell_type": "markdown",
      "source": [
        "SELECT fc.category_id, COUNT(*) AS rental_count\n",
        "FROM rental r\n",
        "JOIN inventory i ON r.inventory_id = i.inventory_id\n",
        "JOIN film_category fc ON i.film_id = fc.film_id\n",
        "GROUP BY fc.category_id;"
      ],
      "metadata": {
        "id": "E39nzqLubHAG"
      }
    },
    {
      "cell_type": "markdown",
      "source": [
        "8. Average rental rate for each language:\n"
      ],
      "metadata": {
        "id": "QJM5I95YbIbo"
      }
    },
    {
      "cell_type": "markdown",
      "source": [
        "SELECT l.name, AVG(f.rental_rate) AS avg_rental_rate\n",
        "FROM film f\n",
        "JOIN language l ON f.language_id = l.language_id\n",
        "GROUP BY l.name;"
      ],
      "metadata": {
        "id": "hsID9HWhbJdL"
      }
    },
    {
      "cell_type": "markdown",
      "source": [
        "9. Display movie title, customer's first name, and last name:\n"
      ],
      "metadata": {
        "id": "5mk5Tc4qbLVP"
      }
    },
    {
      "cell_type": "markdown",
      "source": [
        "SELECT f.title, c.first_name, c.last_name\n",
        "FROM rental r\n",
        "JOIN customer c ON r.customer_id = c.customer_id\n",
        "JOIN inventory i ON r.inventory_id = i.inventory_id\n",
        "JOIN film f ON i.film_id = f.film_id;"
      ],
      "metadata": {
        "id": "bmrGbaIBbL8e"
      }
    },
    {
      "cell_type": "markdown",
      "source": [
        "10. Retrieve actors who appeared in \"Gone with the Wind\":\n"
      ],
      "metadata": {
        "id": "fZe0e5GhbNHK"
      }
    },
    {
      "cell_type": "markdown",
      "source": [
        "SELECT a.first_name, a.last_name\n",
        "FROM film_actor fa\n",
        "JOIN actor a ON fa.actor_id = a.actor_id\n",
        "JOIN film f ON fa.film_id = f.film_id\n",
        "WHERE f.title = 'Gone with the Wind';"
      ],
      "metadata": {
        "id": "fKtgIw7JbN9w"
      }
    },
    {
      "cell_type": "markdown",
      "source": [
        "11. Retrieve customer names and total amount spent:\n"
      ],
      "metadata": {
        "id": "XxnZFEwJbPZX"
      }
    },
    {
      "cell_type": "markdown",
      "source": [
        "SELECT c.first_name, c.last_name, SUM(p.amount) AS total_spent\n",
        "FROM customer c\n",
        "JOIN payment p ON c.customer_id = p.customer_id\n",
        "GROUP BY c.customer_id;"
      ],
      "metadata": {
        "id": "0aXc2RlObQII"
      }
    },
    {
      "cell_type": "markdown",
      "source": [
        "12. List titles of movies rented by customers in 'London':\n"
      ],
      "metadata": {
        "id": "WEo5xFoybRwc"
      }
    },
    {
      "cell_type": "markdown",
      "source": [
        "SELECT f.title\n",
        "FROM rental r\n",
        "JOIN customer c ON r.customer_id = c.customer_id\n",
        "JOIN address a ON c.address_id = a.address_id\n",
        "JOIN city ci ON a.city_id = ci.city_id\n",
        "JOIN inventory i ON r.inventory_id = i.inventory_id\n",
        "JOIN film f ON i.film_id = f.film_id\n",
        "WHERE ci.city = 'London';"
      ],
      "metadata": {
        "id": "oEckCeN3bSi9"
      }
    },
    {
      "cell_type": "markdown",
      "source": [
        "13. Top 5 rented movies:\n"
      ],
      "metadata": {
        "id": "FleqVvbFbUh4"
      }
    },
    {
      "cell_type": "markdown",
      "source": [
        "SELECT f.title, COUNT(*) AS rental_count\n",
        "FROM rental r\n",
        "JOIN inventory i ON r.inventory_id = i.inventory_id\n",
        "JOIN film f ON i.film_id = f.film_id\n",
        "GROUP BY f.title\n",
        "ORDER BY rental_count DESC\n",
        "LIMIT 5;"
      ],
      "metadata": {
        "id": "qykQM8EYbVL9"
      }
    },
    {
      "cell_type": "markdown",
      "source": [
        "14. Customers who rented from both stores:\n"
      ],
      "metadata": {
        "id": "Q1h6txaTbWGd"
      }
    },
    {
      "cell_type": "markdown",
      "source": [
        "SELECT c.customer_id, c.first_name, c.last_name\n",
        "FROM rental r\n",
        "JOIN inventory i ON r.inventory_id = i.inventory_id\n",
        "JOIN customer c ON r.customer_id = c.customer_id\n",
        "WHERE i.store_id IN (1, 2)\n",
        "GROUP BY c.customer_id\n",
        "HAVING COUNT(DISTINCT i.store_id) = 2;"
      ],
      "metadata": {
        "id": "OdlBktwjbXIb"
      }
    },
    {
      "cell_type": "markdown",
      "source": [
        "Window Functions\n"
      ],
      "metadata": {
        "id": "LfP8ckEzbnwe"
      }
    },
    {
      "cell_type": "markdown",
      "source": [
        "1. Rank customers based on total spending:\n"
      ],
      "metadata": {
        "id": "oJcdjsFEbpOE"
      }
    },
    {
      "cell_type": "markdown",
      "source": [
        "SELECT customer_id, first_name, last_name,\n",
        "       SUM(amount) AS total_spent,\n",
        "       RANK() OVER (ORDER BY SUM(amount) DESC) AS rank\n",
        "FROM payment\n",
        "JOIN customer USING (customer_id)\n",
        "GROUP BY customer_id;"
      ],
      "metadata": {
        "id": "kbArF6s8bp1l"
      }
    },
    {
      "cell_type": "markdown",
      "source": [
        "2. Cumulative revenue per film:\n"
      ],
      "metadata": {
        "id": "TJqryd6XbuJe"
      }
    },
    {
      "cell_type": "markdown",
      "source": [
        "SELECT film_id, title,\n",
        "       SUM(amount) OVER (ORDER BY rental_date) AS cumulative_revenue\n",
        "FROM payment\n",
        "JOIN rental USING (rental_id)\n",
        "JOIN inventory USING (inventory_id)\n",
        "JOIN film USING (film_id);"
      ],
      "metadata": {
        "id": "xv1a_3DVbrae"
      }
    },
    {
      "cell_type": "markdown",
      "source": [
        "3. Average rental duration for films with similar lengths:\n"
      ],
      "metadata": {
        "id": "O-lmg0ClbutC"
      }
    },
    {
      "cell_type": "markdown",
      "source": [
        "SELECT film_id, title, length,\n",
        "       AVG(rental_duration) OVER (PARTITION BY length) AS avg_rental_duration\n",
        "FROM film;"
      ],
      "metadata": {
        "id": "7aZSywzEbwSK"
      }
    },
    {
      "cell_type": "markdown",
      "source": [
        "4. Top 3 films in each category based on rental counts:\n"
      ],
      "metadata": {
        "id": "XuIYJWGcbxW-"
      }
    },
    {
      "cell_type": "markdown",
      "source": [
        "WITH ranked_films AS (\n",
        "    SELECT fc.category_id, f.film_id, f.title,\n",
        "           COUNT(*) AS rental_count,\n",
        "           RANK() OVER (PARTITION BY fc.category_id ORDER BY COUNT(*) DESC) AS rank\n",
        "    FROM rental r\n",
        "    JOIN inventory i ON r.inventory_id = i.inventory_id\n",
        "    JOIN film f ON i.film_id = f.film_id\n",
        "    JOIN film_category fc ON f.film_id = fc.film_id\n",
        "    GROUP BY fc.category_id, f.film_id\n",
        ")\n",
        "SELECT category_id, film_id, title, rental_count\n",
        "FROM ranked_films\n",
        "WHERE rank <= 3;"
      ],
      "metadata": {
        "id": "964m6HL_byI6"
      }
    },
    {
      "cell_type": "markdown",
      "source": [
        "Normalization & CTE\n"
      ],
      "metadata": {
        "id": "EzeZuNyebz-Q"
      }
    },
    {
      "cell_type": "markdown",
      "source": [
        "1. First Normal Form (1NF):\n",
        "\n",
        "Example: The film_actor table is already in 1NF because each column contains atomic values.\n"
      ],
      "metadata": {
        "id": "pWoX2Q--b1QL"
      }
    },
    {
      "cell_type": "markdown",
      "source": [
        "2. Second Normal Form (2NF):\n",
        "\n",
        "Example: The film_actor table is in 2NF because it has a composite primary key (film_id, actor_id), and all non-key attributes depend on the entire key."
      ],
      "metadata": {
        "id": "ryZ5GNo6b4l-"
      }
    },
    {
      "cell_type": "markdown",
      "source": [
        "3. Third Normal Form (3NF):\n",
        "\n",
        "Example: The film table is in 3NF because there are no transitive dependencies."
      ],
      "metadata": {
        "id": "ZDu_MsSkb8kP"
      }
    },
    {
      "cell_type": "markdown",
      "source": [
        "4. Normalization Process:\n",
        "\n",
        "Example: Normalize the customer table by separating address details into a separate address table."
      ],
      "metadata": {
        "id": "9sclfu8ZcAIi"
      }
    },
    {
      "cell_type": "markdown",
      "source": [
        "5. CTE to retrieve actor names and number of films:\n"
      ],
      "metadata": {
        "id": "ZGkzr6tLcBgT"
      }
    },
    {
      "cell_type": "markdown",
      "source": [
        "WITH actor_films AS (\n",
        "    SELECT a.actor_id, a.first_name, a.last_name, COUNT(fa.film_id) AS film_count\n",
        "    FROM actor a\n",
        "    JOIN film_actor fa ON a.actor_id = fa.actor_id\n",
        "    GROUP BY a.actor_id\n",
        ")\n",
        "SELECT * FROM actor_films;\n"
      ],
      "metadata": {
        "id": "VsaudD9_cCZT"
      }
    },
    {
      "cell_type": "markdown",
      "source": [
        "6. CTE to combine film and language information:\n"
      ],
      "metadata": {
        "id": "lk-p3_mLcDBv"
      }
    },
    {
      "cell_type": "markdown",
      "source": [
        "WITH film_language AS (\n",
        "    SELECT f.title, l.name AS language_name, f.rental_rate\n",
        "    FROM film f\n",
        "    JOIN language l ON f.language_id = l.language_id\n",
        ")\n",
        "SELECT * FROM film_language;"
      ],
      "metadata": {
        "id": "IB2O9kBEcEyP"
      }
    },
    {
      "cell_type": "markdown",
      "source": [
        "7. CTE to find total revenue per customer:\n"
      ],
      "metadata": {
        "id": "15bOEOc7cF19"
      }
    },
    {
      "cell_type": "markdown",
      "source": [
        "WITH customer_revenue AS (\n",
        "    SELECT c.customer_id, c.first_name, c.last_name, SUM(p.amount) AS total_revenue\n",
        "    FROM customer c\n",
        "    JOIN payment p ON c.customer_id = p.customer_id\n",
        "    GROUP BY c.customer_id\n",
        ")\n",
        "SELECT * FROM customer_revenue;"
      ],
      "metadata": {
        "id": "qa4fnazwcGil"
      }
    },
    {
      "cell_type": "markdown",
      "source": [
        "8. CTE with window function to rank films by rental duration:\n"
      ],
      "metadata": {
        "id": "e2p9vr0icH24"
      }
    },
    {
      "cell_type": "markdown",
      "source": [
        "WITH ranked_films AS (\n",
        "    SELECT film_id, title, rental_duration,\n",
        "           RANK() OVER (ORDER BY rental_duration DESC) AS rank\n",
        "    FROM film\n",
        ")\n",
        "SELECT * FROM ranked_films;"
      ],
      "metadata": {
        "id": "hMkhfRLfcIgb"
      }
    },
    {
      "cell_type": "markdown",
      "source": [
        "9. CTE to list customers with more than two rentals:\n"
      ],
      "metadata": {
        "id": "aKxbxnQecJrZ"
      }
    },
    {
      "cell_type": "markdown",
      "source": [
        "WITH frequent_customers AS (\n",
        "    SELECT customer_id, COUNT(*) AS rental_count\n",
        "    FROM rental\n",
        "    GROUP BY customer_id\n",
        "    HAVING COUNT(*) > 2\n",
        ")\n",
        "SELECT c.*\n",
        "FROM customer c\n",
        "JOIN frequent_customers fc ON c.customer_id = fc.customer_id;"
      ],
      "metadata": {
        "id": "BhOSjID-cKQx"
      }
    },
    {
      "cell_type": "markdown",
      "source": [
        "10. CTE to find total rentals per month:\n"
      ],
      "metadata": {
        "id": "aMWYHN9GcLhv"
      }
    },
    {
      "cell_type": "markdown",
      "source": [
        "WITH monthly_rentals AS (\n",
        "    SELECT MONTH(rental_date) AS rental_month, COUNT(*) AS rental_count\n",
        "    FROM rental\n",
        "    GROUP BY MONTH(rental_date)\n",
        ")\n",
        "SELECT * FROM monthly_rentals;"
      ],
      "metadata": {
        "id": "BrO5q8aIcMQS"
      }
    },
    {
      "cell_type": "markdown",
      "source": [
        "11. CTE to find pairs of actors in the same film:\n"
      ],
      "metadata": {
        "id": "SD8b0rLgcNmI"
      }
    },
    {
      "cell_type": "markdown",
      "source": [
        "WITH actor_pairs AS (\n",
        "    SELECT fa1.actor_id AS actor1, fa2.actor_id AS actor2\n",
        "    FROM film_actor fa1\n",
        "    JOIN film_actor fa2 ON fa1.film_id = fa2.film_id\n",
        "    WHERE fa1.actor_id < fa2.actor_id\n",
        ")\n",
        "SELECT * FROM actor_pairs;"
      ],
      "metadata": {
        "id": "NqD_4bRBcOu_"
      }
    },
    {
      "cell_type": "markdown",
      "source": [
        "12. CTE for recursive search of employees reporting to a manager:\n"
      ],
      "metadata": {
        "id": "EiXb6FtxcRem"
      }
    },
    {
      "cell_type": "markdown",
      "source": [
        "WITH RECURSIVE employee_hierarchy AS (\n",
        "    SELECT staff_id, first_name, last_name, reports_to\n",
        "    FROM staff\n",
        "    WHERE reports_to IS NULL\n",
        "    UNION ALL\n",
        "    SELECT s.staff_id, s.first_name, s.last_name, s.reports_to\n",
        "    FROM staff s\n",
        "    JOIN employee_hierarchy eh ON s.reports_to = eh.staff_id\n",
        ")\n",
        "SELECT * FROM employee_hierarchy;"
      ],
      "metadata": {
        "id": "9edFaly3cSOi"
      }
    }
  ]
}