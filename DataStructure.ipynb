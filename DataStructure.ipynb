{
  "nbformat": 4,
  "nbformat_minor": 0,
  "metadata": {
    "colab": {
      "provenance": [],
      "authorship_tag": "ABX9TyPOKQkyaAj9IITSzHlJYxZt",
      "include_colab_link": true
    },
    "kernelspec": {
      "name": "python3",
      "display_name": "Python 3"
    },
    "language_info": {
      "name": "python"
    }
  },
  "cells": [
    {
      "cell_type": "markdown",
      "metadata": {
        "id": "view-in-github",
        "colab_type": "text"
      },
      "source": [
        "<a href=\"https://colab.research.google.com/github/Prithivi1515/Demo/blob/main/DataStructure.ipynb\" target=\"_parent\"><img src=\"https://colab.research.google.com/assets/colab-badge.svg\" alt=\"Open In Colab\"/></a>"
      ]
    },
    {
      "cell_type": "code",
      "execution_count": null,
      "metadata": {
        "id": "SRfLw_AJ7m6o"
      },
      "outputs": [],
      "source": []
    },
    {
      "cell_type": "markdown",
      "source": [
        "1. Reverse a String\n",
        "\n",
        "\n"
      ],
      "metadata": {
        "id": "Np5qLT607q-K"
      }
    },
    {
      "cell_type": "code",
      "source": [
        "def reverse_string(s):\n",
        "    return s[::-1]\n",
        "\n",
        "# Example usage\n",
        "string = \"hello\"\n",
        "result = reverse_string(string)\n",
        "print(\"Reversed string:\", result)"
      ],
      "metadata": {
        "id": "M1LwSQmo7tmJ"
      },
      "execution_count": null,
      "outputs": []
    },
    {
      "cell_type": "markdown",
      "source": [
        "2. Count the Number of Vowels in a String\n"
      ],
      "metadata": {
        "id": "J3KEPtGq7zHF"
      }
    },
    {
      "cell_type": "code",
      "source": [
        "def count_vowels(s):\n",
        "    vowels = \"aeiouAEIOU\"\n",
        "    return sum(1 for char in s if char in vowels)\n",
        "\n",
        "# Example usage\n",
        "string = \"Hello World\"\n",
        "vowel_count = count_vowels(string)\n",
        "print(\"Number of vowels:\", vowel_count)"
      ],
      "metadata": {
        "id": "b-Dkt_167z_c"
      },
      "execution_count": null,
      "outputs": []
    },
    {
      "cell_type": "markdown",
      "source": [
        "3. Check if a Given String is a Palindrome\n"
      ],
      "metadata": {
        "id": "QfPJFYOw72tA"
      }
    },
    {
      "cell_type": "code",
      "source": [],
      "metadata": {
        "id": "N2FCBkv18N9H"
      },
      "execution_count": null,
      "outputs": []
    },
    {
      "cell_type": "code",
      "source": [
        "def is_palindrome(s):\n",
        "    return s == s[::-1]\n",
        "\n",
        "# Example usage\n",
        "string = \"radar\"\n",
        "palindrome_check = is_palindrome(string)\n",
        "print(\"Is palindrome:\", palindrome_check)"
      ],
      "metadata": {
        "id": "iVvZa8Tf76HY"
      },
      "execution_count": null,
      "outputs": []
    },
    {
      "cell_type": "markdown",
      "source": [
        "4. Check if Two Strings are Anagrams\n"
      ],
      "metadata": {
        "id": "Y-GUOF8d78Xm"
      }
    },
    {
      "cell_type": "code",
      "source": [
        "def are_anagrams(s1, s2):\n",
        "    return sorted(s1) == sorted(s2)\n",
        "\n",
        "# Example usage\n",
        "str1 = \"listen\"\n",
        "str2 = \"silent\"\n",
        "anagram_check = are_anagrams(str1, str2)\n",
        "print(\"Are anagrams:\", anagram_check)"
      ],
      "metadata": {
        "id": "lCOr7TZG7-ZR"
      },
      "execution_count": null,
      "outputs": []
    },
    {
      "cell_type": "markdown",
      "source": [
        "5. Find All Occurrences of a Substring\n",
        "\n"
      ],
      "metadata": {
        "id": "B6xaNcEj8Amv"
      }
    },
    {
      "cell_type": "code",
      "source": [
        "def find_substring_occurrences(s, sub):\n",
        "    start = 0\n",
        "    while True:\n",
        "        start = s.find(sub, start)\n",
        "        if start == -1:\n",
        "            break\n",
        "        print(f\"Found at index {start}\")\n",
        "        start += len(sub)\n",
        "\n",
        "# Example usage\n",
        "string = \"abracadabra\"\n",
        "substring = \"abra\"\n",
        "find_substring_occurrences(string, substring)"
      ],
      "metadata": {
        "id": "r3X7m6by8Cxb"
      },
      "execution_count": null,
      "outputs": []
    },
    {
      "cell_type": "markdown",
      "source": [
        "6. Basic String Compression"
      ],
      "metadata": {
        "id": "LUWEoWso8Erm"
      }
    },
    {
      "cell_type": "code",
      "source": [
        "def compress_string(s):\n",
        "    compressed = []\n",
        "    count = 1\n",
        "    for i in range(1, len(s)):\n",
        "        if s[i] == s[i - 1]:\n",
        "            count += 1\n",
        "        else:\n",
        "            compressed.append(f\"{s[i-1]}{count}\")\n",
        "            count = 1\n",
        "    compressed.append(f\"{s[-1]}{count}\")\n",
        "    return ''.join(compressed)\n",
        "\n",
        "# Example usage\n",
        "string = \"aaabbcccc\"\n",
        "print(compress_string(string))"
      ],
      "metadata": {
        "id": "oq6VF02_8bWi"
      },
      "execution_count": null,
      "outputs": []
    },
    {
      "cell_type": "markdown",
      "source": [
        "7. Determine if a String has All Unique Characters"
      ],
      "metadata": {
        "id": "F4bYIKeu8fza"
      }
    },
    {
      "cell_type": "code",
      "source": [
        "def has_unique_chars(s):\n",
        "    return len(set(s)) == len(s)\n",
        "\n",
        "# Example usage\n",
        "string = \"abcdef\"\n",
        "print(has_unique_chars(string))"
      ],
      "metadata": {
        "id": "w9xF_Rm78h84"
      },
      "execution_count": null,
      "outputs": []
    },
    {
      "cell_type": "markdown",
      "source": [
        "8. Convert a String to Uppercase or Lowercase"
      ],
      "metadata": {
        "id": "TFOdLUPU8kri"
      }
    },
    {
      "cell_type": "code",
      "source": [
        "def to_uppercase(s):\n",
        "    return s.upper()\n",
        "\n",
        "def to_lowercase(s):\n",
        "    return s.lower()\n",
        "\n",
        "# Example usage\n",
        "string = \"Hello World\"\n",
        "print(to_uppercase(string))  # Output: \"HELLO WORLD\"\n",
        "print(to_lowercase(string))  # Output: \"hello world\""
      ],
      "metadata": {
        "id": "A1lBalsx8mqL"
      },
      "execution_count": null,
      "outputs": []
    },
    {
      "cell_type": "markdown",
      "source": [
        "9. Count the Number of Words in a String"
      ],
      "metadata": {
        "id": "DNBi7adQ8rrN"
      }
    },
    {
      "cell_type": "code",
      "source": [
        "def count_words(s):\n",
        "    return len(s.split())\n",
        "\n",
        "# Example usage\n",
        "string = \"Hello world, this is Python\"\n",
        "print(count_words(string))  # Output: 5"
      ],
      "metadata": {
        "id": "i8665FH28rbM"
      },
      "execution_count": null,
      "outputs": []
    },
    {
      "cell_type": "markdown",
      "source": [
        "10. Concatenate Two Strings Without Using the + Operator"
      ],
      "metadata": {
        "id": "mRBlXmz08wIh"
      }
    },
    {
      "cell_type": "code",
      "source": [
        "def concatenate_strings(s1, s2):\n",
        "    return \"{}{}\".format(s1, s2)\n",
        "\n",
        "# Example usage\n",
        "str1 = \"Hello \"\n",
        "str2 = \"World\"\n",
        "print(concatenate_strings(str1, str2))  # Output: \"Hello World\""
      ],
      "metadata": {
        "id": "lG6n0zik8x9J"
      },
      "execution_count": null,
      "outputs": []
    },
    {
      "cell_type": "markdown",
      "source": [
        "11. Remove All Occurrences of a Specific Element from a List"
      ],
      "metadata": {
        "id": "HtIHkZY98z60"
      }
    },
    {
      "cell_type": "code",
      "source": [
        "def remove_element(lst, element):\n",
        "    return [x for x in lst if x != element]\n",
        "\n",
        "# Example usage\n",
        "my_list = [1, 2, 3, 2, 4, 2]\n",
        "print(remove_element(my_list, 2))  # Output: [1, 3, 4]"
      ],
      "metadata": {
        "id": "N8aP4FeN82F3"
      },
      "execution_count": null,
      "outputs": []
    },
    {
      "cell_type": "markdown",
      "source": [
        "12. Find the Second Largest Number in a List\n"
      ],
      "metadata": {
        "id": "R2QjqmiQ838_"
      }
    },
    {
      "cell_type": "code",
      "source": [
        "def find_second_largest(lst):\n",
        "    unique_numbers = list(set(lst))\n",
        "    unique_numbers.sort()\n",
        "    return unique_numbers[-2] if len(unique_numbers) > 1 else None\n",
        "\n",
        "# Example usage\n",
        "my_list = [10, 20, 4, 45, 99]\n",
        "print(find_second_largest(my_list))  # Output: 45"
      ],
      "metadata": {
        "id": "98E-Puqo87HQ"
      },
      "execution_count": null,
      "outputs": []
    },
    {
      "cell_type": "markdown",
      "source": [
        "13. Count the Occurrences of Each Element in a List\n"
      ],
      "metadata": {
        "id": "tKGRS05f89co"
      }
    },
    {
      "cell_type": "code",
      "source": [
        "def count_elements(lst):\n",
        "    return {x: lst.count(x) for x in lst}\n",
        "\n",
        "# Example usage\n",
        "my_list = [1, 2, 2, 3, 3, 3]\n",
        "print(count_elements(my_list))  # Output: {1: 1, 2: 2, 3: 3}"
      ],
      "metadata": {
        "id": "X7Xdrz-A89Mu"
      },
      "execution_count": null,
      "outputs": []
    },
    {
      "cell_type": "markdown",
      "source": [
        "14. Reverse a List In-Place Without Using Built-In Reverse Functions\n"
      ],
      "metadata": {
        "id": "Bu8rz_HN9Hu5"
      }
    },
    {
      "cell_type": "code",
      "source": [
        "def reverse_list(lst):\n",
        "    left, right = 0, len(lst) - 1\n",
        "    while left < right:\n",
        "        lst[left], lst[right] = lst[right], lst[left]\n",
        "        left += 1\n",
        "        right -= 1\n",
        "\n",
        "# Example usage\n",
        "my_list = [1, 2, 3, 4, 5]\n",
        "reverse_list(my_list)\n",
        "print(my_list)  # Output: [5, 4, 3, 2, 1]"
      ],
      "metadata": {
        "id": "H6lul_Q49JnW"
      },
      "execution_count": null,
      "outputs": []
    },
    {
      "cell_type": "markdown",
      "source": [
        "15. Find and Remove Duplicates from a List While Preserving Original Order\n"
      ],
      "metadata": {
        "id": "ix-tUqVr9Lfc"
      }
    },
    {
      "cell_type": "code",
      "source": [
        "def remove_duplicates(lst):\n",
        "    seen = set()\n",
        "    return [x for x in lst if not (x in seen or seen.add(x))]\n",
        "\n",
        "# Example usage\n",
        "my_list = [1, 2, 2, 3, 4, 4, 5]\n",
        "print(remove_duplicates(my_list))  # Output: [1, 2, 3, 4, 5]"
      ],
      "metadata": {
        "id": "1r-XPD699NZj"
      },
      "execution_count": null,
      "outputs": []
    },
    {
      "cell_type": "markdown",
      "source": [
        "16. Check if a List is Sorted\n"
      ],
      "metadata": {
        "id": "O9L3a5hF9O1p"
      }
    },
    {
      "cell_type": "code",
      "source": [
        "def is_sorted(lst):\n",
        "    return lst == sorted(lst) or lst == sorted(lst, reverse=True)\n",
        "\n",
        "# Example usage\n",
        "my_list = [1, 2, 3, 4, 5]\n",
        "print(is_sorted(my_list))  # Output: True"
      ],
      "metadata": {
        "id": "iImen4KL9Q4D"
      },
      "execution_count": null,
      "outputs": []
    },
    {
      "cell_type": "markdown",
      "source": [
        "17. Merge Two Sorted Lists\n"
      ],
      "metadata": {
        "id": "PqgsfnA39SWe"
      }
    },
    {
      "cell_type": "code",
      "source": [
        "def merge_sorted_lists(lst1, lst2):\n",
        "    return sorted(lst1 + lst2)\n",
        "\n",
        "# Example usage\n",
        "list1 = [1, 3, 5]\n",
        "list2 = [2, 4, 6]\n",
        "print(merge_sorted_lists(list1, list2))  # Output: [1, 2, 3, 4, 5, 6]"
      ],
      "metadata": {
        "id": "FP87OrXe9UHO"
      },
      "execution_count": null,
      "outputs": []
    },
    {
      "cell_type": "markdown",
      "source": [
        "18. Find the Intersection of Two Lists\n"
      ],
      "metadata": {
        "id": "ecd8YZDv9Xn8"
      }
    },
    {
      "cell_type": "code",
      "source": [
        "def list_intersection(lst1, lst2):\n",
        "    return list(set(lst1) & set(lst2))\n",
        "\n",
        "# Example usage\n",
        "list1 = [1, 2, 3, 4]\n",
        "list2 = [3, 4, 5, 6]\n",
        "print(list_intersection(list1, list2))  # Output: [3, 4]"
      ],
      "metadata": {
        "id": "tU89ttRW9YOH"
      },
      "execution_count": null,
      "outputs": []
    },
    {
      "cell_type": "markdown",
      "source": [
        "19. Find the Union of Two Lists Without Duplicates\n"
      ],
      "metadata": {
        "id": "8FvHNanv9Z8E"
      }
    },
    {
      "cell_type": "code",
      "source": [
        "def list_union(lst1, lst2):\n",
        "    return list(set(lst1) | set(lst2))\n",
        "\n",
        "# Example usage\n",
        "list1 = [1, 2, 3]\n",
        "list2 = [3, 4, 5]\n",
        "print(list_union(list1, list2))  # Output: [1, 2, 3, 4, 5]"
      ],
      "metadata": {
        "id": "xSGoAfQR9cLP"
      },
      "execution_count": null,
      "outputs": []
    },
    {
      "cell_type": "markdown",
      "source": [
        "20. Shuffle a List Randomly Without Using Built-In Shuffle Functions\n"
      ],
      "metadata": {
        "id": "QhUBqMzE9d0w"
      }
    },
    {
      "cell_type": "code",
      "source": [
        "import random\n",
        "\n",
        "def shuffle_list(lst):\n",
        "    shuffled = lst[:]\n",
        "    for i in range(len(shuffled)):\n",
        "        j = random.randint(0, i)\n",
        "        shuffled[i], shuffled[j] = shuffled[j], shuffled[i]\n",
        "    return shuffled\n",
        "\n",
        "# Example usage\n",
        "my_list = [1, 2, 3, 4, 5]\n",
        "print(shuffle_list(my_list))  # Output: A randomly shuffled list"
      ],
      "metadata": {
        "id": "AzLwkDLR9fQh"
      },
      "execution_count": null,
      "outputs": []
    },
    {
      "cell_type": "markdown",
      "source": [
        "21. Return a New Tuple Containing Elements Common to Both Input Tuples"
      ],
      "metadata": {
        "id": "tCzHnrRh9hdz"
      }
    },
    {
      "cell_type": "code",
      "source": [
        "def common_elements(tuple1, tuple2):\n",
        "    return tuple(set(tuple1) & set(tuple2))\n",
        "\n",
        "# Example usage\n",
        "tuple1 = (1, 2, 3, 4)\n",
        "tuple2 = (3, 4, 5, 6)\n",
        "print(common_elements(tuple1, tuple2))  # Output: (3, 4)"
      ],
      "metadata": {
        "id": "7xEWhRls9jNv"
      },
      "execution_count": null,
      "outputs": []
    },
    {
      "cell_type": "markdown",
      "source": [
        "22. Intersection of Two Sets of Integers\n"
      ],
      "metadata": {
        "id": "UwlL0ZnS9lm0"
      }
    },
    {
      "cell_type": "code",
      "source": [
        "def set_intersection(set1, set2):\n",
        "    return set1 & set2\n",
        "\n",
        "# Example usage\n",
        "set1 = {1, 2, 3}\n",
        "set2 = {3, 4, 5}\n",
        "print(set_intersection(set1, set2))  # Output: {3}"
      ],
      "metadata": {
        "id": "3rCvVkH79mR7"
      },
      "execution_count": null,
      "outputs": []
    },
    {
      "cell_type": "markdown",
      "source": [
        "23. Concatenate Two Tuples\n"
      ],
      "metadata": {
        "id": "2_GufJ8k9nmY"
      }
    },
    {
      "cell_type": "code",
      "source": [
        "def concatenate_tuples(tuple1, tuple2):\n",
        "    return tuple1 + tuple2\n",
        "\n",
        "# Example usage\n",
        "tuple1 = (1, 2, 3)\n",
        "tuple2 = (4, 5, 6)\n",
        "print(concatenate_tuples(tuple1, tuple2))  # Output: (1, 2, 3, 4, 5, 6)"
      ],
      "metadata": {
        "id": "cqiSfjW79pME"
      },
      "execution_count": null,
      "outputs": []
    },
    {
      "cell_type": "markdown",
      "source": [
        "24. Print Elements in the First Set but Not in the Second\n"
      ],
      "metadata": {
        "id": "MXgIDhiU9qq3"
      }
    },
    {
      "cell_type": "code",
      "source": [
        "def difference_of_sets(set1, set2):\n",
        "    return set1 - set2\n",
        "\n",
        "# Example usage\n",
        "set1 = {\"apple\", \"banana\", \"cherry\"}\n",
        "set2 = {\"cherry\", \"date\"}\n",
        "print(difference_of_sets(set1, set2))  # Output: {\"apple\", \"banana\"}"
      ],
      "metadata": {
        "id": "duGP7YFv9sWg"
      },
      "execution_count": null,
      "outputs": []
    },
    {
      "cell_type": "markdown",
      "source": [
        "25. Reverse a Tuple\n"
      ],
      "metadata": {
        "id": "zgkJJU_w9uNc"
      }
    },
    {
      "cell_type": "code",
      "source": [
        "def reverse_tuple(t):\n",
        "    return t[::-1]\n",
        "\n",
        "# Example usage\n",
        "tuple1 = (1, 2, 3, 4)\n",
        "print(reverse_tuple(tuple1))  # Output: (4, 3, 2, 1)"
      ],
      "metadata": {
        "id": "6I_fAGWL9vwU"
      },
      "execution_count": null,
      "outputs": []
    },
    {
      "cell_type": "markdown",
      "source": [
        "26. Convert a Set to a Sorted List\n"
      ],
      "metadata": {
        "id": "PYzoucE29xPT"
      }
    },
    {
      "cell_type": "code",
      "source": [
        "def sort_set_to_list(s):\n",
        "    return sorted(s)\n",
        "\n",
        "# Example usage\n",
        "set1 = {3, 1, 4, 2}\n",
        "print(sort_set_to_list(set1))  # Output: [1, 2, 3, 4]"
      ],
      "metadata": {
        "id": "ZJJGbgAh9y1z"
      },
      "execution_count": null,
      "outputs": []
    },
    {
      "cell_type": "markdown",
      "source": [
        "27. Convert a List to a Set\n"
      ],
      "metadata": {
        "id": "WmGwRroH91W2"
      }
    },
    {
      "cell_type": "code",
      "source": [
        "def list_to_set(lst):\n",
        "    return set(lst)\n",
        "\n",
        "# Example usage\n",
        "my_list = [1, 2, 2, 3, 3, 3]\n",
        "print(list_to_set(my_list))  # Output: {1, 2, 3}"
      ],
      "metadata": {
        "id": "i9dGQShS93ie"
      },
      "execution_count": null,
      "outputs": []
    },
    {
      "cell_type": "markdown",
      "source": [
        "28. Create a Tuple from Elements of a List\n"
      ],
      "metadata": {
        "id": "ec54G2SN95iC"
      }
    },
    {
      "cell_type": "code",
      "source": [
        "def list_to_tuple(lst):\n",
        "    return tuple(lst)\n",
        "\n",
        "# Example usage\n",
        "my_list = [1, 2, 3, 4]\n",
        "print(list_to_tuple(my_list))  # Output: (1, 2, 3, 4)"
      ],
      "metadata": {
        "id": "mwS3CyOz97Sk"
      },
      "execution_count": null,
      "outputs": []
    },
    {
      "cell_type": "markdown",
      "source": [
        "29. Check if a Given Key Exists in a Dictionary"
      ],
      "metadata": {
        "id": "pFbBOAqc-Ay2"
      }
    },
    {
      "cell_type": "code",
      "source": [
        "def key_exists(d, key):\n",
        "    return key in d\n",
        "\n",
        "# Example usage\n",
        "my_dict = {\"a\": 1, \"b\": 2}\n",
        "print(key_exists(my_dict, \"a\"))  # Output: True\n"
      ],
      "metadata": {
        "id": "HXY8_kmw9_Jk"
      },
      "execution_count": null,
      "outputs": []
    },
    {
      "cell_type": "markdown",
      "source": [
        "30. Print a Sorted List of Keys and Values of a Dictionary\n"
      ],
      "metadata": {
        "id": "Uaj-LzyD-Et7"
      }
    },
    {
      "cell_type": "code",
      "source": [
        "def sorted_dict(d):\n",
        "    return sorted(d.items())\n",
        "\n",
        "# Example usage\n",
        "my_dict = {\"b\": 2, \"a\": 1, \"c\": 3}\n",
        "print(sorted_dict(my_dict))  # Output: [('a', 1), ('b', 2), ('c', 3)]"
      ],
      "metadata": {
        "id": "SelZ3JH0-F-N"
      },
      "execution_count": null,
      "outputs": []
    },
    {
      "cell_type": "markdown",
      "source": [
        "31. Merge Two Dictionaries\n"
      ],
      "metadata": {
        "id": "QRE_YFJk-H1Y"
      }
    },
    {
      "cell_type": "code",
      "source": [
        "def merge_dictionaries(dict1, dict2):\n",
        "    return {**dict1, **dict2}\n",
        "\n",
        "# Example usage\n",
        "dict1 = {\"a\": 1, \"b\": 2}\n",
        "dict2 = {\"c\": 3, \"d\": 4}\n",
        "print(merge_dictionaries(dict1, dict2))  # Output: {'a': 1, 'b': 2, 'c': 3, 'd': 4}"
      ],
      "metadata": {
        "id": "myrv5nh6-Idl"
      },
      "execution_count": null,
      "outputs": []
    },
    {
      "cell_type": "markdown",
      "source": [
        "32. Remove a Specified Key from a Dictionary\n"
      ],
      "metadata": {
        "id": "QQmFgQiJ-KZH"
      }
    },
    {
      "cell_type": "code",
      "source": [
        "def remove_key(d, key):\n",
        "    if key in d:\n",
        "        del d[key]\n",
        "    return d\n",
        "\n",
        "# Example usage\n",
        "my_dict = {\"a\": 1, \"b\": 2, \"c\": 3}\n",
        "print(remove_key(my_dict, \"b\"))  # Output: {'a': 1, 'c': 3}"
      ],
      "metadata": {
        "id": "6-fv7xqK-L80"
      },
      "execution_count": null,
      "outputs": []
    },
    {
      "cell_type": "markdown",
      "source": [
        "33. Create a Dictionary from Two Lists\n"
      ],
      "metadata": {
        "id": "63cWdfFe-Noa"
      }
    },
    {
      "cell_type": "code",
      "source": [
        "def lists_to_dict(keys, values):\n",
        "    return dict(zip(keys, values))\n",
        "\n",
        "# Example usage\n",
        "keys = [\"name\", \"age\"]\n",
        "values = [\"John\", 25]\n",
        "print(lists_to_dict(keys, values))  # Output: {'name': 'John', 'age': 25}"
      ],
      "metadata": {
        "id": "vxHm2Zr_-O7w"
      },
      "execution_count": null,
      "outputs": []
    },
    {
      "cell_type": "markdown",
      "source": [
        "34. Count the Occurrences of Each Character in a String\n"
      ],
      "metadata": {
        "id": "HfRqS4ye-Qk_"
      }
    },
    {
      "cell_type": "code",
      "source": [
        "def count_characters(s):\n",
        "    return {char: s.count(char) for char in set(s)}\n",
        "\n",
        "# Example usage\n",
        "string = \"hello\"\n",
        "print(count_characters(string))  # Output: {'h': 1, 'e': 1, 'l': 2, 'o': 1}"
      ],
      "metadata": {
        "id": "aNnZYJk7-SOj"
      },
      "execution_count": null,
      "outputs": []
    },
    {
      "cell_type": "markdown",
      "source": [
        "35. Find the Maximum Value in a Dictionary\n"
      ],
      "metadata": {
        "id": "DrqzVWkZ-TyL"
      }
    },
    {
      "cell_type": "code",
      "source": [
        "def max_value_in_dict(d):\n",
        "    return max(d.values()) if d else None\n",
        "\n",
        "# Example usage\n",
        "my_dict = {\"a\": 5, \"b\": 2, \"c\": 8}\n",
        "print(max_value_in_dict(my_dict))  # Output: 8"
      ],
      "metadata": {
        "id": "mQUddzxV-Vem"
      },
      "execution_count": null,
      "outputs": []
    }
  ]
}