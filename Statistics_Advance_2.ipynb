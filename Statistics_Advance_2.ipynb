{
  "nbformat": 4,
  "nbformat_minor": 0,
  "metadata": {
    "colab": {
      "provenance": [],
      "authorship_tag": "ABX9TyPdMAbWtITloI6pSPHNpfjw",
      "include_colab_link": true
    },
    "kernelspec": {
      "name": "python3",
      "display_name": "Python 3"
    },
    "language_info": {
      "name": "python"
    }
  },
  "cells": [
    {
      "cell_type": "markdown",
      "metadata": {
        "id": "view-in-github",
        "colab_type": "text"
      },
      "source": [
        "<a href=\"https://colab.research.google.com/github/Prithivi1515/Demo/blob/main/Statistics_Advance_2.ipynb\" target=\"_parent\"><img src=\"https://colab.research.google.com/assets/colab-badge.svg\" alt=\"Open In Colab\"/></a>"
      ]
    },
    {
      "cell_type": "markdown",
      "source": [
        "Statistics Advance - 2"
      ],
      "metadata": {
        "id": "MBM1hGrCdDuC"
      }
    },
    {
      "cell_type": "markdown",
      "source": [
        "Question 1: Define the z-statistic and explain its relationship to the standard normal distribution. How is the z-statistic used in hypothesis testing?\n"
      ],
      "metadata": {
        "id": "f8vBXQmCdFHC"
      }
    },
    {
      "cell_type": "markdown",
      "source": [
        "Z-Statistic:\n",
        "\n",
        "Measures how many standard deviations a data point (or sample mean) is from the population mean.\n",
        "\n",
        "Relationship to Standard Normal Distribution:\n",
        "\n",
        "The z-statistic follows the standard normal distribution (\n",
        "N(0,1)) if the sample size is large or the population is normally distributed.\n",
        "\n",
        "Use in Hypothesis Testing:\n",
        "\n",
        "Used to determine if a sample mean is significantly different from a population mean.\n",
        "\n",
        "Compare the z-statistic to critical values or calculate the p-value to make a decision."
      ],
      "metadata": {
        "id": "_4eiAIf2dQsX"
      }
    },
    {
      "cell_type": "markdown",
      "source": [
        "Question 2: What is a p-value, and how is it used in hypothesis testing? What does it mean if the p-value is very small (e.g., 0.01)?\n"
      ],
      "metadata": {
        "id": "T3nUwExKdhEK"
      }
    },
    {
      "cell_type": "markdown",
      "source": [
        "P-Value:\n",
        "\n",
        "The probability of observing the test statistic (or more extreme) under the null hypothesis.\n",
        "\n",
        "Use in Hypothesis Testing:\n",
        "\n",
        "If p-value < significance level (\n",
        "α\n",
        "α), reject the null hypothesis.\n",
        "\n",
        "If p-value ≥\n",
        "α\n",
        "α, fail to reject the null hypothesis.\n",
        "\n",
        "Small P-Value (e.g., 0.01):\n",
        "\n",
        "Indicates strong evidence against the null hypothesis.\n",
        "\n",
        "Suggests the observed result is unlikely due to random chance."
      ],
      "metadata": {
        "id": "W-7pcBB_dkEo"
      }
    },
    {
      "cell_type": "markdown",
      "source": [
        "Question 3: Compare and contrast the binomial and Bernoulli distributions.\n"
      ],
      "metadata": {
        "id": "auOKIvWwdmxC"
      }
    },
    {
      "cell_type": "markdown",
      "source": [
        "Binomial Distribution:\n",
        "\n",
        "Models the number of successes in\n",
        "n\n",
        "n independent Bernoulli trials.\n",
        "\n",
        "Parameters:\n",
        "n\n",
        "n (number of trials) and\n",
        "p\n",
        "p (probability of success).\n",
        "\n",
        "Example: Number of heads in 10 coin flips.\n",
        "\n",
        "Bernoulli Distribution:\n",
        "\n",
        "Models a single trial with two outcomes (success/failure).\n",
        "\n",
        "Parameter:\n",
        "p\n",
        "p (probability of success).\n",
        "\n",
        "Example: A single coin flip.\n",
        "\n",
        "Comparison:\n",
        "\n",
        "Binomial is a generalization of Bernoulli for multiple trials.\n",
        "\n",
        "Bernoulli is a special case of Binomial with\n",
        "n=1."
      ],
      "metadata": {
        "id": "HCvECbizdohL"
      }
    },
    {
      "cell_type": "markdown",
      "source": [
        "Question 4: Under what conditions is the binomial distribution used, and how does it relate to the Bernoulli distribution?\n"
      ],
      "metadata": {
        "id": "HgiPI0okdtD3"
      }
    },
    {
      "cell_type": "markdown",
      "source": [
        "Conditions for Binomial Distribution:\n",
        "\n",
        "Fixed number of trials (\n",
        "n).\n",
        "\n",
        "Each trial has two outcomes (success/failure).\n",
        "\n",
        "Constant probability of success (\n",
        "p).\n",
        "\n",
        "Trials are independent.\n",
        "\n",
        "Relation to Bernoulli Distribution:\n",
        "\n",
        "The binomial distribution is the sum of\n",
        "n independent Bernoulli trials."
      ],
      "metadata": {
        "id": "EjM2y5x9dutj"
      }
    },
    {
      "cell_type": "markdown",
      "source": [
        "Question 5: What are the key properties of the Poisson distribution, and when is it appropriate to use this distribution?\n"
      ],
      "metadata": {
        "id": "Qs9sGu-Ddzno"
      }
    },
    {
      "cell_type": "markdown",
      "source": [
        "Properties of Poisson Distribution:\n",
        "\n",
        "Models the number of events in a fixed interval of time or space.\n",
        "\n",
        "Parameter:\n",
        "λ (average rate of occurrence).\n",
        "\n",
        "Discrete and non-negative.\n",
        "\n",
        "Mean = Variance =\n",
        "λ.\n",
        "\n",
        "When to Use:\n",
        "\n",
        "For rare events with a known average rate.\n",
        "\n",
        "Example: Number of emails received in an hour."
      ],
      "metadata": {
        "id": "Wk4BpXIvd1Sl"
      }
    },
    {
      "cell_type": "markdown",
      "source": [
        "Question 6: Define the terms \"probability distribution\" and \"probability density function\" (PDF). How does a PDF differ from a probability mass function (PMF)?\n"
      ],
      "metadata": {
        "id": "8J19y34Zd8g7"
      }
    },
    {
      "cell_type": "markdown",
      "source": [
        "Probability Distribution:\n",
        "\n",
        "Describes the probabilities of all possible outcomes of a random variable.\n",
        "\n",
        "Probability Density Function (PDF):\n",
        "\n",
        "Used for continuous random variables.\n",
        "\n",
        "Represents the relative likelihood of the variable taking on a specific value.\n",
        "\n",
        "Probability Mass Function (PMF):\n",
        "\n",
        "Used for discrete random variables.\n",
        "\n",
        "Represents the probability of the variable taking on a specific value.\n",
        "\n",
        "Difference:\n",
        "\n",
        "PDF gives the probability density, while PMF gives the actual probability."
      ],
      "metadata": {
        "id": "bg6fXK3SeDEp"
      }
    },
    {
      "cell_type": "markdown",
      "source": [
        "Question 7: Explain the Central Limit Theorem (CLT) with example.\n"
      ],
      "metadata": {
        "id": "WD7H-FiYeDzh"
      }
    },
    {
      "cell_type": "markdown",
      "source": [
        "Central Limit Theorem (CLT):\n",
        "\n",
        "States that the sampling distribution of the sample mean approaches a normal distribution as the sample size increases, regardless of the population distribution.\n",
        "\n",
        "Example: Rolling a die. The distribution of the average of 100 rolls will be approximately normal, even though the die itself is uniformly distributed.\n",
        "\n"
      ],
      "metadata": {
        "id": "zlDoRcA1eFav"
      }
    },
    {
      "cell_type": "markdown",
      "source": [
        "Question 8: Compare z-scores and t-scores. When should you use a z-score, and when should a t-score be applied instead?\n"
      ],
      "metadata": {
        "id": "SscwJnGzeHb1"
      }
    },
    {
      "cell_type": "markdown",
      "source": [
        "Z-Score:\n",
        "\n",
        "Used when the population standard deviation (\n",
        "σ) is known.\n",
        "\n",
        "Follows the standard normal distribution.\n",
        "\n",
        "T-Score:\n",
        "\n",
        "Used when\n",
        "σ is unknown and the sample size is small.\n",
        "\n",
        "Follows the t-distribution (heavier tails than the normal distribution).\n",
        "\n",
        "When to Use:\n",
        "\n",
        "Use z-score for large samples or known\n",
        "σ.\n",
        "\n",
        "Use t-score for small samples or unknown\n",
        "σ."
      ],
      "metadata": {
        "id": "qg0a-OHJeJF1"
      }
    },
    {
      "cell_type": "markdown",
      "source": [
        "Question 9: Given a sample mean of 105, a population mean of 100, a standard deviation of 15, and a sample size of 25, calculate the z-score and p-value. Based on a significance level of 0.05, do you reject or fail to reject the null hypothesis?\n"
      ],
      "metadata": {
        "id": "K6YZxOT2eUz5"
      }
    },
    {
      "cell_type": "code",
      "source": [
        "import scipy.stats as stats\n",
        "\n",
        "# Given data\n",
        "sample_mean = 105\n",
        "population_mean = 100\n",
        "std_dev = 15\n",
        "sample_size = 25\n",
        "\n",
        "# Calculate z-score\n",
        "z_score = (sample_mean - population_mean) / (std_dev / (sample_size ** 0.5))\n",
        "\n",
        "# Calculate p-value (two-tailed test)\n",
        "p_value = 2 * (1 - stats.norm.cdf(abs(z_score)))\n",
        "\n",
        "print(f\"Z-score: {z_score:.4f}\")\n",
        "print(f\"P-value: {p_value:.4f}\")\n",
        "\n",
        "# Hypothesis testing\n",
        "alpha = 0.05\n",
        "if p_value < alpha:\n",
        "    print(\"Reject the null hypothesis.\")\n",
        "else:\n",
        "    print(\"Fail to reject the null hypothesis.\")"
      ],
      "metadata": {
        "colab": {
          "base_uri": "https://localhost:8080/"
        },
        "id": "BO2KeDV4eXDs",
        "outputId": "9d8e5e87-b804-43b9-9819-06ccb821305d"
      },
      "execution_count": 1,
      "outputs": [
        {
          "output_type": "stream",
          "name": "stdout",
          "text": [
            "Z-score: 1.6667\n",
            "P-value: 0.0956\n",
            "Fail to reject the null hypothesis.\n"
          ]
        }
      ]
    },
    {
      "cell_type": "markdown",
      "source": [
        "Question 10: Simulate a binomial distribution with 10 trials and a probability of success of 0.6 using Python. Generate 1,000 samples and plot the distribution. What is the expected mean and variance?\n"
      ],
      "metadata": {
        "id": "HkcVgPa3ebs2"
      }
    },
    {
      "cell_type": "code",
      "source": [
        "import numpy as np\n",
        "import matplotlib.pyplot as plt\n",
        "\n",
        "# Parameters\n",
        "n = 10  # Number of trials\n",
        "p = 0.6  # Probability of success\n",
        "samples = 1000  # Number of samples\n",
        "\n",
        "# Simulate binomial distribution\n",
        "data = np.random.binomial(n, p, samples)\n",
        "\n",
        "# Plot the distribution\n",
        "plt.hist(data, bins=range(n+2), edgecolor='black', alpha=0.7)\n",
        "plt.xlabel(\"Number of Successes\")\n",
        "plt.ylabel(\"Frequency\")\n",
        "plt.title(\"Binomial Distribution Simulation\")\n",
        "plt.show()\n",
        "\n",
        "# Calculate mean and variance\n",
        "mean = np.mean(data)\n",
        "variance = np.var(data)\n",
        "\n",
        "print(f\"Expected Mean: {n * p}\")\n",
        "print(f\"Expected Variance: {n * p * (1 - p)}\")\n",
        "print(f\"Simulated Mean: {mean:.4f}\")\n",
        "print(f\"Simulated Variance: {variance:.4f}\")"
      ],
      "metadata": {
        "colab": {
          "base_uri": "https://localhost:8080/",
          "height": 541
        },
        "id": "l8A2p2uhexJ4",
        "outputId": "9d15c1cf-573d-46f4-f178-f2608749997c"
      },
      "execution_count": 2,
      "outputs": [
        {
          "output_type": "display_data",
          "data": {
            "text/plain": [
              "<Figure size 640x480 with 1 Axes>"
            ],
            "image/png": "[encoded data removed]"
          },
          "metadata": {}
        },
        {
          "output_type": "stream",
          "name": "stdout",
          "text": [
            "Expected Mean: 6.0\n",
            "Expected Variance: 2.4000000000000004\n",
            "Simulated Mean: 5.9490\n",
            "Simulated Variance: 2.3444\n"
          ]
        }
      ]
    }
  ]
}