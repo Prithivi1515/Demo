{
  "nbformat": 4,
  "nbformat_minor": 0,
  "metadata": {
    "colab": {
      "provenance": [],
      "authorship_tag": "ABX9TyPb+NB2Wk7brH/PVxnjt49g",
      "include_colab_link": true
    },
    "kernelspec": {
      "name": "python3",
      "display_name": "Python 3"
    },
    "language_info": {
      "name": "python"
    }
  },
  "cells": [
    {
      "cell_type": "markdown",
      "metadata": {
        "id": "view-in-github",
        "colab_type": "text"
      },
      "source": [
        "<a href=\"https://colab.research.google.com/github/Prithivi1515/Demo/blob/main/Statistics_Part_2.ipynb\" target=\"_parent\"><img src=\"https://colab.research.google.com/assets/colab-badge.svg\" alt=\"Open In Colab\"/></a>"
      ]
    },
    {
      "cell_type": "markdown",
      "source": [
        "Statistics Part 2"
      ],
      "metadata": {
        "id": "6NxUH7NFfLK2"
      }
    },
    {
      "cell_type": "markdown",
      "source": [
        "1. What is hypothesis testing in statistics?\n"
      ],
      "metadata": {
        "id": "yI_zjxG0fNsd"
      }
    },
    {
      "cell_type": "markdown",
      "source": [
        "Hypothesis testing is a statistical method used to make decisions or inferences about a population based on sample data. It involves testing a claim (hypothesis) about a population parameter (e.g., mean, proportion) using sample statistics."
      ],
      "metadata": {
        "id": "E0pYuxyvfVna"
      }
    },
    {
      "cell_type": "markdown",
      "source": [
        "2. What is the null hypothesis, and how does it differ from the alternative hypothesis?\n"
      ],
      "metadata": {
        "id": "4wZpn4kWfXgZ"
      }
    },
    {
      "cell_type": "markdown",
      "source": [
        "Null Hypothesis (\n",
        "H\n",
        "0\n",
        "​\n",
        " ): A statement of no effect or no difference. It is assumed true unless evidence suggests otherwise.\n",
        "\n",
        "Alternative Hypothesis (\n",
        "1\n",
        "​\n",
        "  or\n",
        "H\n",
        "a\n",
        "H\n",
        "a\n",
        "​\n",
        " ): A statement that contradicts the null hypothesis. It represents the effect or difference we want to test.\n",
        "\n",
        "Example:\n",
        "\n",
        "H\n",
        "0\n",
        "​\n",
        " : The mean height of men is 70 inches.\n",
        "\n",
        "H\n",
        "1\n",
        "​\n",
        " : The mean height of men is not 70 inches."
      ],
      "metadata": {
        "id": "5E_n_R7GfY-x"
      }
    },
    {
      "cell_type": "markdown",
      "source": [
        "3. What is the significance level in hypothesis testing, and why is it important?\n"
      ],
      "metadata": {
        "id": "gam9LJ23ffJ-"
      }
    },
    {
      "cell_type": "markdown",
      "source": [
        "Significance Level (\n",
        "α): The probability of rejecting the null hypothesis when it is true (Type I error). Common values are 0.05, 0.01, or 0.10.\n",
        "\n",
        "Importance: It sets the threshold for deciding whether the results are statistically significant."
      ],
      "metadata": {
        "id": "F0Zht2vbfhZ-"
      }
    },
    {
      "cell_type": "markdown",
      "source": [
        "4. What does a P-value represent in hypothesis testing?\n"
      ],
      "metadata": {
        "id": "2sHW8ALlfkMN"
      }
    },
    {
      "cell_type": "markdown",
      "source": [
        "P-value: The probability of observing the test statistic (or more extreme) under the null hypothesis.\n",
        "\n",
        "Interpretation: A small p-value (e.g., < 0.05) suggests strong evidence against the null hypothesis."
      ],
      "metadata": {
        "id": "DUljtvh2fltb"
      }
    },
    {
      "cell_type": "markdown",
      "source": [
        "5. How do you interpret the P-value in hypothesis testing?\n"
      ],
      "metadata": {
        "id": "fn3srq1lfo42"
      }
    },
    {
      "cell_type": "markdown",
      "source": [
        "If p-value <\n",
        "α, reject the null hypothesis.\n",
        "\n",
        "If p-value ≥\n",
        "α, fail to reject the null hypothesis."
      ],
      "metadata": {
        "id": "Y6LEoJ3Gfq26"
      }
    },
    {
      "cell_type": "markdown",
      "source": [
        "6. What are Type 1 and Type 2 errors in hypothesis testing?\n"
      ],
      "metadata": {
        "id": "zVIhLzZbft6_"
      }
    },
    {
      "cell_type": "markdown",
      "source": [
        "Type 1 Error: Rejecting the null hypothesis when it is true (false positive).\n",
        "\n",
        "Type 2 Error: Failing to reject the null hypothesis when it is false (false negative)."
      ],
      "metadata": {
        "id": "Hx1G0GTmfvZO"
      }
    },
    {
      "cell_type": "markdown",
      "source": [
        "7. What is the difference between a one-tailed and a two-tailed test in hypothesis testing?\n"
      ],
      "metadata": {
        "id": "3rigCX20fxIe"
      }
    },
    {
      "cell_type": "markdown",
      "source": [
        "One-Tailed Test: Tests for an effect in one direction (e.g., greater than or less than).\n",
        "\n",
        "Two-Tailed Test: Tests for an effect in both directions (e.g., not equal to)."
      ],
      "metadata": {
        "id": "26DQTBTpfy0J"
      }
    },
    {
      "cell_type": "markdown",
      "source": [
        "8. What is the Z-test, and when is it used in hypothesis testing?\n"
      ],
      "metadata": {
        "id": "W5b7YLtFf1Qp"
      }
    },
    {
      "cell_type": "markdown",
      "source": [
        "Z-test: A statistical test used to compare a sample mean to a population mean when the population standard deviation is known and the sample size is large.\n",
        "\n",
        "Use: For hypothesis testing about means or proportions."
      ],
      "metadata": {
        "id": "4aIOelZXf22N"
      }
    },
    {
      "cell_type": "markdown",
      "source": [
        "9. How do you calculate the Z-score, and what does it represent in hypothesis testing?\n"
      ],
      "metadata": {
        "id": "5BxlADqQf4Sn"
      }
    },
    {
      "cell_type": "markdown",
      "source": [
        "Formula:\n",
        "\n",
        "z\n",
        "=\n",
        "(x-μ)/σ/n\n",
        "\n",
        "where:\n",
        "\n",
        "x\n",
        "  = sample mean,\n",
        "\n",
        "μ = population mean,\n",
        "\n",
        "σ = population standard deviation,\n",
        "\n",
        "n = sample size.\n",
        "\n",
        "Represents: The number of standard deviations the sample mean is from the population mean."
      ],
      "metadata": {
        "id": "VriT7itWf9RU"
      }
    },
    {
      "cell_type": "markdown",
      "source": [
        "10. What is the T-distribution, and when should it be used instead of the normal distribution?\n"
      ],
      "metadata": {
        "id": "uMt8BTF9gTT_"
      }
    },
    {
      "cell_type": "markdown",
      "source": [
        "T-distribution: A probability distribution similar to the normal distribution but with heavier tails. It is used when the sample size is small and the population standard deviation is unknown.\n",
        "\n",
        "Use: For small samples or when\n",
        "σ is unknown."
      ],
      "metadata": {
        "id": "9PnTM_R7gVbc"
      }
    },
    {
      "cell_type": "markdown",
      "source": [
        "11. What is the difference between a Z-test and a T-test?\n"
      ],
      "metadata": {
        "id": "4BVVO7q5gX5D"
      }
    },
    {
      "cell_type": "markdown",
      "source": [
        "Z-test: Used when the population standard deviation is known and the sample size is large.\n",
        "\n",
        "T-test: Used when the population standard deviation is unknown and the sample size is small."
      ],
      "metadata": {
        "id": "JEEPYZHmgaH8"
      }
    },
    {
      "cell_type": "markdown",
      "source": [
        "12. What is the T-test, and how is it used in hypothesis testing?\n"
      ],
      "metadata": {
        "id": "QNXtG6KDgbxd"
      }
    },
    {
      "cell_type": "markdown",
      "source": [
        "T-test: A statistical test used to compare the means of two groups or a sample mean to a population mean when the population standard deviation is unknown.\n",
        "\n",
        "Types: One-sample, independent two-sample, and paired-sample t-tests."
      ],
      "metadata": {
        "id": "C8P56X1jgdfY"
      }
    },
    {
      "cell_type": "markdown",
      "source": [
        "13. What is the relationship between Z-test and T-test in hypothesis testing?\n"
      ],
      "metadata": {
        "id": "DilY4tlFgfJb"
      }
    },
    {
      "cell_type": "markdown",
      "source": [
        "Both are used to test hypotheses about means.\n",
        "\n",
        "Z-test is used for large samples or known\n",
        "σ, while T-test is used for small samples or unknown\n",
        "σ."
      ],
      "metadata": {
        "id": "YJXDoeGJghOw"
      }
    },
    {
      "cell_type": "markdown",
      "source": [
        "14. What is a confidence interval, and how is it used to interpret statistical results?\n"
      ],
      "metadata": {
        "id": "PeO73IfQgiri"
      }
    },
    {
      "cell_type": "markdown",
      "source": [
        "Confidence Interval: A range of values within which the true population parameter is expected to lie, with a certain level of confidence (e.g., 95%).\n",
        "\n",
        "Use: Provides an estimate of the precision and uncertainty of a sample statistic."
      ],
      "metadata": {
        "id": "wn_y1efggkXt"
      }
    },
    {
      "cell_type": "markdown",
      "source": [
        "15. What is the margin of error, and how does it affect the confidence interval?\n"
      ],
      "metadata": {
        "id": "5pdlx6QFgmOX"
      }
    },
    {
      "cell_type": "markdown",
      "source": [
        "Margin of Error: The range above and below the sample statistic in a confidence interval.\n",
        "\n",
        "Effect: A larger margin of error results in a wider confidence interval, indicating less precision."
      ],
      "metadata": {
        "id": "7gkw_KHxgoFu"
      }
    },
    {
      "cell_type": "markdown",
      "source": [
        "16. How is Bayes' Theorem used in statistics, and what is its significance?\n"
      ],
      "metadata": {
        "id": "jkvRDgU7gqFG"
      }
    },
    {
      "cell_type": "markdown",
      "source": [
        "Bayes' Theorem: Updates the probability of a hypothesis based on prior knowledge and new evidence.\n",
        "\n",
        "Use: In Bayesian statistics for parameter estimation, hypothesis testing, and decision-making."
      ],
      "metadata": {
        "id": "zJa1g4Pkgr6H"
      }
    },
    {
      "cell_type": "markdown",
      "source": [
        "17. What is the Chi-square distribution, and when is it used?\n"
      ],
      "metadata": {
        "id": "1MdOQF0Igt81"
      }
    },
    {
      "cell_type": "markdown",
      "source": [
        "Chi-square Distribution: A probability distribution used for hypothesis testing and confidence intervals for variance and categorical data.\n",
        "\n",
        "Use: In goodness-of-fit tests, tests of independence, and tests of homogeneity."
      ],
      "metadata": {
        "id": "OZJEoWBggvdT"
      }
    },
    {
      "cell_type": "markdown",
      "source": [
        "18. What is the Chi-square goodness of fit test, and how is it applied?\n"
      ],
      "metadata": {
        "id": "sslCN2MQgxT5"
      }
    },
    {
      "cell_type": "markdown",
      "source": [
        "Chi-square Goodness of Fit Test: Tests whether observed frequencies match expected frequencies under a specific distribution.\n",
        "\n",
        "Application: Used to test if a sample follows a hypothesized distribution."
      ],
      "metadata": {
        "id": "FPW7NJUXgyy_"
      }
    },
    {
      "cell_type": "markdown",
      "source": [
        "19. What is the F-distribution, and when is it used in hypothesis testing?\n"
      ],
      "metadata": {
        "id": "HekpezW4g0hy"
      }
    },
    {
      "cell_type": "markdown",
      "source": [
        "F-distribution: A probability distribution used to compare variances or test the overall significance of regression models.\n",
        "\n",
        "Use: In ANOVA and regression analysis."
      ],
      "metadata": {
        "id": "rDUo3-Zyg2Ag"
      }
    },
    {
      "cell_type": "markdown",
      "source": [
        "20. What is an ANOVA test, and what are its assumptions?\n"
      ],
      "metadata": {
        "id": "fDkhxvYEg4Xk"
      }
    },
    {
      "cell_type": "markdown",
      "source": [
        "ANOVA (Analysis of Variance): A statistical test used to compare the means of three or more groups.\n",
        "\n",
        "Assumptions:\n",
        "\n",
        "Normality: Data in each group is normally distributed.\n",
        "\n",
        "Homogeneity of Variance: Equal variances across groups.\n",
        "\n",
        "Independence: Observations are independent."
      ],
      "metadata": {
        "id": "j2jlkIYUg5uV"
      }
    },
    {
      "cell_type": "markdown",
      "source": [
        "21. What are the different types of ANOVA tests?\n"
      ],
      "metadata": {
        "id": "8eRJFS-vg7kE"
      }
    },
    {
      "cell_type": "markdown",
      "source": [
        "One-Way ANOVA: Compares means of three or more groups based on one factor.\n",
        "\n",
        "Two-Way ANOVA: Compares means based on two factors.\n",
        "\n",
        "Repeated Measures ANOVA: Used when the same subjects are measured multiple times."
      ],
      "metadata": {
        "id": "dV_VCo3Zg9Od"
      }
    },
    {
      "cell_type": "markdown",
      "source": [
        "22. What is the F-test, and how does it relate to hypothesis testing?\n"
      ],
      "metadata": {
        "id": "WGyoh0wTg-uw"
      }
    },
    {
      "cell_type": "markdown",
      "source": [
        "F-test: A statistical test used to compare variances or test the overall significance of a regression model.\n",
        "\n",
        "Relation to Hypothesis Testing: Used in ANOVA and regression to test hypotheses about group means or model fit."
      ],
      "metadata": {
        "id": "tn8XvRMehAT8"
      }
    },
    {
      "cell_type": "markdown",
      "source": [
        "Practical"
      ],
      "metadata": {
        "id": "uj9wCsUUhB58"
      }
    },
    {
      "cell_type": "markdown",
      "source": [
        "1. Write a Python program to perform a Z-test for comparing a sample mean to a known population mean and interpret the results.\n"
      ],
      "metadata": {
        "id": "Six__bHDhD9b"
      }
    },
    {
      "cell_type": "code",
      "source": [
        "import numpy as np\n",
        "import scipy.stats as stats\n",
        "\n",
        "# Sample data\n",
        "sample_data = [102, 104, 103, 105, 107, 106, 105, 104, 108, 106]\n",
        "population_mean = 100\n",
        "population_std = 5  # Known population standard deviation\n",
        "sample_size = len(sample_data)\n",
        "\n",
        "# Calculate sample mean\n",
        "sample_mean = np.mean(sample_data)\n",
        "\n",
        "# Perform Z-test\n",
        "z_score = (sample_mean - population_mean) / (population_std / np.sqrt(sample_size))\n",
        "p_value = 2 * (1 - stats.norm.cdf(abs(z_score)))  # Two-tailed test\n",
        "\n",
        "# Output results\n",
        "print(f\"Sample Mean: {sample_mean}\")\n",
        "print(f\"Z-score: {z_score:.4f}\")\n",
        "print(f\"P-value: {p_value:.4f}\")\n",
        "\n",
        "# Interpret results\n",
        "alpha = 0.05\n",
        "if p_value < alpha:\n",
        "    print(\"Reject the null hypothesis: The sample mean is significantly different from the population mean.\")\n",
        "else:\n",
        "    print(\"Fail to reject the null hypothesis: The sample mean is not significantly different from the population mean.\")"
      ],
      "metadata": {
        "colab": {
          "base_uri": "https://localhost:8080/"
        },
        "id": "kRW--uQJhTd7",
        "outputId": "4b0d2a33-5ed4-44f6-c654-0ed134ccc4cd"
      },
      "execution_count": 1,
      "outputs": [
        {
          "output_type": "stream",
          "name": "stdout",
          "text": [
            "Sample Mean: 105.0\n",
            "Z-score: 3.1623\n",
            "P-value: 0.0016\n",
            "Reject the null hypothesis: The sample mean is significantly different from the population mean.\n"
          ]
        }
      ]
    },
    {
      "cell_type": "markdown",
      "source": [
        "2. Simulate random data to perform hypothesis testing and calculate the corresponding P-value using Python.\n"
      ],
      "metadata": {
        "id": "EcJzhUCfhV5z"
      }
    },
    {
      "cell_type": "code",
      "source": [
        "import numpy as np\n",
        "import scipy.stats as stats\n",
        "\n",
        "# Simulate random data\n",
        "np.random.seed(42)\n",
        "sample_data = np.random.normal(loc=105, scale=10, size=30)  # Mean = 105, Std = 10\n",
        "population_mean = 100\n",
        "\n",
        "# Perform Z-test\n",
        "sample_mean = np.mean(sample_data)\n",
        "sample_std = np.std(sample_data, ddof=1)\n",
        "z_score = (sample_mean - population_mean) / (sample_std / np.sqrt(len(sample_data)))\n",
        "p_value = 2 * (1 - stats.norm.cdf(abs(z_score)))\n",
        "\n",
        "# Output results\n",
        "print(f\"Sample Mean: {sample_mean}\")\n",
        "print(f\"Z-score: {z_score:.4f}\")\n",
        "print(f\"P-value: {p_value:.4f}\")"
      ],
      "metadata": {
        "colab": {
          "base_uri": "https://localhost:8080/"
        },
        "id": "Mcge0EQihXpK",
        "outputId": "780fbc41-d253-4f93-9d4c-233c52069c4b"
      },
      "execution_count": 2,
      "outputs": [
        {
          "output_type": "stream",
          "name": "stdout",
          "text": [
            "Sample Mean: 103.11853104148962\n",
            "Z-score: 1.8979\n",
            "P-value: 0.0577\n"
          ]
        }
      ]
    },
    {
      "cell_type": "markdown",
      "source": [
        "3. Implement a one-sample Z-test using Python to compare the sample mean with the population mean.\n"
      ],
      "metadata": {
        "id": "JjEcN3nKhadd"
      }
    },
    {
      "cell_type": "code",
      "source": [
        "import numpy as np\n",
        "import scipy.stats as stats\n",
        "\n",
        "# Sample data\n",
        "sample_data = [98, 102, 104, 97, 100, 105, 103, 99, 101, 102]\n",
        "population_mean = 100\n",
        "population_std = 4  # Known population standard deviation\n",
        "\n",
        "# Perform Z-test\n",
        "sample_mean = np.mean(sample_data)\n",
        "z_score = (sample_mean - population_mean) / (population_std / np.sqrt(len(sample_data)))\n",
        "p_value = 2 * (1 - stats.norm.cdf(abs(z_score)))\n",
        "\n",
        "# Output results\n",
        "print(f\"Sample Mean: {sample_mean}\")\n",
        "print(f\"Z-score: {z_score:.4f}\")\n",
        "print(f\"P-value: {p_value:.4f}\")"
      ],
      "metadata": {
        "colab": {
          "base_uri": "https://localhost:8080/"
        },
        "id": "fvcDbuTohc9k",
        "outputId": "de6bda6c-0b3c-4716-9edd-a0f25f08e6bb"
      },
      "execution_count": 3,
      "outputs": [
        {
          "output_type": "stream",
          "name": "stdout",
          "text": [
            "Sample Mean: 101.1\n",
            "Z-score: 0.8696\n",
            "P-value: 0.3845\n"
          ]
        }
      ]
    },
    {
      "cell_type": "markdown",
      "source": [
        "4. Perform a two-tailed Z-test using Python and visualize the decision region on a plot.\n"
      ],
      "metadata": {
        "id": "hKarM3oHheLk"
      }
    },
    {
      "cell_type": "code",
      "source": [
        "import numpy as np\n",
        "import scipy.stats as stats\n",
        "import matplotlib.pyplot as plt\n",
        "\n",
        "# Sample data\n",
        "sample_data = [102, 104, 103, 105, 107, 106, 105, 104, 108, 106]\n",
        "population_mean = 100\n",
        "population_std = 5\n",
        "sample_size = len(sample_data)\n",
        "\n",
        "# Perform Z-test\n",
        "sample_mean = np.mean(sample_data)\n",
        "z_score = (sample_mean - population_mean) / (population_std / np.sqrt(sample_size))\n",
        "p_value = 2 * (1 - stats.norm.cdf(abs(z_score)))\n",
        "\n",
        "# Visualize decision region\n",
        "x = np.linspace(-4, 4, 1000)\n",
        "y = stats.norm.pdf(x)\n",
        "critical_z = stats.norm.ppf(0.975)  # Two-tailed critical value at alpha = 0.05\n",
        "\n",
        "plt.plot(x, y, label=\"Standard Normal Distribution\")\n",
        "plt.fill_between(x, y, where=(x >= critical_z) | (x <= -critical_z), color=\"red\", alpha=0.5, label=\"Rejection Region\")\n",
        "plt.axvline(z_score, color=\"blue\", linestyle=\"--\", label=\"Z-score\")\n",
        "plt.legend()\n",
        "plt.title(\"Two-Tailed Z-test Decision Region\")\n",
        "plt.xlabel(\"Z-score\")\n",
        "plt.ylabel(\"Density\")\n",
        "plt.show()"
      ],
      "metadata": {
        "colab": {
          "base_uri": "https://localhost:8080/",
          "height": 472
        },
        "id": "T0b7FVR3hgDe",
        "outputId": "aac6d147-40a0-4980-f385-26ed40940004"
      },
      "execution_count": 4,
      "outputs": [
        {
          "output_type": "display_data",
          "data": {
            "text/plain": [
              "<Figure size 640x480 with 1 Axes>"
            ],
            "image/png": "[encoded data removed]"
          },
          "metadata": {}
        }
      ]
    },
    {
      "cell_type": "markdown",
      "source": [
        "5. Create a Python function that calculates and visualizes Type 1 and Type 2 errors during hypothesis testing.\n"
      ],
      "metadata": {
        "id": "aRKetTnohiyb"
      }
    },
    {
      "cell_type": "code",
      "source": [
        "import numpy as np\n",
        "import scipy.stats as stats\n",
        "import matplotlib.pyplot as plt\n",
        "\n",
        "def plot_errors(true_mean, null_mean, std, sample_size, alpha=0.05):\n",
        "    # Generate sampling distributions\n",
        "    x = np.linspace(true_mean - 4 * std, true_mean + 4 * std, 1000)\n",
        "    null_dist = stats.norm.pdf(x, loc=null_mean, scale=std / np.sqrt(sample_size))\n",
        "    true_dist = stats.norm.pdf(x, loc=true_mean, scale=std / np.sqrt(sample_size))\n",
        "\n",
        "    # Critical value for null distribution\n",
        "    critical_z = stats.norm.ppf(1 - alpha / 2, loc=null_mean, scale=std / np.sqrt(sample_size))\n",
        "\n",
        "    # Plot distributions\n",
        "    plt.plot(x, null_dist, label=\"Null Distribution\")\n",
        "    plt.plot(x, true_dist, label=\"True Distribution\")\n",
        "\n",
        "    # Shade Type 1 and Type 2 error regions\n",
        "    plt.fill_between(x, null_dist, where=(x >= critical_z) | (x <= -critical_z), color=\"red\", alpha=0.5, label=\"Type 1 Error\")\n",
        "    plt.fill_between(x, true_dist, where=(x <= critical_z) & (x >= -critical_z), color=\"blue\", alpha=0.5, label=\"Type 2 Error\")\n",
        "\n",
        "    plt.legend()\n",
        "    plt.title(\"Type 1 and Type 2 Errors\")\n",
        "    plt.xlabel(\"Sample Mean\")\n",
        "    plt.ylabel(\"Density\")\n",
        "    plt.show()\n",
        "\n",
        "# Example usage\n",
        "plot_errors(true_mean=105, null_mean=100, std=10, sample_size=30)"
      ],
      "metadata": {
        "colab": {
          "base_uri": "https://localhost:8080/",
          "height": 472
        },
        "id": "IOOgR94LhmlE",
        "outputId": "7bed2960-776c-4f78-b5e2-5d7c004ab4e2"
      },
      "execution_count": 5,
      "outputs": [
        {
          "output_type": "display_data",
          "data": {
            "text/plain": [
              "<Figure size 640x480 with 1 Axes>"
            ],
            "image/png": "[encoded data removed]"
          },
          "metadata": {}
        }
      ]
    },
    {
      "cell_type": "markdown",
      "source": [
        "6. Write a Python program to perform an independent T-test and interpret the results.\n"
      ],
      "metadata": {
        "id": "3TUhPBb9ho03"
      }
    },
    {
      "cell_type": "code",
      "source": [
        "import numpy as np\n",
        "import scipy.stats as stats\n",
        "\n",
        "# Sample data for two groups\n",
        "group1 = [23, 25, 28, 30, 27]\n",
        "group2 = [20, 22, 25, 24, 23]\n",
        "\n",
        "# Perform independent T-test\n",
        "t_stat, p_value = stats.ttest_ind(group1, group2)\n",
        "\n",
        "# Output results\n",
        "print(f\"T-statistic: {t_stat:.4f}\")\n",
        "print(f\"P-value: {p_value:.4f}\")\n",
        "\n",
        "# Interpret results\n",
        "alpha = 0.05\n",
        "if p_value < alpha:\n",
        "    print(\"Reject the null hypothesis: The means of the two groups are significantly different.\")\n",
        "else:\n",
        "    print(\"Fail to reject the null hypothesis: The means of the two groups are not significantly different.\")"
      ],
      "metadata": {
        "colab": {
          "base_uri": "https://localhost:8080/"
        },
        "id": "vP6_WuF2hqXI",
        "outputId": "57b95f74-5235-46d3-e11b-90098582b301"
      },
      "execution_count": 6,
      "outputs": [
        {
          "output_type": "stream",
          "name": "stdout",
          "text": [
            "T-statistic: 2.5620\n",
            "P-value: 0.0335\n",
            "Reject the null hypothesis: The means of the two groups are significantly different.\n"
          ]
        }
      ]
    },
    {
      "cell_type": "markdown",
      "source": [
        "7. Perform a paired sample T-test using Python and visualize the comparison results.\n"
      ],
      "metadata": {
        "id": "M_d1Do3WhsKK"
      }
    },
    {
      "cell_type": "code",
      "source": [
        "import numpy as np\n",
        "import scipy.stats as stats\n",
        "import matplotlib.pyplot as plt\n",
        "\n",
        "# Paired sample data\n",
        "before = [72, 75, 70, 68, 74]\n",
        "after = [70, 73, 68, 67, 72]\n",
        "\n",
        "# Perform paired T-test\n",
        "t_stat, p_value = stats.ttest_rel(before, after)\n",
        "\n",
        "# Output results\n",
        "print(f\"T-statistic: {t_stat:.4f}\")\n",
        "print(f\"P-value: {p_value:.4f}\")\n",
        "\n",
        "# Visualize comparison\n",
        "plt.plot(before, label=\"Before\")\n",
        "plt.plot(after, label=\"After\")\n",
        "plt.legend()\n",
        "plt.title(\"Paired Sample Comparison\")\n",
        "plt.xlabel(\"Subject\")\n",
        "plt.ylabel(\"Score\")\n",
        "plt.show()"
      ],
      "metadata": {
        "colab": {
          "base_uri": "https://localhost:8080/",
          "height": 507
        },
        "id": "YOkPzrC7htrz",
        "outputId": "fc81b266-e5c2-46c9-ebb8-c06203ef2b05"
      },
      "execution_count": 7,
      "outputs": [
        {
          "output_type": "stream",
          "name": "stdout",
          "text": [
            "T-statistic: 9.0000\n",
            "P-value: 0.0008\n"
          ]
        },
        {
          "output_type": "display_data",
          "data": {
            "text/plain": [
              "<Figure size 640x480 with 1 Axes>"
            ],
            "image/png": "[encoded data removed]"
          },
          "metadata": {}
        }
      ]
    },
    {
      "cell_type": "markdown",
      "source": [
        "8. Simulate data and perform both Z-test and T-test, then compare the results using Python.\n"
      ],
      "metadata": {
        "id": "HduUqntnhwCj"
      }
    },
    {
      "cell_type": "code",
      "source": [
        "import numpy as np\n",
        "import scipy.stats as stats\n",
        "\n",
        "# Simulate data\n",
        "np.random.seed(42)\n",
        "sample_data = np.random.normal(loc=105, scale=10, size=30)  # Mean = 105, Std = 10\n",
        "population_mean = 100\n",
        "population_std = 10  # Known population standard deviation\n",
        "\n",
        "# Perform Z-test\n",
        "sample_mean = np.mean(sample_data)\n",
        "z_score = (sample_mean - population_mean) / (population_std / np.sqrt(len(sample_data)))\n",
        "p_value_z = 2 * (1 - stats.norm.cdf(abs(z_score)))\n",
        "\n",
        "# Perform T-test\n",
        "t_stat, p_value_t = stats.ttest_1samp(sample_data, population_mean)\n",
        "\n",
        "# Output results\n",
        "print(f\"Z-test: Z-score = {z_score:.4f}, P-value = {p_value_z:.4f}\")\n",
        "print(f\"T-test: T-statistic = {t_stat:.4f}, P-value = {p_value_t:.4f}\")\n",
        "\n",
        "# Compare results\n",
        "if p_value_z < 0.05:\n",
        "    print(\"Z-test: Reject the null hypothesis.\")\n",
        "else:\n",
        "    print(\"Z-test: Fail to reject the null hypothesis.\")\n",
        "\n",
        "if p_value_t < 0.05:\n",
        "    print(\"T-test: Reject the null hypothesis.\")\n",
        "else:\n",
        "    print(\"T-test: Fail to reject the null hypothesis.\")"
      ],
      "metadata": {
        "colab": {
          "base_uri": "https://localhost:8080/"
        },
        "id": "fg0WIzLdqfvC",
        "outputId": "35cf0ec6-678c-4161-807e-1c82e5953fb2"
      },
      "execution_count": 8,
      "outputs": [
        {
          "output_type": "stream",
          "name": "stdout",
          "text": [
            "Z-test: Z-score = 1.7081, P-value = 0.0876\n",
            "T-test: T-statistic = 1.8979, P-value = 0.0677\n",
            "Z-test: Fail to reject the null hypothesis.\n",
            "T-test: Fail to reject the null hypothesis.\n"
          ]
        }
      ]
    },
    {
      "cell_type": "markdown",
      "source": [
        "9. Write a Python function to calculate the confidence interval for a sample mean and explain its significance.\n"
      ],
      "metadata": {
        "id": "5cnlvQDrqjc5"
      }
    },
    {
      "cell_type": "code",
      "source": [
        "import numpy as np\n",
        "import scipy.stats as stats\n",
        "\n",
        "def confidence_interval(data, confidence=0.95):\n",
        "    sample_mean = np.mean(data)\n",
        "    sample_std = np.std(data, ddof=1)\n",
        "    sample_size = len(data)\n",
        "    margin_of_error = stats.t.ppf((1 + confidence) / 2, df=sample_size - 1) * (sample_std / np.sqrt(sample_size))\n",
        "    return (sample_mean - margin_of_error, sample_mean + margin_of_error)\n",
        "\n",
        "# Example usage\n",
        "sample_data = [102, 104, 103, 105, 107, 106, 105, 104, 108, 106]\n",
        "ci = confidence_interval(sample_data)\n",
        "print(f\"95% Confidence Interval: {ci}\")"
      ],
      "metadata": {
        "colab": {
          "base_uri": "https://localhost:8080/"
        },
        "id": "5IX8CgemqmDj",
        "outputId": "a2f19e57-8d90-4f31-e7bf-63783beb9406"
      },
      "execution_count": 9,
      "outputs": [
        {
          "output_type": "stream",
          "name": "stdout",
          "text": [
            "95% Confidence Interval: (103.69394295307694, 106.30605704692306)\n"
          ]
        }
      ]
    },
    {
      "cell_type": "markdown",
      "source": [
        "10. Write a Python program to calculate the margin of error for a given confidence level using sample data.\n"
      ],
      "metadata": {
        "id": "Mjb-Dphyqo8g"
      }
    },
    {
      "cell_type": "code",
      "source": [
        "import numpy as np\n",
        "import scipy.stats as stats\n",
        "\n",
        "def margin_of_error(data, confidence=0.95):\n",
        "    sample_std = np.std(data, ddof=1)\n",
        "    sample_size = len(data)\n",
        "    critical_value = stats.t.ppf((1 + confidence) / 2, df=sample_size - 1)\n",
        "    return critical_value * (sample_std / np.sqrt(sample_size))\n",
        "\n",
        "# Example usage\n",
        "sample_data = [102, 104, 103, 105, 107, 106, 105, 104, 108, 106]\n",
        "me = margin_of_error(sample_data)\n",
        "print(f\"Margin of Error: {me:.4f}\")"
      ],
      "metadata": {
        "colab": {
          "base_uri": "https://localhost:8080/"
        },
        "id": "Th4lQYfYqqZA",
        "outputId": "b162c132-8a56-495d-c64b-df56aec0035a"
      },
      "execution_count": 10,
      "outputs": [
        {
          "output_type": "stream",
          "name": "stdout",
          "text": [
            "Margin of Error: 1.3061\n"
          ]
        }
      ]
    },
    {
      "cell_type": "markdown",
      "source": [
        "11. Implement a Bayesian inference method using Bayes' Theorem in Python and explain the process.\n"
      ],
      "metadata": {
        "id": "23fb0Yi1qsJI"
      }
    },
    {
      "cell_type": "code",
      "source": [
        "# Bayesian inference example: Updating prior belief with new evidence\n",
        "def bayes_theorem(prior, likelihood, evidence):\n",
        "    return (prior * likelihood) / evidence\n",
        "\n",
        "# Example: Probability of having a disease given a positive test\n",
        "prior = 0.01  # Prevalence of the disease\n",
        "likelihood = 0.95  # True positive rate\n",
        "evidence = (prior * likelihood) + ((1 - prior) * 0.05)  # Total probability of a positive test\n",
        "\n",
        "posterior = bayes_theorem(prior, likelihood, evidence)\n",
        "print(f\"Posterior Probability: {posterior:.4f}\")"
      ],
      "metadata": {
        "colab": {
          "base_uri": "https://localhost:8080/"
        },
        "id": "6qirMPlTquLE",
        "outputId": "d79253ad-c763-4622-8b04-0562519ca607"
      },
      "execution_count": 11,
      "outputs": [
        {
          "output_type": "stream",
          "name": "stdout",
          "text": [
            "Posterior Probability: 0.1610\n"
          ]
        }
      ]
    },
    {
      "cell_type": "markdown",
      "source": [
        "12. Perform a Chi-square test for independence between two categorical variables in Python.\n"
      ],
      "metadata": {
        "id": "nULVS-P-qwSs"
      }
    },
    {
      "cell_type": "code",
      "source": [
        "import numpy as np\n",
        "import scipy.stats as stats\n",
        "\n",
        "# Contingency table\n",
        "observed = np.array([[30, 20], [15, 35]])\n",
        "\n",
        "# Perform Chi-square test\n",
        "chi2_stat, p_value, dof, expected = stats.chi2_contingency(observed)\n",
        "\n",
        "# Output results\n",
        "print(f\"Chi-square Statistic: {chi2_stat:.4f}\")\n",
        "print(f\"P-value: {p_value:.4f}\")\n",
        "print(f\"Degrees of Freedom: {dof}\")\n",
        "print(\"Expected Frequencies:\\n\", expected)"
      ],
      "metadata": {
        "colab": {
          "base_uri": "https://localhost:8080/"
        },
        "id": "7Zeji76TqyCE",
        "outputId": "5ec5a1a0-4c25-42ef-9b27-a9afda7cdbd7"
      },
      "execution_count": 12,
      "outputs": [
        {
          "output_type": "stream",
          "name": "stdout",
          "text": [
            "Chi-square Statistic: 7.9192\n",
            "P-value: 0.0049\n",
            "Degrees of Freedom: 1\n",
            "Expected Frequencies:\n",
            " [[22.5 27.5]\n",
            " [22.5 27.5]]\n"
          ]
        }
      ]
    },
    {
      "cell_type": "markdown",
      "source": [
        "13. Write a Python program to calculate the expected frequencies for a Chi-square test based on observed data.\n"
      ],
      "metadata": {
        "id": "A-XMnzG3q0GB"
      }
    },
    {
      "cell_type": "code",
      "source": [
        "import numpy as np\n",
        "import scipy.stats as stats\n",
        "\n",
        "# Observed data\n",
        "observed = np.array([[30, 20], [15, 35]])\n",
        "\n",
        "# Calculate expected frequencies\n",
        "row_totals = observed.sum(axis=1)\n",
        "col_totals = observed.sum(axis=0)\n",
        "total = observed.sum()\n",
        "expected = np.outer(row_totals, col_totals) / total\n",
        "\n",
        "print(\"Expected Frequencies:\\n\", expected)"
      ],
      "metadata": {
        "colab": {
          "base_uri": "https://localhost:8080/"
        },
        "id": "75rw9QoHq1xD",
        "outputId": "28fd3bc5-c4c7-423a-fb46-1847802e980d"
      },
      "execution_count": 13,
      "outputs": [
        {
          "output_type": "stream",
          "name": "stdout",
          "text": [
            "Expected Frequencies:\n",
            " [[22.5 27.5]\n",
            " [22.5 27.5]]\n"
          ]
        }
      ]
    },
    {
      "cell_type": "markdown",
      "source": [
        "14. Perform a goodness-of-fit test using Python to compare the observed data to an expected distribution.\n"
      ],
      "metadata": {
        "id": "un9elyuoq3b8"
      }
    },
    {
      "cell_type": "code",
      "source": [
        "import numpy as np\n",
        "import scipy.stats as stats\n",
        "\n",
        "# Observed and expected frequencies\n",
        "observed = np.array([30, 20, 15, 35])\n",
        "expected = np.array([25, 25, 25, 25])\n",
        "\n",
        "# Perform Chi-square goodness-of-fit test\n",
        "chi2_stat, p_value = stats.chisquare(observed, expected)\n",
        "\n",
        "# Output results\n",
        "print(f\"Chi-square Statistic: {chi2_stat:.4f}\")\n",
        "print(f\"P-value: {p_value:.4f}\")"
      ],
      "metadata": {
        "colab": {
          "base_uri": "https://localhost:8080/"
        },
        "id": "K9yKAAqhq49T",
        "outputId": "61fa0780-8f65-4dd8-9a16-0e6cf79250b5"
      },
      "execution_count": 14,
      "outputs": [
        {
          "output_type": "stream",
          "name": "stdout",
          "text": [
            "Chi-square Statistic: 10.0000\n",
            "P-value: 0.0186\n"
          ]
        }
      ]
    },
    {
      "cell_type": "markdown",
      "source": [
        "15. Create a Python script to simulate and visualize the Chi-square distribution and discuss its characteristics.\n"
      ],
      "metadata": {
        "id": "wSXoTibVq62h"
      }
    },
    {
      "cell_type": "code",
      "source": [
        "import numpy as np\n",
        "import matplotlib.pyplot as plt\n",
        "import scipy.stats as stats\n",
        "\n",
        "# Simulate Chi-square distribution\n",
        "df = 5  # Degrees of freedom\n",
        "x = np.linspace(0, 20, 1000)\n",
        "y = stats.chi2.pdf(x, df)\n",
        "\n",
        "# Plot\n",
        "plt.plot(x, y, label=f\"Chi-square (df={df})\")\n",
        "plt.title(\"Chi-square Distribution\")\n",
        "plt.xlabel(\"Value\")\n",
        "plt.ylabel(\"Density\")\n",
        "plt.legend()\n",
        "plt.show()"
      ],
      "metadata": {
        "colab": {
          "base_uri": "https://localhost:8080/",
          "height": 472
        },
        "id": "7xGdtY2Aq8QX",
        "outputId": "58182901-8f5e-470b-c930-f1c9f2c79169"
      },
      "execution_count": 15,
      "outputs": [
        {
          "output_type": "display_data",
          "data": {
            "text/plain": [
              "<Figure size 640x480 with 1 Axes>"
            ],
            "image/png": "[encoded data removed]"
          },
          "metadata": {}
        }
      ]
    },
    {
      "cell_type": "markdown",
      "source": [
        "16. Implement an F-test using Python to compare the variances of two random samples.\n"
      ],
      "metadata": {
        "id": "OrakGGUAq-qR"
      }
    },
    {
      "cell_type": "code",
      "source": [
        "import numpy as np\n",
        "import scipy.stats as stats\n",
        "\n",
        "# Sample data\n",
        "sample1 = [23, 25, 28, 30, 27]\n",
        "sample2 = [20, 22, 25, 24, 23]\n",
        "\n",
        "# Perform F-test\n",
        "f_stat = np.var(sample1, ddof=1) / np.var(sample2, ddof=1)\n",
        "df1 = len(sample1) - 1\n",
        "df2 = len(sample2) - 1\n",
        "p_value = 2 * min(stats.f.cdf(f_stat, df1, df2), 1 - stats.f.cdf(f_stat, df1, df2))\n",
        "\n",
        "# Output results\n",
        "print(f\"F-statistic: {f_stat:.4f}\")\n",
        "print(f\"P-value: {p_value:.4f}\")"
      ],
      "metadata": {
        "colab": {
          "base_uri": "https://localhost:8080/"
        },
        "id": "15hAZHe0rADN",
        "outputId": "fd9c7680-0982-4722-b0ae-64723cc91c91"
      },
      "execution_count": 16,
      "outputs": [
        {
          "output_type": "stream",
          "name": "stdout",
          "text": [
            "F-statistic: 1.9730\n",
            "P-value: 0.5266\n"
          ]
        }
      ]
    },
    {
      "cell_type": "markdown",
      "source": [
        "17. Write a Python program to perform an ANOVA test to compare means between multiple groups and interpret the results.\n"
      ],
      "metadata": {
        "id": "7xvD-C5xrBf4"
      }
    },
    {
      "cell_type": "code",
      "source": [
        "import numpy as np\n",
        "import scipy.stats as stats\n",
        "\n",
        "# Sample data for three groups\n",
        "group1 = [23, 25, 28, 30, 27]\n",
        "group2 = [20, 22, 25, 24, 23]\n",
        "group3 = [18, 20, 22, 21, 19]\n",
        "\n",
        "# Perform ANOVA\n",
        "f_stat, p_value = stats.f_oneway(group1, group2, group3)\n",
        "\n",
        "# Output results\n",
        "print(f\"F-statistic: {f_stat:.4f}\")\n",
        "print(f\"P-value: {p_value:.4f}\")\n",
        "\n",
        "# Interpret results\n",
        "if p_value < 0.05:\n",
        "    print(\"Reject the null hypothesis: At least one group mean is significantly different.\")\n",
        "else:\n",
        "    print(\"Fail to reject the null hypothesis: No significant difference between group means.\")"
      ],
      "metadata": {
        "colab": {
          "base_uri": "https://localhost:8080/"
        },
        "id": "L2LqOROwrC89",
        "outputId": "f8b99ec2-4722-4f94-e209-c43da89b7393"
      },
      "execution_count": 17,
      "outputs": [
        {
          "output_type": "stream",
          "name": "stdout",
          "text": [
            "F-statistic: 12.1926\n",
            "P-value: 0.0013\n",
            "Reject the null hypothesis: At least one group mean is significantly different.\n"
          ]
        }
      ]
    },
    {
      "cell_type": "markdown",
      "source": [
        "18. Perform a one-way ANOVA test using Python to compare the means of different groups and plot the results.\n"
      ],
      "metadata": {
        "id": "gDJPerPSrF81"
      }
    },
    {
      "cell_type": "code",
      "source": [
        "import numpy as np\n",
        "import scipy.stats as stats\n",
        "import matplotlib.pyplot as plt\n",
        "\n",
        "# Sample data for three groups\n",
        "group1 = [23, 25, 28, 30, 27]\n",
        "group2 = [20, 22, 25, 24, 23]\n",
        "group3 = [18, 20, 22, 21, 19]\n",
        "\n",
        "# Perform ANOVA\n",
        "f_stat, p_value = stats.f_oneway(group1, group2, group3)\n",
        "\n",
        "# Plot group means\n",
        "plt.boxplot([group1, group2, group3], labels=[\"Group 1\", \"Group 2\", \"Group 3\"])\n",
        "plt.title(\"One-Way ANOVA: Group Means Comparison\")\n",
        "plt.ylabel(\"Values\")\n",
        "plt.show()\n",
        "\n",
        "# Output results\n",
        "print(f\"F-statistic: {f_stat:.4f}\")\n",
        "print(f\"P-value: {p_value:.4f}\")"
      ],
      "metadata": {
        "colab": {
          "base_uri": "https://localhost:8080/",
          "height": 541
        },
        "id": "BxxqD7fzrGib",
        "outputId": "9f2aa0b1-bdc5-4980-d11c-df73590f1181"
      },
      "execution_count": 18,
      "outputs": [
        {
          "output_type": "stream",
          "name": "stderr",
          "text": [
            "<ipython-input-18-a8a2d8e3d366>:14: MatplotlibDeprecationWarning: The 'labels' parameter of boxplot() has been renamed 'tick_labels' since Matplotlib 3.9; support for the old name will be dropped in 3.11.\n",
            "  plt.boxplot([group1, group2, group3], labels=[\"Group 1\", \"Group 2\", \"Group 3\"])\n"
          ]
        },
        {
          "output_type": "display_data",
          "data": {
            "text/plain": [
              "<Figure size 640x480 with 1 Axes>"
            ],
            "image/png": "[encoded data removed]"
          },
          "metadata": {}
        },
        {
          "output_type": "stream",
          "name": "stdout",
          "text": [
            "F-statistic: 12.1926\n",
            "P-value: 0.0013\n"
          ]
        }
      ]
    },
    {
      "cell_type": "markdown",
      "source": [
        "19. Write a Python function to check the assumptions (normality, independence, and equal variance) for ANOVA.\n"
      ],
      "metadata": {
        "id": "ZHf6ElRJrIop"
      }
    },
    {
      "cell_type": "code",
      "source": [
        "import numpy as np\n",
        "import scipy.stats as stats\n",
        "\n",
        "def check_anova_assumptions(*groups):\n",
        "    # Normality test (Shapiro-Wilk)\n",
        "    for i, group in enumerate(groups):\n",
        "        stat, p = stats.shapiro(group)\n",
        "        print(f\"Group {i+1} - Shapiro-Wilk Test: Statistic = {stat:.4f}, P-value = {p:.4f}\")\n",
        "\n",
        "    # Equal variance test (Levene's Test)\n",
        "    stat, p = stats.levene(*groups)\n",
        "    print(f\"Levene's Test: Statistic = {stat:.4f}, P-value = {p:.4f}\")\n",
        "\n",
        "# Example usage\n",
        "group1 = [23, 25, 28, 30, 27]\n",
        "group2 = [20, 22, 25, 24, 23]\n",
        "group3 = [18, 20, 22, 21, 19]\n",
        "check_anova_assumptions(group1, group2, group3)"
      ],
      "metadata": {
        "colab": {
          "base_uri": "https://localhost:8080/"
        },
        "id": "H7daF-l9rLna",
        "outputId": "401468a8-e5f4-4929-afff-2b4898408aa3"
      },
      "execution_count": 19,
      "outputs": [
        {
          "output_type": "stream",
          "name": "stdout",
          "text": [
            "Group 1 - Shapiro-Wilk Test: Statistic = 0.9900, P-value = 0.9796\n",
            "Group 2 - Shapiro-Wilk Test: Statistic = 0.9787, P-value = 0.9276\n",
            "Group 3 - Shapiro-Wilk Test: Statistic = 0.9868, P-value = 0.9672\n",
            "Levene's Test: Statistic = 0.5778, P-value = 0.5760\n"
          ]
        }
      ]
    },
    {
      "cell_type": "markdown",
      "source": [
        "20. Perform a two-way ANOVA test using Python to study the interaction between two factors and visualize the results.\n"
      ],
      "metadata": {
        "id": "3Y7VaSr5rNNf"
      }
    },
    {
      "cell_type": "code",
      "source": [
        "import pandas as pd\n",
        "import statsmodels.api as sm\n",
        "from statsmodels.formula.api import ols\n",
        "\n",
        "# Create a DataFrame\n",
        "data = pd.DataFrame({\n",
        "    'Factor1': ['A', 'A', 'A', 'B', 'B', 'B', 'A', 'A', 'A', 'B', 'B', 'B'],\n",
        "    'Factor2': ['X', 'X', 'X', 'X', 'X', 'X', 'Y', 'Y', 'Y', 'Y', 'Y', 'Y'],\n",
        "    'Value': [23, 25, 28, 30, 27, 26, 20, 22, 24, 25, 23, 21]\n",
        "})\n",
        "\n",
        "# Perform two-way ANOVA\n",
        "model = ols('Value ~ C(Factor1) + C(Factor2) + C(Factor1):C(Factor2)', data=data).fit()\n",
        "anova_table = sm.stats.anova_lm(model, typ=2)\n",
        "\n",
        "# Output results\n",
        "print(anova_table)"
      ],
      "metadata": {
        "colab": {
          "base_uri": "https://localhost:8080/"
        },
        "id": "RzA2FidGrOjN",
        "outputId": "c4ed9516-57ca-458f-e169-7755e6b27b8b"
      },
      "execution_count": 20,
      "outputs": [
        {
          "output_type": "stream",
          "name": "stdout",
          "text": [
            "                          sum_sq   df          F    PR(>F)\n",
            "C(Factor1)              8.333333  1.0   1.785714  0.218208\n",
            "C(Factor2)             48.000000  1.0  10.285714  0.012478\n",
            "C(Factor1):C(Factor2)   1.333333  1.0   0.285714  0.607511\n",
            "Residual               37.333333  8.0        NaN       NaN\n"
          ]
        }
      ]
    }
  ]
}