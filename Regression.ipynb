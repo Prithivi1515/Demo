{
  "nbformat": 4,
  "nbformat_minor": 0,
  "metadata": {
    "colab": {
      "provenance": [],
      "authorship_tag": "ABX9TyNfC9OesfVl7+fLJnDQSvn0",
      "include_colab_link": true
    },
    "kernelspec": {
      "name": "python3",
      "display_name": "Python 3"
    },
    "language_info": {
      "name": "python"
    }
  },
  "cells": [
    {
      "cell_type": "markdown",
      "metadata": {
        "id": "view-in-github",
        "colab_type": "text"
      },
      "source": [
        "<a href=\"https://colab.research.google.com/github/Prithivi1515/Demo/blob/main/Regression.ipynb\" target=\"_parent\"><img src=\"https://colab.research.google.com/assets/colab-badge.svg\" alt=\"Open In Colab\"/></a>"
      ]
    },
    {
      "cell_type": "markdown",
      "source": [
        "Regression"
      ],
      "metadata": {
        "id": "YEUGiPRLz_Ja"
      }
    },
    {
      "cell_type": "markdown",
      "source": [
        "1. What is Simple Linear Regression?\n"
      ],
      "metadata": {
        "id": "SSBMGsOR0AXj"
      }
    },
    {
      "cell_type": "markdown",
      "source": [
        "Simple Linear Regression is a statistical method used to model the relationship between one independent variable (X) and one dependent variable (Y). The relationship is represented by the equation:\n",
        "\n",
        "\n",
        "Y=mX+c\n",
        "where:\n",
        "\n",
        "Y is the dependent variable,\n",
        "\n",
        "X is the independent variable,\n",
        "\n",
        "m is the slope (coefficient),\n",
        "\n",
        "c is the intercept."
      ],
      "metadata": {
        "id": "Yj5aDvSv0Dbt"
      }
    },
    {
      "cell_type": "markdown",
      "source": [
        "2. What are the key assumptions of Simple Linear Regression?\n"
      ],
      "metadata": {
        "id": "DuO_Dfwa0KFS"
      }
    },
    {
      "cell_type": "markdown",
      "source": [
        "Linearity: The relationship between\n",
        "X and\n",
        "Y is linear.\n",
        "\n",
        "Independence: Observations are independent of each other.\n",
        "\n",
        "Homoscedasticity: The variance of residuals is constant across all levels of\n",
        "X.\n",
        "\n",
        "Normality: Residuals are normally distributed.\n",
        "\n",
        "No multicollinearity: Only one independent variable is used (not applicable in SLR but important in MLR)."
      ],
      "metadata": {
        "id": "1khkrENv0Lkj"
      }
    },
    {
      "cell_type": "markdown",
      "source": [
        "3. What does the coefficient\n",
        "m represent in the equation\n",
        "Y=mX+c?"
      ],
      "metadata": {
        "id": "AfNPXY3R0PuX"
      }
    },
    {
      "cell_type": "markdown",
      "source": [
        "The coefficient\n",
        "m represents the slope of the regression line. It indicates the change in the dependent variable\n",
        "Y for a one-unit increase in the independent variable\n",
        "X."
      ],
      "metadata": {
        "id": "im2hHfnb0U0y"
      }
    },
    {
      "cell_type": "markdown",
      "source": [
        "4. What does the intercept\n",
        "c represent in the equation\n",
        "Y=mX+c?"
      ],
      "metadata": {
        "id": "8Wy-tSGZ0Xk2"
      }
    },
    {
      "cell_type": "markdown",
      "source": [
        "The intercept\n",
        "c represents the value of\n",
        "Y when\n",
        "X=0. It provides the baseline value of the dependent variable."
      ],
      "metadata": {
        "id": "RR-YR5mT0bBp"
      }
    },
    {
      "cell_type": "markdown",
      "source": [
        "5. How do we calculate the slope\n",
        "m in Simple Linear Regression?"
      ],
      "metadata": {
        "id": "64DfCjS90fVg"
      }
    },
    {
      "cell_type": "markdown",
      "source": [
        "m=\n",
        "\n",
        "\n",
        "∑(X\n",
        "i\n",
        "​\n",
        " −\n",
        "X\n",
        "ˉ\n",
        " )(Y\n",
        "i\n",
        "​\n",
        " −\n",
        "Y\n",
        "ˉ\n",
        " )\n",
        "​/∑(X\n",
        "i\n",
        "​\n",
        " −\n",
        "X\n",
        "ˉ\n",
        " )\n",
        "2\n",
        "\n",
        "\n",
        " where:\n",
        "\n",
        "X and\n",
        "Y are the data points\n",
        "𝑛\n",
        "n is the number of observations\n",
        "\n",
        "\n"
      ],
      "metadata": {
        "id": "HoV1dbmZ0kf_"
      }
    },
    {
      "cell_type": "markdown",
      "source": [
        "6. What is the purpose of the least squares method in Simple Linear Regression?\n"
      ],
      "metadata": {
        "id": "g_7dfULg01_c"
      }
    },
    {
      "cell_type": "markdown",
      "source": [
        "The least squares method minimizes the sum of squared residuals (differences between observed and predicted values) to find the best-fitting regression line."
      ],
      "metadata": {
        "id": "jEU_Bd7H04X4"
      }
    },
    {
      "cell_type": "markdown",
      "source": [
        "7. How is the coefficient of determination (\n",
        "R\n",
        "2\n",
        " ) interpreted in Simple Linear Regression?"
      ],
      "metadata": {
        "id": "7ZEjeq-a05vm"
      }
    },
    {
      "cell_type": "markdown",
      "source": [
        "R\n",
        "2\n",
        "  measures the proportion of variance in the dependent variable\n",
        "Y that is explained by the independent variable\n",
        "X. It ranges from 0 to 1, where:\n",
        "\n",
        "R\n",
        "2\n",
        " =1: Perfect fit (all variance explained),\n",
        "\n",
        "R\n",
        "2\n",
        " =0: No relationship."
      ],
      "metadata": {
        "id": "Z0dtO60X08ly"
      }
    },
    {
      "cell_type": "markdown",
      "source": [
        "8. What is Multiple Linear Regression?\n"
      ],
      "metadata": {
        "id": "auHy8D9T1DDI"
      }
    },
    {
      "cell_type": "markdown",
      "source": [
        "Multiple Linear Regression extends Simple Linear Regression by modeling the relationship between multiple independent variables and one dependent variable."
      ],
      "metadata": {
        "id": "zdzNQU4Q1EZF"
      }
    },
    {
      "cell_type": "markdown",
      "source": [
        "9. What is the main difference between Simple and Multiple Linear Regression?\n"
      ],
      "metadata": {
        "id": "g1TY80Rx1GS6"
      }
    },
    {
      "cell_type": "markdown",
      "source": [
        "Simple Linear Regression: One independent variable.\n",
        "\n",
        "Multiple Linear Regression: Two or more independent variables."
      ],
      "metadata": {
        "id": "gyGzYiZR1HsC"
      }
    },
    {
      "cell_type": "markdown",
      "source": [
        "10. What are the key assumptions of Multiple Linear Regression?\n"
      ],
      "metadata": {
        "id": "-vTjHK1S1JMp"
      }
    },
    {
      "cell_type": "markdown",
      "source": [
        "Linearity: Relationship between independent and dependent variables is linear.\n",
        "\n",
        "Independence: Observations are independent.\n",
        "\n",
        "Homoscedasticity: Constant variance of residuals.\n",
        "\n",
        "Normality: Residuals are normally distributed.\n",
        "\n",
        "No multicollinearity: Independent variables are not highly correlated."
      ],
      "metadata": {
        "id": "yBOfayJ21KlQ"
      }
    },
    {
      "cell_type": "markdown",
      "source": [
        "11. What is heteroscedasticity, and how does it affect the results of a Multiple Linear Regression model?\n"
      ],
      "metadata": {
        "id": "6dgOHq961MHh"
      }
    },
    {
      "cell_type": "markdown",
      "source": [
        "Heteroscedasticity: Non-constant variance of residuals across levels of independent variables.\n",
        "\n",
        "Effect: Leads to inefficient estimates and unreliable hypothesis tests."
      ],
      "metadata": {
        "id": "6Q-0NVyP1NY3"
      }
    },
    {
      "cell_type": "markdown",
      "source": [
        "12. How can you improve a Multiple Linear Regression model with high multicollinearity?\n"
      ],
      "metadata": {
        "id": "QMR48Se01PB2"
      }
    },
    {
      "cell_type": "markdown",
      "source": [
        "Remove highly correlated independent variables.\n",
        "\n",
        "Use dimensionality reduction techniques like PCA.\n",
        "\n",
        "Apply regularization methods (e.g., Ridge or Lasso Regression)."
      ],
      "metadata": {
        "id": "HrrdBeR81QTp"
      }
    },
    {
      "cell_type": "markdown",
      "source": [
        "13. What are some common techniques for transforming categorical variables for use in regression models?"
      ],
      "metadata": {
        "id": "Sk6Eid1p1RwV"
      }
    },
    {
      "cell_type": "markdown",
      "source": [
        "Label Encoding: Assigning integers to categories.\n",
        "\n",
        "One-Hot Encoding: Creating binary columns for each category.\n",
        "\n",
        "Ordinal Encoding: Assigning integers based on category order."
      ],
      "metadata": {
        "id": "NSCr5Ox31TU4"
      }
    },
    {
      "cell_type": "markdown",
      "source": [
        "14. What is the role of interaction terms in Multiple Linear Regression?\n"
      ],
      "metadata": {
        "id": "4uvuyvFY1VDI"
      }
    },
    {
      "cell_type": "markdown",
      "source": [
        "Interaction terms capture the combined effect of two or more independent variables on the dependent variable. For example,\n",
        "X\n",
        "1\n",
        "×\n",
        "X\n",
        "2."
      ],
      "metadata": {
        "id": "IqDdlnDP1WLo"
      }
    },
    {
      "cell_type": "markdown",
      "source": [
        "15. How can the interpretation of intercept differ between Simple and Multiple Linear Regression?\n"
      ],
      "metadata": {
        "id": "r55RMel41cXd"
      }
    },
    {
      "cell_type": "markdown",
      "source": [
        "In Simple Linear Regression, the intercept is the value of\n",
        "Y when\n",
        "X=0.\n",
        "\n",
        "In Multiple Linear Regression, the intercept is the value of\n",
        "Y when all independent variables are 0."
      ],
      "metadata": {
        "id": "vTlOdwBN1cul"
      }
    },
    {
      "cell_type": "markdown",
      "source": [
        "16. What is the significance of the slope in regression analysis, and how does it affect predictions?\n"
      ],
      "metadata": {
        "id": "ykULub011hiD"
      }
    },
    {
      "cell_type": "markdown",
      "source": [
        "The slope indicates the strength and direction of the relationship between variables. A larger slope means a stronger relationship, affecting predictions by determining how much\n",
        "Y changes with\n",
        "X."
      ],
      "metadata": {
        "id": "FnucueMX1kKu"
      }
    },
    {
      "cell_type": "markdown",
      "source": [
        "17. How does the intercept in a regression model provide context for the relationship between variables?"
      ],
      "metadata": {
        "id": "xiJ_HTCv1l6e"
      }
    },
    {
      "cell_type": "markdown",
      "source": [
        "The intercept provides a baseline value for\n",
        "Y when all independent variables are zero, helping to contextualize the starting point of the regression line."
      ],
      "metadata": {
        "id": "VZ1rXEkY1nR1"
      }
    },
    {
      "cell_type": "markdown",
      "source": [
        "18. What are the limitations of using\n",
        "R\n",
        "2\n",
        "  as a sole measure of model performance?"
      ],
      "metadata": {
        "id": "fZQvAIMM1p7n"
      }
    },
    {
      "cell_type": "markdown",
      "source": [
        "R\n",
        "2\n",
        "  does not indicate causality.\n",
        "\n",
        "It can be artificially inflated by adding more variables.\n",
        "\n",
        "It does not account for overfitting."
      ],
      "metadata": {
        "id": "zBus10GF1tMB"
      }
    },
    {
      "cell_type": "markdown",
      "source": [
        "19. How would you interpret a large standard error for a regression coefficient?\n"
      ],
      "metadata": {
        "id": "O068Y5OP1vbZ"
      }
    },
    {
      "cell_type": "markdown",
      "source": [
        "A large standard error indicates uncertainty in the estimate of the coefficient, suggesting that the variable may not be a significant predictor.\n",
        "\n"
      ],
      "metadata": {
        "id": "CdoAQteS1wnF"
      }
    },
    {
      "cell_type": "markdown",
      "source": [
        "20. How can heteroscedasticity be identified in residual plots, and why is it important to address it?\n"
      ],
      "metadata": {
        "id": "N4vSBwLC1yGn"
      }
    },
    {
      "cell_type": "markdown",
      "source": [
        "Identification: Residual plots show a funnel-shaped pattern.\n",
        "\n",
        "Importance: Heteroscedasticity violates regression assumptions, leading to unreliable results."
      ],
      "metadata": {
        "id": "NFBR6Afi10wY"
      }
    },
    {
      "cell_type": "markdown",
      "source": [
        "21. What does it mean if a Multiple Linear Regression model has a high\n",
        "R\n",
        "2\n",
        "\n",
        "  but low adjusted\n",
        "R\n",
        "2\n",
        " ?"
      ],
      "metadata": {
        "id": "ZBjg-keG11Rr"
      }
    },
    {
      "cell_type": "markdown",
      "source": [
        "It suggests that the model may be overfitted, with too many independent variables that do not significantly improve the model's predictive power.\n",
        "\n"
      ],
      "metadata": {
        "id": "Om9tl_ar14me"
      }
    },
    {
      "cell_type": "markdown",
      "source": [
        "22. Why is it Important to Scale Variables in Multiple Linear Regression?"
      ],
      "metadata": {
        "id": "MnGXbUdT16Ao"
      }
    },
    {
      "cell_type": "markdown",
      "source": [
        "Scaling is crucial in multiple linear regression to ensure that all features (variables) are on the same scale. This helps avoid issues where one feature may dominate the model due to larger values.\n",
        "Without scaling, the model may give biased coefficients because of the disparity in the range of values across the variables.\n",
        "Standardization (z-score) or Normalization can be used to scale variables."
      ],
      "metadata": {
        "id": "Rcs6tCK82IWP"
      }
    },
    {
      "cell_type": "markdown",
      "source": [
        "23. What is Polynomial Regression?"
      ],
      "metadata": {
        "id": "MUmzcatX2LNI"
      }
    },
    {
      "cell_type": "markdown",
      "source": [
        "Polynomial Regression is a type of regression where the relationship between the independent variable (X) and the dependent variable (Y) is modeled as an nth degree polynomial rather than a straight line.\n",
        "The goal is to capture more complex relationships in the data."
      ],
      "metadata": {
        "id": "YibMG2AK2SEi"
      }
    },
    {
      "cell_type": "markdown",
      "source": [
        "24. How Does Polynomial Regression Differ from Linear Regression?"
      ],
      "metadata": {
        "id": "9K4ddF2q2UGR"
      }
    },
    {
      "cell_type": "markdown",
      "source": [
        "Linear Regression models the relationship as a straight line (degree 1).\n",
        "\n",
        "Polynomial Regression models the relationship using polynomial functions, allowing for curves (degree > 1).\n",
        "In polynomial regression, higher-degree terms (such as X², X³) are added to the equation to better fit non-linear data.\n",
        "For example:\n",
        "Linear: Y = mX + c\n",
        "Polynomial: Y = a₀ + a₁X + a₂X² + a₃X³ + ..."
      ],
      "metadata": {
        "id": "qy71k5op2XRX"
      }
    },
    {
      "cell_type": "markdown",
      "source": [
        "25. When is Polynomial Regression Used?"
      ],
      "metadata": {
        "id": "Zm1ASeqM2ZSt"
      }
    },
    {
      "cell_type": "markdown",
      "source": [
        "Polynomial Regression is used when the relationship between X and Y is not linear, but follows a curved pattern.\n",
        "It's often used in cases such as:\n",
        "\n",
        "Stock market predictions\n",
        "\n",
        "\n",
        "Sales"
      ],
      "metadata": {
        "id": "PIbzhQTW2hKh"
      }
    },
    {
      "cell_type": "markdown",
      "source": [
        "26. What is the General Equation for Polynomial Regression?"
      ],
      "metadata": {
        "id": "AgCPXcZq2kz_"
      }
    },
    {
      "cell_type": "markdown",
      "source": [
        "The general equation for a polynomial regression with degree n is:\n",
        "\n",
        "Y=a\n",
        "0\n",
        "​\n",
        " +a\n",
        "1\n",
        "​\n",
        " X+a\n",
        "2\n",
        "​\n",
        " X\n",
        "2\n",
        " +a\n",
        "3\n",
        "​\n",
        " X\n",
        "3\n",
        " +⋯+a\n",
        "n\n",
        "​\n",
        " X\n",
        "n\n",
        "\n",
        "Where:\n",
        "\n",
        "𝑌\n",
        "Y is the dependent variable (output).\n",
        "𝑋\n",
        "X is the independent variable (input).\n",
        "𝑎\n",
        "0\n",
        ",\n",
        "𝑎\n",
        "1\n",
        ",\n",
        "𝑎\n",
        "2\n",
        ",\n",
        "…\n",
        ",\n",
        "𝑎\n",
        "𝑛\n",
        "a\n",
        "0\n",
        "​\n",
        " ,a\n",
        "1\n",
        "​\n",
        " ,a\n",
        "2\n",
        "​\n",
        " ,…,a\n",
        "n\n",
        "​\n",
        "  are the coefficients to be estimated.\n",
        "The higher the degree of the polynomial, the more complex the curve that the regression model can fit."
      ],
      "metadata": {
        "id": "plGetLH82t6O"
      }
    },
    {
      "cell_type": "markdown",
      "source": [
        "27. Can Polynomial Regression Be Applied to Multiple Variables?"
      ],
      "metadata": {
        "id": "J9VMMGYt21Sm"
      }
    },
    {
      "cell_type": "markdown",
      "source": [
        "Yes, Polynomial Regression can be extended to multiple variables.\n",
        "In this case, the model involves not just powers of a single variable but also interactions between multiple variables. For example, for two variables\n",
        "𝑋\n",
        "1\n",
        "X\n",
        "1\n",
        "​\n",
        "  and\n",
        "𝑋\n",
        "2\n",
        "X\n",
        "2\n",
        "​\n",
        " , the polynomial regression equation would look like:\n",
        "\n",
        "Y=a\n",
        "0\n",
        "​\n",
        " +a\n",
        "1\n",
        "​\n",
        " X\n",
        "1\n",
        "​\n",
        " +a\n",
        "2\n",
        "​\n",
        " X\n",
        "2\n",
        "​\n",
        " +a\n",
        "3\n",
        "​\n",
        " X\n",
        "1\n",
        "2\n",
        "​\n",
        " +a\n",
        "4\n",
        "​\n",
        " X\n",
        "2\n",
        "2\n",
        "​\n",
        " +a\n",
        "5\n",
        "​\n",
        " X\n",
        "1\n",
        "​\n",
        " X\n",
        "2\n",
        "​\n",
        " +…\n",
        "\n",
        "This allows capturing more complex relationships between the variables."
      ],
      "metadata": {
        "id": "YgeeDMqz24RA"
      }
    },
    {
      "cell_type": "markdown",
      "source": [
        "28. What are the Limitations of Polynomial Regression?"
      ],
      "metadata": {
        "id": "dSqPKbkp3Cg7"
      }
    },
    {
      "cell_type": "markdown",
      "source": [
        "* Overfitting: As you increase the degree of the polynomial, the model can fit the noise in the data rather than the actual underlying trend, leading to poor generalization.\n",
        "* Extrapolation Issues: Polynomial regression may not extrapolate well outside the range of the data, especially with high-degree polynomials.\n",
        "* Complexity: Higher degree polynomials result in complex models that may be difficult to interpret.\n",
        "* Multicollinearity: When higher powers of the same variable are included, they can become highly correlated, causing instability in the model."
      ],
      "metadata": {
        "id": "oJUBrdWR3FVe"
      }
    },
    {
      "cell_type": "markdown",
      "source": [
        "29. What Methods Can Be Used to Evaluate Model Fit When Selecting the Degree of a Polynomial?"
      ],
      "metadata": {
        "id": "cOJfoNwL3HAI"
      }
    },
    {
      "cell_type": "markdown",
      "source": [
        "* Cross-validation: Used to evaluate the model's performance on unseen data, helping to avoid overfitting.\n",
        "* Adjusted R²: Unlike R², which increases with the addition of more terms, adjusted R² adjusts for the number of predictors in the model.\n",
        "* AIC/BIC: Akaike Information Criterion (AIC) or Bayesian Information Criterion (BIC) can be used to compare models of different degrees, accounting for both goodness of fit and complexity."
      ],
      "metadata": {
        "id": "IGtEcvDp3Qfc"
      }
    },
    {
      "cell_type": "markdown",
      "source": [
        "30. Why is Visualization Important in Polynomial Regression?"
      ],
      "metadata": {
        "id": "3CQd17jT3Vdr"
      }
    },
    {
      "cell_type": "markdown",
      "source": [
        "Visualization helps in:\n",
        "\n",
        "Diagnosing model fit: You can visualize how well the polynomial fits the data by plotting the regression curve alongside the data points.\n",
        "\n",
        "Selecting degree: By plotting the relationship between the independent and dependent variables, you can visually identify whether the data follows a linear or polynomial pattern.\n",
        "\n",
        "Understanding trends: Visualization allows for clear identification of trends, including any overfitting or underfitting."
      ],
      "metadata": {
        "id": "NEfu5tI43Yli"
      }
    },
    {
      "cell_type": "markdown",
      "source": [
        "31.  How is Polynomial Regression Implemented in Python?"
      ],
      "metadata": {
        "id": "JPSp6OLx3bSl"
      }
    },
    {
      "cell_type": "markdown",
      "source": [
        "Polynomial regression in Python can be implemented using libraries such as NumPy, Scikit-learn, and Matplotlib. Here’s a general implementation using Scikit-learn:"
      ],
      "metadata": {
        "id": "aR4CQH7t3eIj"
      }
    },
    {
      "cell_type": "code",
      "source": [
        "import numpy as np\n",
        "import matplotlib.pyplot as plt\n",
        "from sklearn.linear_model import LinearRegression\n",
        "from sklearn.preprocessing import PolynomialFeatures\n",
        "\n",
        "# Sample data (X: feature, y: target)\n",
        "X = np.array([[1], [2], [3], [4], [5]])  # Example data\n",
        "y = np.array([1, 4, 9, 16, 25])  # Quadratic relationship (X^2)\n",
        "\n",
        "# Transform the features to include polynomial terms\n",
        "poly = PolynomialFeatures(degree=2)  # Degree of polynomial\n",
        "X_poly = poly.fit_transform(X)\n",
        "\n",
        "# Fit the polynomial regression model\n",
        "model = LinearRegression()\n",
        "model.fit(X_poly, y)\n",
        "\n",
        "# Predict and visualize\n",
        "y_pred = model.predict(X_poly)\n",
        "\n",
        "# Plotting\n",
        "plt.scatter(X, y, color='blue')\n",
        "plt.plot(X, y_pred, color='red')\n",
        "plt.title('Polynomial Regression (Degree = 2)')\n",
        "plt.xlabel('X')\n",
        "plt.ylabel('y')\n",
        "plt.show()\n"
      ],
      "metadata": {
        "colab": {
          "base_uri": "https://localhost:8080/",
          "height": 472
        },
        "id": "A1SIJMMq3hIZ",
        "outputId": "75195b1d-3cbf-43c7-9e81-03ba2cdc0a25"
      },
      "execution_count": 1,
      "outputs": [
        {
          "output_type": "display_data",
          "data": {
            "text/plain": [
              "<Figure size 640x480 with 1 Axes>"
            ],
            "image/png": "[encoded data removed]"
          },
          "metadata": {}
        }
      ]
    }
  ]
}