{
  "nbformat": 4,
  "nbformat_minor": 0,
  "metadata": {
    "colab": {
      "provenance": [],
      "authorship_tag": "ABX9TyMwzyOLPynzwZ+fXm1abYMS",
      "include_colab_link": true
    },
    "kernelspec": {
      "name": "python3",
      "display_name": "Python 3"
    },
    "language_info": {
      "name": "python"
    }
  },
  "cells": [
    {
      "cell_type": "markdown",
      "metadata": {
        "id": "view-in-github",
        "colab_type": "text"
      },
      "source": [
        "<a href=\"https://colab.research.google.com/github/Prithivi1515/Demo/blob/main/Statistics_Basics.ipynb\" target=\"_parent\"><img src=\"https://colab.research.google.com/assets/colab-badge.svg\" alt=\"Open In Colab\"/></a>"
      ]
    },
    {
      "cell_type": "markdown",
      "source": [
        "Statistics Basics"
      ],
      "metadata": {
        "id": "JyFV7BCIXVqh"
      }
    },
    {
      "cell_type": "markdown",
      "source": [
        "1. Explain the different types of data (qualitative and quantitative) and provide examples of each. Discuss nominal, ordinal, interval, and ratio scales.\n",
        "Types of Data:\n"
      ],
      "metadata": {
        "id": "DtO51cldXY50"
      }
    },
    {
      "cell_type": "markdown",
      "source": [
        "1. Qualitative Data (Categorical):\n",
        "\n",
        "Represents categories or labels.\n",
        "\n",
        "Examples: Gender (Male, Female), Colors (Red, Blue), Types of Cars (SUV, Sedan).\n",
        "\n",
        "2. Quantitative Data (Numerical):\n",
        "\n",
        "Represents measurable quantities.\n",
        "\n",
        "Examples: Height, Weight, Temperature, Age.\n",
        "\n",
        "Scales of Measurement:\n",
        "\n",
        "* Nominal Scale:\n",
        "\n",
        "Categories with no order or ranking.\n",
        "\n",
        "Example: Types of fruits (Apple, Banana, Orange).\n",
        "\n",
        "* Ordinal Scale:\n",
        "\n",
        "Categories with a meaningful order but no fixed difference between them.\n",
        "\n",
        "Example: Education level (High School, Bachelor’s, Master’s).\n",
        "\n",
        "* Interval Scale:\n",
        "\n",
        "Numerical data with equal intervals but no true zero point.\n",
        "\n",
        "Example: Temperature in Celsius (20°C, 30°C).\n",
        "\n",
        "* Ratio Scale:\n",
        "\n",
        "Numerical data with equal intervals and a true zero point.\n",
        "\n",
        "Example: Weight (0 kg, 5 kg, 10 kg)."
      ],
      "metadata": {
        "id": "Jx2Oxm6ZXtmi"
      }
    },
    {
      "cell_type": "markdown",
      "source": [
        "2. What are the measures of central tendency, and when should you use each? Discuss the mean, median, and mode with examples and situations where each is appropriate."
      ],
      "metadata": {
        "id": "U7vWBFyJXxXm"
      }
    },
    {
      "cell_type": "markdown",
      "source": [
        "Measures of Central Tendency:\n",
        "\n",
        "* Mean:\n",
        "\n",
        "The average of all data points.\n",
        "\n",
        "Use when data is symmetrically distributed.\n",
        "\n",
        "Example: Average salary of employees.\n",
        "\n",
        "* Median:\n",
        "\n",
        "The middle value when data is ordered.\n",
        "\n",
        "Use when data is skewed or has outliers.\n",
        "\n",
        "Example: Median income in a population.\n",
        "\n",
        "* Mode:\n",
        "\n",
        "The most frequently occurring value.\n",
        "\n",
        "Use for categorical data or to identify the most common value.\n",
        "\n",
        "Example: Most common shoe size in a store."
      ],
      "metadata": {
        "id": "BKb7Yu35YEOa"
      }
    },
    {
      "cell_type": "markdown",
      "source": [
        "3. Explain the concept of dispersion. How do variance and standard deviation measure the spread of data?"
      ],
      "metadata": {
        "id": "66bKSv_hYPYq"
      }
    },
    {
      "cell_type": "markdown",
      "source": [
        "Dispersion:\n",
        "\n",
        "Refers to how spread out the data points are.\n",
        "\n",
        "Variance: Measures the average squared deviation from the mean.\n",
        "\n",
        "Standard Deviation: The square root of variance; measures spread in the same units as the data.\n",
        "\n",
        "Example: A low standard deviation indicates data points are close to the mean, while a high standard deviation indicates they are spread out."
      ],
      "metadata": {
        "id": "GbkNAcSVYRfg"
      }
    },
    {
      "cell_type": "markdown",
      "source": [
        "4. What is a box plot, and what can it tell you about the distribution of data?"
      ],
      "metadata": {
        "id": "wx9ml_jvYUd0"
      }
    },
    {
      "cell_type": "markdown",
      "source": [
        "Box Plot:\n",
        "\n",
        "A graphical representation of data using quartiles.\n",
        "\n",
        "Shows:\n",
        "\n",
        "Median (middle line).\n",
        "\n",
        "Interquartile Range (IQR, the box).\n",
        "\n",
        "Outliers (points outside the whiskers).\n",
        "\n",
        "Example: A box plot can show if data is skewed or has outliers."
      ],
      "metadata": {
        "id": "RAgdDwsyYWtV"
      }
    },
    {
      "cell_type": "markdown",
      "source": [
        "5. Discuss the role of random sampling in making inferences about populations."
      ],
      "metadata": {
        "id": "v_OcOTmFYY_F"
      }
    },
    {
      "cell_type": "markdown",
      "source": [
        "Ensures every member of the population has an equal chance of being selected.\n",
        "\n",
        "Reduces bias and allows generalization of results to the population.\n",
        "\n",
        "Example: Polling a random sample of voters to predict election results."
      ],
      "metadata": {
        "id": "zy5U-IhbYbXT"
      }
    },
    {
      "cell_type": "markdown",
      "source": [
        "6. Explain the concept of skewness and its types. How does skewness affect the interpretation of data?"
      ],
      "metadata": {
        "id": "DGAfoyjHYdU7"
      }
    },
    {
      "cell_type": "markdown",
      "source": [
        "Skewness:\n",
        "\n",
        "Measures the asymmetry of a distribution.\n",
        "\n",
        "Types:\n",
        "\n",
        "Positive Skew: Tail on the right (mean > median).\n",
        "\n",
        "Negative Skew: Tail on the left (mean < median).\n",
        "\n",
        "Interpretation: Skewness affects the mean and can mislead interpretations if not accounted for."
      ],
      "metadata": {
        "id": "-NhxIC18YfXr"
      }
    },
    {
      "cell_type": "markdown",
      "source": [
        "7. What is the interquartile range (IQR), and how is it used to detect outliers?"
      ],
      "metadata": {
        "id": "QNZJeB00YhcM"
      }
    },
    {
      "cell_type": "markdown",
      "source": [
        "Interquartile Range (IQR):\n",
        "\n",
        "The range between the first quartile (Q1) and third quartile (Q3).\n",
        "\n",
        "Outlier Detection: Data points outside 1.5 × IQR from Q1 or Q3 are considered outliers.\n",
        "\n",
        "Example: In a dataset, if Q1 = 10 and Q3 = 20, IQR = 10. Outliers are below 10 - 15 = -5 or above 20 + 15 = 35."
      ],
      "metadata": {
        "id": "vp6TGGDgYjuh"
      }
    },
    {
      "cell_type": "markdown",
      "source": [
        "8. Discuss the conditions under which the binomial distribution is used.\n"
      ],
      "metadata": {
        "id": "EAWtxb4nYlcj"
      }
    },
    {
      "cell_type": "markdown",
      "source": [
        "Binomial Distribution:\n",
        "\n",
        "Used when:\n",
        "\n",
        "There are a fixed number of trials (n).\n",
        "\n",
        "Each trial has two outcomes (success/failure).\n",
        "\n",
        "Probability of success (p) is constant.\n",
        "\n",
        "Trials are independent.\n",
        "\n",
        "Example: Number of heads in 10 coin flips."
      ],
      "metadata": {
        "id": "Gnj5XR6FYoi1"
      }
    },
    {
      "cell_type": "markdown",
      "source": [
        "9. Explain the properties of the normal distribution and the empirical rule (68-95-99.7 rule).\n"
      ],
      "metadata": {
        "id": "1r2XBUH0Yqoi"
      }
    },
    {
      "cell_type": "markdown",
      "source": [
        "Normal Distribution:\n",
        "\n",
        "Symmetrical, bell-shaped curve.\n",
        "\n",
        "Mean = Median = Mode.\n",
        "\n",
        "Empirical Rule:\n",
        "\n",
        "68% of data within 1 standard deviation (σ) of the mean.\n",
        "\n",
        "95% within 2σ.\n",
        "\n",
        "99.7% within 3σ.\n",
        "\n",
        "Example: Heights of people in a population."
      ],
      "metadata": {
        "id": "dIEemyqQYsca"
      }
    },
    {
      "cell_type": "markdown",
      "source": [
        "10. Provide a real-life example of a Poisson process and calculate the probability for a specific event."
      ],
      "metadata": {
        "id": "PW5nvua6Yu1C"
      }
    },
    {
      "cell_type": "markdown",
      "source": [
        "Poisson Process:\n",
        "\n",
        "Models events occurring independently at a constant rate.\n",
        "\n",
        "Example: Number of emails received per hour.\n",
        "\n",
        "Calculation: If λ = 5 emails/hour, probability of receiving exactly 3 emails:"
      ],
      "metadata": {
        "id": "8ru8kAamYxiQ"
      }
    },
    {
      "cell_type": "markdown",
      "source": [
        "11. Explain what a random variable is and differentiate between discrete and continuous random variables."
      ],
      "metadata": {
        "id": "dIcwozGCY5Wk"
      }
    },
    {
      "cell_type": "markdown",
      "source": [
        "Random Variable:\n",
        "\n",
        "A variable whose possible values are outcomes of a random phenomenon.\n",
        "\n",
        "Discrete: Takes countable values (e.g., number of students).\n",
        "\n",
        "Continuous: Takes uncountable values (e.g., height, weight)."
      ],
      "metadata": {
        "id": "_yt4HkThY7Ky"
      }
    },
    {
      "cell_type": "markdown",
      "source": [
        "12. Provide an example dataset, calculate both covariance and correlation, and interpret the results."
      ],
      "metadata": {
        "id": "zpZsJ9JaY9DI"
      }
    },
    {
      "cell_type": "markdown",
      "source": [
        "Example Dataset:\n",
        "\n",
        "X = [1, 2, 3, 4, 5], Y = [2, 4, 5, 4, 5].\n",
        "\n",
        "Covariance: Measures how X and Y vary together.\n",
        "Cov(X,Y)=1.25\n",
        "\n",
        "Correlation: Standardized covariance (range: -1 to 1).\n",
        "Corr\n",
        "(\n",
        "X\n",
        ",\n",
        "Y\n",
        ")\n",
        "≈\n",
        "0.79.\n",
        "\n",
        "Interpretation: Positive correlation; as X increases, Y tends to increase."
      ],
      "metadata": {
        "id": "R0Xv-jVbY_ny"
      }
    }
  ]
}