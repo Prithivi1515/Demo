{
  "nbformat": 4,
  "nbformat_minor": 0,
  "metadata": {
    "colab": {
      "provenance": [],
      "authorship_tag": "ABX9TyMh1o0EGLz96ighGEVNtzOg",
      "include_colab_link": true
    },
    "kernelspec": {
      "name": "python3",
      "display_name": "Python 3"
    },
    "language_info": {
      "name": "python"
    }
  },
  "cells": [
    {
      "cell_type": "markdown",
      "metadata": {
        "id": "view-in-github",
        "colab_type": "text"
      },
      "source": [
        "<a href=\"https://colab.research.google.com/github/Prithivi1515/Demo/blob/main/Feature_Engineering.ipynb\" target=\"_parent\"><img src=\"https://colab.research.google.com/assets/colab-badge.svg\" alt=\"Open In Colab\"/></a>"
      ]
    },
    {
      "cell_type": "markdown",
      "source": [
        "Feature Engineering"
      ],
      "metadata": {
        "id": "OJkYNPpxkXR3"
      }
    },
    {
      "cell_type": "markdown",
      "source": [
        "1. What is a parameter?\n"
      ],
      "metadata": {
        "id": "eo96xqx2kZjV"
      }
    },
    {
      "cell_type": "markdown",
      "source": [
        "A parameter is a configuration variable that is internal to the model and whose value is learned from the data during training. Parameters are not set manually but are optimized by the algorithm. Examples include weights in linear regression or coefficients in a neural network.\n",
        "\n"
      ],
      "metadata": {
        "id": "pEECApQtkbbG"
      }
    },
    {
      "cell_type": "markdown",
      "source": [
        "2. What is correlation?\n",
        "What does negative correlation mean?\n"
      ],
      "metadata": {
        "id": "GPuqTj7dkcof"
      }
    },
    {
      "cell_type": "markdown",
      "source": [
        "Correlation is a statistical measure that describes the extent to which two variables change together. It ranges from -1 to +1, where:\n",
        "\n",
        "+1 indicates a perfect positive correlation,\n",
        "\n",
        "-1 indicates a perfect negative correlation,\n",
        "\n",
        "0 indicates no correlation.\n",
        "\n",
        "Negative correlation means that as one variable increases, the other variable decreases. For example, the amount of time spent studying and the number of errors in an exam might have a negative correlation.\n"
      ],
      "metadata": {
        "id": "ZadscpjhkeCa"
      }
    },
    {
      "cell_type": "markdown",
      "source": [
        "3. Define Machine Learning. What are the main components in Machine Learning?\n"
      ],
      "metadata": {
        "id": "1WAgO6bjkjWS"
      }
    },
    {
      "cell_type": "markdown",
      "source": [
        "Machine Learning (ML) is a subset of artificial intelligence that involves training algorithms to learn patterns from data and make predictions or decisions without being explicitly programmed.\n",
        "\n",
        "Main components:\n",
        "\n",
        "Data: The input dataset used for training and testing.\n",
        "\n",
        "Model: The algorithm used to learn from the data.\n",
        "\n",
        "Training: The process of fitting the model to the data.\n",
        "\n",
        "Evaluation: Assessing the model's performance using metrics.\n",
        "\n",
        "Prediction: Using the model to make predictions on new data."
      ],
      "metadata": {
        "id": "-e1SILzIklYC"
      }
    },
    {
      "cell_type": "markdown",
      "source": [
        "4. How does loss value help in determining whether the model is good or not?\n"
      ],
      "metadata": {
        "id": "wpPQq3j_knT5"
      }
    },
    {
      "cell_type": "markdown",
      "source": [
        "The loss value measures how well the model's predictions match the actual values. A lower loss value indicates better performance. During training, the goal is to minimize the loss value, which means the model is learning effectively.\n",
        "\n"
      ],
      "metadata": {
        "id": "gy3ESZc1koqX"
      }
    },
    {
      "cell_type": "markdown",
      "source": [
        "5. What are continuous and categorical variables?\n"
      ],
      "metadata": {
        "id": "tp2t4d3fkqJ-"
      }
    },
    {
      "cell_type": "markdown",
      "source": [
        "Continuous variables: Numerical variables that can take any value within a range (e.g., age, temperature).\n",
        "\n",
        "Categorical variables: Variables that represent discrete categories or groups (e.g., gender, color)."
      ],
      "metadata": {
        "id": "1oPdJWE8kriK"
      }
    },
    {
      "cell_type": "markdown",
      "source": [
        "6. How do we handle categorical variables in Machine Learning? What are the common techniques?\n"
      ],
      "metadata": {
        "id": "pfzT6X_xkuqC"
      }
    },
    {
      "cell_type": "markdown",
      "source": [
        "Categorical variables need to be converted into numerical format for ML algorithms. Common techniques include:\n",
        "\n",
        "Label Encoding: Assigning a unique integer to each category.\n",
        "\n",
        "One-Hot Encoding: Creating binary columns for each category.\n",
        "\n",
        "Ordinal Encoding: Assigning integers based on the order of categories (for ordinal data)."
      ],
      "metadata": {
        "id": "21yHr4HvlJ5r"
      }
    },
    {
      "cell_type": "markdown",
      "source": [
        "7. What do you mean by training and testing a dataset?\n"
      ],
      "metadata": {
        "id": "7oWAjvBwlKlA"
      }
    },
    {
      "cell_type": "markdown",
      "source": [
        "Training: The process of fitting a model to a dataset to learn patterns.\n",
        "\n",
        "Testing: Evaluating the model's performance on unseen data to assess its generalization ability."
      ],
      "metadata": {
        "id": "CC25uQp8lUc1"
      }
    },
    {
      "cell_type": "markdown",
      "source": [
        "8. What is sklearn.preprocessing?\n"
      ],
      "metadata": {
        "id": "7G5cFkD4lXNL"
      }
    },
    {
      "cell_type": "markdown",
      "source": [
        "sklearn.preprocessing is a module in the Scikit-Learn library that provides tools for data preprocessing, such as scaling, encoding, and normalization."
      ],
      "metadata": {
        "id": "rl1CoH4hlZaO"
      }
    },
    {
      "cell_type": "markdown",
      "source": [
        "9. What is a Test set?\n"
      ],
      "metadata": {
        "id": "rl2PEt5wlbmf"
      }
    },
    {
      "cell_type": "markdown",
      "source": [
        "A test set is a portion of the dataset that is held back during training and used to evaluate the model's performance on unseen data.\n",
        "\n"
      ],
      "metadata": {
        "id": "9J9RjmN0lyCx"
      }
    },
    {
      "cell_type": "markdown",
      "source": [
        "10. How do we split data for model fitting (training and testing) in Python? How do you approach a Machine Learning problem?\n",
        "\n"
      ],
      "metadata": {
        "id": "poqaTBbml0l-"
      }
    },
    {
      "cell_type": "markdown",
      "source": [
        "Use the train_test_split function from sklearn.model_selection:\n",
        "\n",
        "from sklearn.model_selection import train_test_split\n",
        "X_train, X_test, y_train, y_test = train_test_split(X, y, test_size=0.2, random_state=42)\n",
        "\n",
        "Define the problem and objectives.\n",
        "\n",
        "Collect and preprocess data.\n",
        "\n",
        "Perform Exploratory Data Analysis (EDA).\n",
        "\n",
        "Split the data into training and testing sets.\n",
        "\n",
        "Select and train a model.\n",
        "\n",
        "Evaluate the model.\n",
        "\n",
        "Tune hyperparameters and improve the model.\n",
        "\n",
        "Deploy the model and monitor its performance."
      ],
      "metadata": {
        "id": "hKvhzRUol13t"
      }
    },
    {
      "cell_type": "markdown",
      "source": [
        "11. Why do we have to perform EDA before fitting a model to the data?\n"
      ],
      "metadata": {
        "id": "qi4DBglKl51W"
      }
    },
    {
      "cell_type": "markdown",
      "source": [
        "Exploratory Data Analysis (EDA) helps to:\n",
        "\n",
        "Understand the data distribution.\n",
        "\n",
        "Identify missing values, outliers, and anomalies.\n",
        "\n",
        "Discover relationships between variables.\n",
        "\n",
        "Guide feature engineering and model selection."
      ],
      "metadata": {
        "id": "3k-2tL7omarX"
      }
    },
    {
      "cell_type": "markdown",
      "source": [
        "12. What is correlation?\n"
      ],
      "metadata": {
        "id": "032ZZrH5mezd"
      }
    },
    {
      "cell_type": "markdown",
      "source": [
        "Correlation is a statistical measure that describes the extent to which two variables change together. It ranges from -1 to +1, where:\n",
        "\n",
        "+1 indicates a perfect positive correlation,\n",
        "\n",
        "-1 indicates a perfect negative correlation,\n",
        "\n",
        "0 indicates no correlation."
      ],
      "metadata": {
        "id": "Kq-a-WysmgCL"
      }
    },
    {
      "cell_type": "markdown",
      "source": [
        "13. What does negative correlation mean?\n"
      ],
      "metadata": {
        "id": "Zni1MEo4mkPQ"
      }
    },
    {
      "cell_type": "markdown",
      "source": [
        "Negative correlation means that as one variable increases, the other variable decreases. For example, the amount of time spent studying and the number of errors in an exam might have a negative correlation.\n"
      ],
      "metadata": {
        "id": "CTDCw22bmmhu"
      }
    },
    {
      "cell_type": "markdown",
      "source": [
        "14. How can you find correlation between variables in Python?\n"
      ],
      "metadata": {
        "id": "okbuaAmMmqmO"
      }
    },
    {
      "cell_type": "markdown",
      "source": [
        "Use the corr() function in Pandas:\n",
        "\n",
        "import pandas as pd\n",
        "\n",
        "data = pd.DataFrame({'X': [1, 2, 3], 'Y': [4, 5, 6]})\n",
        "\n",
        "correlation_matrix = data.corr()\n",
        "\n",
        "print(correlation_matrix)"
      ],
      "metadata": {
        "id": "o6KiwDAXmtxv"
      }
    },
    {
      "cell_type": "markdown",
      "source": [
        "15. What is causation? Explain difference between correlation and causation with an example.\n"
      ],
      "metadata": {
        "id": "S40m9aC_mynZ"
      }
    },
    {
      "cell_type": "markdown",
      "source": [
        "Causation: A relationship where one event is the result of the occurrence of another event.\n",
        "\n",
        "Correlation vs. Causation: Correlation does not imply causation. For example, ice cream sales and drowning incidents may be correlated (both increase in summer), but one does not cause the other."
      ],
      "metadata": {
        "id": "1liHfGV7m2k0"
      }
    },
    {
      "cell_type": "markdown",
      "source": [
        "16. What is an Optimizer? What are different types of optimizers? Explain each with an example."
      ],
      "metadata": {
        "id": "P3R6NKJGm4Uh"
      }
    },
    {
      "cell_type": "markdown",
      "source": [
        "An optimizer is an algorithm used to minimize the loss function during model training. Common optimizers include:\n",
        "\n",
        "Gradient Descent: Iteratively adjusts parameters to minimize loss.\n",
        "\n",
        "Adam: Combines the benefits of AdaGrad and RMSProp.\n",
        "\n",
        "RMSProp: Adapts the learning rate based on the magnitude of gradients."
      ],
      "metadata": {
        "id": "oBknQxqJm7Yr"
      }
    },
    {
      "cell_type": "markdown",
      "source": [
        "17. What is sklearn.linear_model?\n"
      ],
      "metadata": {
        "id": "1WATgEPqm9xC"
      }
    },
    {
      "cell_type": "markdown",
      "source": [
        "sklearn.linear_model is a Scikit-Learn module that provides linear models for regression and classification, such as Linear Regression, Logistic Regression, and Ridge Regression."
      ],
      "metadata": {
        "id": "HI09hvIbnAuB"
      }
    },
    {
      "cell_type": "markdown",
      "source": [
        "18. What does model.fit() do? What arguments must be given?"
      ],
      "metadata": {
        "id": "tpOXsXcTnCaX"
      }
    },
    {
      "cell_type": "markdown",
      "source": [
        "model.fit() trains the model on the training data. Arguments:\n",
        "\n",
        "X_train: Features of the training data.\n",
        "\n",
        "y_train: Target labels of the training data."
      ],
      "metadata": {
        "id": "aXcXBpbcnE57"
      }
    },
    {
      "cell_type": "markdown",
      "source": [
        "19. What does model.predict() do? What arguments must be given?"
      ],
      "metadata": {
        "id": "Evos6lNunG-D"
      }
    },
    {
      "cell_type": "markdown",
      "source": [
        "model.predict() generates predictions for new data. Arguments:\n",
        "\n",
        "X_test: Features of the test data."
      ],
      "metadata": {
        "id": "92WJpSGKnJMG"
      }
    },
    {
      "cell_type": "markdown",
      "source": [
        "20. What are continuous and categorical variables?"
      ],
      "metadata": {
        "id": "_rLRjEAMnKgG"
      }
    },
    {
      "cell_type": "markdown",
      "source": [
        "Continuous variables: Numerical variables that can take any value within a range (e.g., age, temperature).\n",
        "\n",
        "Categorical variables: Variables that represent discrete categories or groups (e.g., gender, color)."
      ],
      "metadata": {
        "id": "Y0SvUQofnMiX"
      }
    },
    {
      "cell_type": "markdown",
      "source": [
        "21. What is feature scaling? How does it help in Machine Learning?"
      ],
      "metadata": {
        "id": "neR-mVCinPiS"
      }
    },
    {
      "cell_type": "markdown",
      "source": [
        "Feature scaling is the process of normalizing or standardizing the range of features. It helps:\n",
        "\n",
        "Improve convergence speed in gradient-based algorithms.\n",
        "\n",
        "Ensure that features contribute equally to the model.\n",
        "\n",
        "Common techniques:\n",
        "\n",
        "Normalization: Scaling features to a range (e.g., [0, 1]).\n",
        "\n",
        "Standardization: Scaling features to have a mean of 0 and a standard deviation of 1."
      ],
      "metadata": {
        "id": "3nds2-S_nTXM"
      }
    },
    {
      "cell_type": "markdown",
      "source": [
        "22. How do we perform scaling in Python?"
      ],
      "metadata": {
        "id": "jMFJQC1snVSc"
      }
    },
    {
      "cell_type": "markdown",
      "source": [
        "Scaling can be performed using Scikit-Learn's preprocessing tools. Common methods include:\n",
        "\n",
        "Normalization (Min-Max Scaling):\n",
        "\n",
        "Scales features to a range (e.g., [0, 1]).\n",
        "\n",
        "from sklearn.preprocessing import MinMaxScaler\n",
        "\n",
        "scaler = MinMaxScaler()\n",
        "\n",
        "X_scaled = scaler.fit_transform(X)\n",
        "\n",
        "Standardization (Z-score Scaling):\n",
        "\n",
        "Scales features to have a mean of 0 and a standard deviation of 1.\n",
        "\n",
        "from sklearn.preprocessing import StandardScaler\n",
        "\n",
        "scaler = StandardScaler()\n",
        "\n",
        "X_scaled = scaler.fit_transform(X)"
      ],
      "metadata": {
        "id": "ONEfnvGbnbKG"
      }
    },
    {
      "cell_type": "markdown",
      "source": [
        "23. What is sklearn.preprocessing?"
      ],
      "metadata": {
        "id": "riSRfoxknonS"
      }
    },
    {
      "cell_type": "markdown",
      "source": [
        "sklearn.preprocessing is a module in the Scikit-Learn library that provides tools for data preprocessing, such as:\n",
        "\n",
        "Scaling (e.g., MinMaxScaler, StandardScaler).\n",
        "\n",
        "Encoding categorical variables (e.g., OneHotEncoder, LabelEncoder).\n",
        "\n",
        "Handling missing values.\n",
        "\n",
        "Normalization and transformation of data."
      ],
      "metadata": {
        "id": "2CGROgB0nsKF"
      }
    },
    {
      "cell_type": "markdown",
      "source": [
        "24.  How do we split data for model fitting (training and testing) in Python?"
      ],
      "metadata": {
        "id": "_MC6dAW4ntk3"
      }
    },
    {
      "cell_type": "markdown",
      "source": [
        "Use the train_test_split function from sklearn.model_selection:\n",
        "\n",
        "from sklearn.model_selection import train_test_split\n",
        "\n",
        "X_train, X_test, y_train, y_test = train_test_split(X, y, test_size=0.2, random_state=42)\n",
        "\n",
        "X: Features (independent variables).\n",
        "\n",
        "y: Target (dependent variable).\n",
        "\n",
        "test_size: Fraction of the dataset to use for testing (e.g., 0.2 for 20%).\n",
        "\n",
        "random_state: Ensures reproducibility of the split."
      ],
      "metadata": {
        "id": "KrrXieDynxmN"
      }
    },
    {
      "cell_type": "markdown",
      "source": [
        "25. Explain data encoding?"
      ],
      "metadata": {
        "id": "83muNgXCn2is"
      }
    },
    {
      "cell_type": "markdown",
      "source": [
        "Data encoding is the process of converting categorical data (non-numeric) into numerical format so that Machine Learning algorithms can process it. Since most algorithms work with numbers, encoding is essential for handling categorical variables.\n",
        "\n",
        "Common Encoding Techniques:\n",
        "\n",
        "Label Encoding:\n",
        "\n",
        "Assigns a unique integer to each category.\n",
        "\n",
        "Example: [\"Red\", \"Green\", \"Blue\"] → [0, 1, 2].\n",
        "\n",
        "One-Hot Encoding:\n",
        "\n",
        "Creates binary columns for each category.\n",
        "\n",
        "Example: [\"Red\", \"Green\", \"Blue\"] → [1, 0, 0], [0, 1, 0], [0, 0, 1].\n",
        "\n",
        "Ordinal Encoding:\n",
        "\n",
        "Assigns integers based on the order of categories (for ordinal data).\n",
        "\n",
        "Example: [\"Low\", \"Medium\", \"High\"] → [0, 1, 2]."
      ],
      "metadata": {
        "id": "ugBiBp6Fn3eC"
      }
    }
  ]
}