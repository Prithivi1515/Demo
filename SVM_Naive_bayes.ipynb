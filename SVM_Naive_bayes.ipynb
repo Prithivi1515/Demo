{
  "nbformat": 4,
  "nbformat_minor": 0,
  "metadata": {
    "colab": {
      "provenance": [],
      "authorship_tag": "ABX9TyMSFmW5TNLidwImXMA4iS19",
      "include_colab_link": true
    },
    "kernelspec": {
      "name": "python3",
      "display_name": "Python 3"
    },
    "language_info": {
      "name": "python"
    }
  },
  "cells": [
    {
      "cell_type": "markdown",
      "metadata": {
        "id": "view-in-github",
        "colab_type": "text"
      },
      "source": [
        "<a href=\"https://colab.research.google.com/github/Prithivi1515/Demo/blob/main/SVM_Naive_bayes.ipynb\" target=\"_parent\"><img src=\"https://colab.research.google.com/assets/colab-badge.svg\" alt=\"Open In Colab\"/></a>"
      ]
    },
    {
      "cell_type": "markdown",
      "source": [
        "Theoretical"
      ],
      "metadata": {
        "id": "TdpeUTvRZ0df"
      }
    },
    {
      "cell_type": "markdown",
      "source": [
        "1. What is a Support Vector Machine (SVM)?\n"
      ],
      "metadata": {
        "id": "O4JL0VOwZ2wK"
      }
    },
    {
      "cell_type": "markdown",
      "source": [
        "SVM is a supervised machine learning algorithm used for classification and regression tasks.\n",
        "\n",
        "It finds the optimal hyperplane that separates data points of different classes with the maximum margin.\n",
        "\n",
        "It can handle linear and non-linear data using kernels."
      ],
      "metadata": {
        "id": "Kojec69oZ38B"
      }
    },
    {
      "cell_type": "markdown",
      "source": [
        "2. What is the difference between Hard Margin and Soft Margin SVM?\n"
      ],
      "metadata": {
        "id": "lQzQRDf1Z5am"
      }
    },
    {
      "cell_type": "markdown",
      "source": [
        "* Hard Margin SVM:\n",
        "\n",
        "Assumes data is linearly separable.\n",
        "\n",
        "Does not allow any misclassification (strict separation).\n",
        "\n",
        "Can overfit if data has noise or outliers.\n",
        "\n",
        "* Soft Margin SVM:\n",
        "\n",
        "Allows some misclassifications using a slack variable.\n",
        "\n",
        "Controlled by the C parameter (penalty for misclassification).\n",
        "\n",
        "More robust to noise and outliers."
      ],
      "metadata": {
        "id": "KwrarqE1Z7GQ"
      }
    },
    {
      "cell_type": "markdown",
      "source": [
        "3. What is the mathematical intuition behind SVM?\n"
      ],
      "metadata": {
        "id": "0TotJ-7iaKPM"
      }
    },
    {
      "cell_type": "markdown",
      "source": [
        "SVM aims to find the hyperplane that maximizes the margin (distance between the hyperplane and the nearest data points of each class).\n",
        "\n",
        "The optimization problem is:\n",
        "\n",
        "\n",
        "Minimize  \n",
        "2\n",
        "1\n",
        "​\n",
        " ∥w∥\n",
        "2\n",
        " subject to y\n",
        "i\n",
        "​\n",
        " (w⋅x\n",
        "i\n",
        "​\n",
        " +b)≥1\n",
        "where:\n",
        "\n",
        "w: Weight vector.\n",
        "\n",
        "b: Bias term.\n",
        "\n",
        "x\n",
        "i\n",
        " : Data points.\n",
        "\n",
        "y\n",
        "i\n",
        " : Class labels."
      ],
      "metadata": {
        "id": "DSbBj7t2aMrg"
      }
    },
    {
      "cell_type": "markdown",
      "source": [
        "4. What is the role of Lagrange Multipliers in SVM?\n"
      ],
      "metadata": {
        "id": "1NYaGqVBaY27"
      }
    },
    {
      "cell_type": "markdown",
      "source": [
        "Lagrange multipliers are used to solve the constrained optimization problem in SVM.\n",
        "\n",
        "The solution involves finding the saddle point of the Lagrangian function.\n",
        "\n"
      ],
      "metadata": {
        "id": "bixzrGlKablt"
      }
    },
    {
      "cell_type": "markdown",
      "source": [
        "5. What are Support Vectors in SVM?\n"
      ],
      "metadata": {
        "id": "zQM5ifLdadPU"
      }
    },
    {
      "cell_type": "markdown",
      "source": [
        "Support vectors are the data points closest to the hyperplane.\n",
        "\n",
        "They define the margin and are critical for determining the optimal hyperplane.\n",
        "\n",
        "Only support vectors influence the model; other points can be ignored."
      ],
      "metadata": {
        "id": "Z4hCZEviafjA"
      }
    },
    {
      "cell_type": "markdown",
      "source": [
        "6. What is a Support Vector Classifier (SVC)?\n"
      ],
      "metadata": {
        "id": "PK3uRDkRahD4"
      }
    },
    {
      "cell_type": "markdown",
      "source": [
        "SVC is the classification variant of SVM.\n",
        "\n",
        "It finds the hyperplane that best separates data points of different classes."
      ],
      "metadata": {
        "id": "ued11bi7aigL"
      }
    },
    {
      "cell_type": "markdown",
      "source": [
        "7. What is a Support Vector Regressor (SVR)?\n"
      ],
      "metadata": {
        "id": "TL-NszkZakCo"
      }
    },
    {
      "cell_type": "markdown",
      "source": [
        "SVR is the regression variant of SVM.\n",
        "\n",
        "Instead of maximizing the margin, SVR aims to fit the data within a threshold (\n",
        "ϵ) while minimizing error.\n",
        "\n"
      ],
      "metadata": {
        "id": "rnAXElMOalT7"
      }
    },
    {
      "cell_type": "markdown",
      "source": [
        "8. What is the Kernel Trick in SVM?\n"
      ],
      "metadata": {
        "id": "8jNXGdJzanZo"
      }
    },
    {
      "cell_type": "markdown",
      "source": [
        "The kernel trick allows SVM to handle non-linear data by mapping input data into a higher-dimensional space.\n",
        "\n",
        "It computes the dot product of transformed data points without explicitly performing the transformation.\n",
        "\n",
        "Common kernels: Linear, Polynomial, RBF."
      ],
      "metadata": {
        "id": "5aI_AMEZaqi_"
      }
    },
    {
      "cell_type": "markdown",
      "source": [
        "9. Compare Linear Kernel, Polynomial Kernel, and RBF Kernel:\n"
      ],
      "metadata": {
        "id": "8yXtEkFsar7x"
      }
    },
    {
      "cell_type": "markdown",
      "source": [
        "Linear Kernel:\n",
        "\n",
        "K\n",
        "(\n",
        "x\n",
        "i\n",
        ",\n",
        "x\n",
        "j\n",
        ")\n",
        "=\n",
        "x\n",
        "i\n",
        "⋅\n",
        "x\n",
        "j\n",
        "\n",
        "Suitable for linearly separable data.\n",
        "\n",
        "Polynomial Kernel:\n",
        "\n",
        "K\n",
        "(\n",
        "x\n",
        "i\n",
        ",\n",
        "x\n",
        "j\n",
        ")\n",
        "=\n",
        "(\n",
        "x\n",
        "i\n",
        "⋅\n",
        "x\n",
        "j\n",
        "+\n",
        "c\n",
        ")\n",
        "d\n",
        "\n",
        "\n",
        "Suitable for non-linear data; controlled by degree (\n",
        "d).\n",
        "\n",
        "RBF Kernel (Gaussian):\n",
        "\n",
        "K\n",
        "(\n",
        "x\n",
        "i\n",
        ",\n",
        "x\n",
        "j\n",
        ")\n",
        "=\n",
        "exp\n",
        "⁡\n",
        "(\n",
        "−\n",
        "γ\n",
        "∥\n",
        "x\n",
        "i\n",
        "−\n",
        "x\n",
        "j\n",
        "∥\n",
        "2\n",
        ")\n",
        "\n",
        "Suitable for complex non-linear data; controlled by\n",
        "γ."
      ],
      "metadata": {
        "id": "uHSy24L2atf-"
      }
    },
    {
      "cell_type": "markdown",
      "source": [
        "10. What is the effect of the C parameter in SVM?\n"
      ],
      "metadata": {
        "id": "SIqr5n0Za9l4"
      }
    },
    {
      "cell_type": "markdown",
      "source": [
        "C is the regularization parameter.\n",
        "\n",
        "A small\n",
        "C: Allows more misclassifications (larger margin, less overfitting).\n",
        "\n",
        "A large\n",
        "C: Penalizes misclassifications heavily (smaller margin, risk of overfitting)."
      ],
      "metadata": {
        "id": "Ao4LiAy9a-2_"
      }
    },
    {
      "cell_type": "markdown",
      "source": [
        "11. What is the role of the Gamma parameter in RBF Kernel SVM?\n"
      ],
      "metadata": {
        "id": "Sn-E_gU1bChs"
      }
    },
    {
      "cell_type": "markdown",
      "source": [
        "γ controls the influence of individual data points.\n",
        "\n",
        "A small\n",
        "γ: Wider kernel, smoother decision boundary.\n",
        "\n",
        "A large\n",
        "γ: Narrow kernel, more complex decision boundary (risk of overfitting)."
      ],
      "metadata": {
        "id": "64jS3F9YbDwc"
      }
    },
    {
      "cell_type": "markdown",
      "source": [
        "12. What is the Naïve Bayes classifier, and why is it called \"Naïve\"?\n"
      ],
      "metadata": {
        "id": "BzBbyNoJbH0V"
      }
    },
    {
      "cell_type": "markdown",
      "source": [
        "Naïve Bayes is a probabilistic classifier based on Bayes’ Theorem.\n",
        "\n",
        "It is called \"Naïve\" because it assumes independence between features (a strong and often unrealistic assumption)."
      ],
      "metadata": {
        "id": "6O38Nj8BbJGX"
      }
    },
    {
      "cell_type": "markdown",
      "source": [
        "13. What is Bayes’ Theorem?\n"
      ],
      "metadata": {
        "id": "DCy5XA2HbK0j"
      }
    },
    {
      "cell_type": "markdown",
      "source": [
        "Bayes’ Theorem calculates the probability of a hypothesis given observed data:\n",
        "\n",
        "P\n",
        "(\n",
        "A\n",
        "∣\n",
        "B\n",
        ")\n",
        "=\n",
        "P\n",
        "(\n",
        "B\n",
        "∣\n",
        "A\n",
        ")\n",
        "⋅\n",
        "P\n",
        "(\n",
        "A\n",
        ")\n",
        "/\n",
        "P\n",
        "(\n",
        "B\n",
        ")\n",
        "\n",
        "where:\n",
        "\n",
        "P(A∣B): Posterior probability.\n",
        "\n",
        "P(B∣A): Likelihood.\n",
        "\n",
        "P(A): Prior probability.\n",
        "\n",
        "P(B): Evidence."
      ],
      "metadata": {
        "id": "s-jBwv4_bMUn"
      }
    },
    {
      "cell_type": "markdown",
      "source": [
        "14. Explain the differences between Gaussian Naïve Bayes, Multinomial Naïve Bayes, and Bernoulli Naïve Bayes:\n"
      ],
      "metadata": {
        "id": "6XaVIWCzbYb6"
      }
    },
    {
      "cell_type": "markdown",
      "source": [
        "* Gaussian Naïve Bayes:\n",
        "\n",
        "Assumes features follow a normal distribution.\n",
        "\n",
        "Suitable for continuous data.\n",
        "\n",
        "* Multinomial Naïve Bayes:\n",
        "\n",
        "Assumes features represent counts or frequencies.\n",
        "\n",
        "Suitable for discrete data (e.g., text classification).\n",
        "\n",
        "* Bernoulli Naïve Bayes:\n",
        "\n",
        "Assumes features are binary.\n",
        "\n",
        "Suitable for binary data (e.g., presence/absence of words)."
      ],
      "metadata": {
        "id": "-HO1kEfIbZss"
      }
    },
    {
      "cell_type": "markdown",
      "source": [
        "15. When should you use Gaussian Naïve Bayes over other variants?\n"
      ],
      "metadata": {
        "id": "o72ipTo4bcPb"
      }
    },
    {
      "cell_type": "markdown",
      "source": [
        "Use Gaussian Naïve Bayes when the features are continuous and approximately normally distributed."
      ],
      "metadata": {
        "id": "iJZqC0iGbeqy"
      }
    },
    {
      "cell_type": "markdown",
      "source": [
        "16. What are the key assumptions made by Naïve Bayes?\n"
      ],
      "metadata": {
        "id": "gKbUKqG8bgDl"
      }
    },
    {
      "cell_type": "markdown",
      "source": [
        "Feature Independence: Features are conditionally independent given the class.\n",
        "\n",
        "Prior Probability: The prior probability of each class is known or estimated from the data."
      ],
      "metadata": {
        "id": "nVNiYm-fbhsE"
      }
    },
    {
      "cell_type": "markdown",
      "source": [
        "17. What are the advantages and disadvantages of Naïve Bayes?\n"
      ],
      "metadata": {
        "id": "QAYx5lyibiyL"
      }
    },
    {
      "cell_type": "markdown",
      "source": [
        "* Advantages:\n",
        "\n",
        "Simple and fast.\n",
        "\n",
        "Works well with high-dimensional data.\n",
        "\n",
        "Requires less training data.\n",
        "\n",
        "* Disadvantages:\n",
        "\n",
        "Assumes feature independence (often unrealistic).\n",
        "\n",
        "May perform poorly if the independence assumption is violated."
      ],
      "metadata": {
        "id": "wiOjCLlEbkKJ"
      }
    },
    {
      "cell_type": "markdown",
      "source": [
        "18. Why is Naïve Bayes a good choice for text classification?\n"
      ],
      "metadata": {
        "id": "4sSOWFqdbnrn"
      }
    },
    {
      "cell_type": "markdown",
      "source": [
        "It handles high-dimensional data well (e.g., word counts).\n",
        "\n",
        "It is computationally efficient.\n",
        "\n",
        "It performs well even with small datasets."
      ],
      "metadata": {
        "id": "x0WwpXlEbpFC"
      }
    },
    {
      "cell_type": "markdown",
      "source": [
        "19. Compare SVM and Naïve Bayes for classification tasks:\n"
      ],
      "metadata": {
        "id": "DZldRGjnbqkH"
      }
    },
    {
      "cell_type": "markdown",
      "source": [
        "* SVM:\n",
        "\n",
        "Better for complex, non-linear data.\n",
        "\n",
        "Requires careful tuning of parameters (e.g.,\n",
        "C,\n",
        "γ).\n",
        "\n",
        "Computationally expensive for large datasets.\n",
        "\n",
        "* Naïve Bayes:\n",
        "\n",
        "Better for text classification and high-dimensional data.\n",
        "\n",
        "Simple and fast.\n",
        "\n",
        "Assumes feature independence."
      ],
      "metadata": {
        "id": "L0U8iIEXbsA7"
      }
    },
    {
      "cell_type": "markdown",
      "source": [
        "20. How does Laplace Smoothing help in Naïve Bayes?\n"
      ],
      "metadata": {
        "id": "yYQYcywrbykg"
      }
    },
    {
      "cell_type": "markdown",
      "source": [
        "Laplace Smoothing (or additive smoothing) prevents zero probabilities when a feature value does not appear in a class.\n",
        "\n",
        "It adds a small value (\n",
        "α\n",
        "α) to the count of each feature:\n",
        "\n",
        "P\n",
        "(\n",
        "x\n",
        "i\n",
        "∣\n",
        "y\n",
        ")\n",
        "=\n",
        "count\n",
        "(\n",
        "x\n",
        "i\n",
        ",\n",
        "y\n",
        ")\n",
        "+\n",
        "α\n",
        "/\n",
        "count\n",
        "(\n",
        "y\n",
        ")\n",
        "+\n",
        "α\n",
        "⋅\n",
        "n\n",
        "\n",
        "where\n",
        "n is the number of unique feature values."
      ],
      "metadata": {
        "id": "CW7NzY5eb0Mq"
      }
    },
    {
      "cell_type": "markdown",
      "source": [
        "Practical"
      ],
      "metadata": {
        "id": "COQdvG0Hb-sW"
      }
    },
    {
      "cell_type": "markdown",
      "source": [
        "21. Train an SVM Classifier on the Iris dataset and evaluate accuracy\n"
      ],
      "metadata": {
        "id": "t1PvpuCicZTs"
      }
    },
    {
      "cell_type": "code",
      "source": [
        "from sklearn.datasets import load_iris\n",
        "from sklearn.model_selection import train_test_split\n",
        "from sklearn.svm import SVC\n",
        "from sklearn.metrics import accuracy_score\n",
        "\n",
        "# Load dataset\n",
        "iris = load_iris()\n",
        "X, y = iris.data, iris.target\n",
        "\n",
        "# Split data\n",
        "X_train, X_test, y_train, y_test = train_test_split(X, y, test_size=0.3, random_state=42)\n",
        "\n",
        "# Train SVM classifier\n",
        "svm = SVC(kernel='linear')\n",
        "svm.fit(X_train, y_train)\n",
        "\n",
        "# Evaluate accuracy\n",
        "y_pred = svm.predict(X_test)\n",
        "accuracy = accuracy_score(y_test, y_pred)\n",
        "print(f\"Accuracy: {accuracy:.2f}\")"
      ],
      "metadata": {
        "colab": {
          "base_uri": "https://localhost:8080/"
        },
        "id": "PQMr8JGqcaiK",
        "outputId": "f242778c-268e-4bbc-daf1-5a78aefac37e"
      },
      "execution_count": 1,
      "outputs": [
        {
          "output_type": "stream",
          "name": "stdout",
          "text": [
            "Accuracy: 1.00\n"
          ]
        }
      ]
    },
    {
      "cell_type": "markdown",
      "source": [
        "22. Train two SVM classifiers with Linear and RBF kernels on the Wine dataset and compare their accuracies\n"
      ],
      "metadata": {
        "id": "lQoNVnVPccv1"
      }
    },
    {
      "cell_type": "code",
      "source": [
        "from sklearn.datasets import load_wine\n",
        "from sklearn.model_selection import train_test_split\n",
        "from sklearn.svm import SVC\n",
        "from sklearn.metrics import accuracy_score\n",
        "\n",
        "# Load dataset\n",
        "wine = load_wine()\n",
        "X, y = wine.data, wine.target\n",
        "\n",
        "# Split data\n",
        "X_train, X_test, y_train, y_test = train_test_split(X, y, test_size=0.3, random_state=42)\n",
        "\n",
        "# Train SVM with Linear Kernel\n",
        "svm_linear = SVC(kernel='linear')\n",
        "svm_linear.fit(X_train, y_train)\n",
        "y_pred_linear = svm_linear.predict(X_test)\n",
        "accuracy_linear = accuracy_score(y_test, y_pred_linear)\n",
        "\n",
        "# Train SVM with RBF Kernel\n",
        "svm_rbf = SVC(kernel='rbf')\n",
        "svm_rbf.fit(X_train, y_train)\n",
        "y_pred_rbf = svm_rbf.predict(X_test)\n",
        "accuracy_rbf = accuracy_score(y_test, y_pred_rbf)\n",
        "\n",
        "print(f\"Linear Kernel Accuracy: {accuracy_linear:.2f}\")\n",
        "print(f\"RBF Kernel Accuracy: {accuracy_rbf:.2f}\")"
      ],
      "metadata": {
        "colab": {
          "base_uri": "https://localhost:8080/"
        },
        "id": "RfVDNPfGceWs",
        "outputId": "b3b31c14-1c77-4a3a-d3dd-33c06f7f9363"
      },
      "execution_count": 2,
      "outputs": [
        {
          "output_type": "stream",
          "name": "stdout",
          "text": [
            "Linear Kernel Accuracy: 0.98\n",
            "RBF Kernel Accuracy: 0.76\n"
          ]
        }
      ]
    },
    {
      "cell_type": "markdown",
      "source": [
        "23. Train an SVM Regressor (SVR) on a housing dataset and evaluate it using Mean Squared Error (MSE)\n"
      ],
      "metadata": {
        "id": "Ys0iKDhmcgYD"
      }
    },
    {
      "cell_type": "code",
      "source": [
        "from sklearn.datasets import fetch_california_housing\n",
        "from sklearn.model_selection import train_test_split\n",
        "from sklearn.svm import SVR\n",
        "from sklearn.metrics import mean_squared_error\n",
        "\n",
        "# Load dataset\n",
        "housing = fetch_california_housing()\n",
        "X, y = housing.data, housing.target\n",
        "\n",
        "# Split data\n",
        "X_train, X_test, y_train, y_test = train_test_split(X, y, test_size=0.3, random_state=42)\n",
        "\n",
        "# Train SVR\n",
        "svr = SVR(kernel='rbf')\n",
        "svr.fit(X_train, y_train)\n",
        "\n",
        "# Evaluate using MSE\n",
        "y_pred = svr.predict(X_test)\n",
        "mse = mean_squared_error(y_test, y_pred)\n",
        "print(f\"Mean Squared Error: {mse:.2f}\")"
      ],
      "metadata": {
        "colab": {
          "base_uri": "https://localhost:8080/"
        },
        "id": "PogMIsp-chp8",
        "outputId": "04ae5d12-be53-4ecd-fb01-34dee1cfcdef"
      },
      "execution_count": 3,
      "outputs": [
        {
          "output_type": "stream",
          "name": "stdout",
          "text": [
            "Mean Squared Error: 1.35\n"
          ]
        }
      ]
    },
    {
      "cell_type": "markdown",
      "source": [
        "24. Train an SVM Classifier with a Polynomial Kernel and visualize the decision boundary\n"
      ],
      "metadata": {
        "id": "YCc2vrZlcjk3"
      }
    },
    {
      "cell_type": "code",
      "source": [
        "import numpy as np\n",
        "import matplotlib.pyplot as plt\n",
        "from sklearn.datasets import make_classification\n",
        "from sklearn.svm import SVC\n",
        "\n",
        "# Generate synthetic data\n",
        "X, y = make_classification(n_samples=100, n_features=2, n_informative=2, n_redundant=0, random_state=42)\n",
        "\n",
        "# Train SVM with Polynomial Kernel\n",
        "svm = SVC(kernel='poly', degree=3)\n",
        "svm.fit(X, y)\n",
        "\n",
        "# Plot decision boundary\n",
        "xx, yy = np.meshgrid(np.linspace(X[:, 0].min(), X[:, 0].max(), 100),\n",
        "                     np.linspace(X[:, 1].min(), X[:, 1].max(), 100))\n",
        "Z = svm.predict(np.c_[xx.ravel(), yy.ravel()])\n",
        "Z = Z.reshape(xx.shape)\n",
        "\n",
        "plt.contourf(xx, yy, Z, alpha=0.8)\n",
        "plt.scatter(X[:, 0], X[:, 1], c=y, edgecolors='k')\n",
        "plt.title(\"SVM Decision Boundary (Polynomial Kernel)\")\n",
        "plt.show()"
      ],
      "metadata": {
        "colab": {
          "base_uri": "https://localhost:8080/",
          "height": 452
        },
        "id": "DcnzGj5YclB0",
        "outputId": "3e575e16-9102-441a-9a8f-608f309f2400"
      },
      "execution_count": 4,
      "outputs": [
        {
          "output_type": "display_data",
          "data": {
            "text/plain": [
              "<Figure size 640x480 with 1 Axes>"
            ],
            "image/png": "[encoded data removed]"
          },
          "metadata": {}
        }
      ]
    },
    {
      "cell_type": "markdown",
      "source": [
        "25. Train a Gaussian Naïve Bayes classifier on the Breast Cancer dataset and evaluate accuracy\n"
      ],
      "metadata": {
        "id": "IZAzibi5cnK6"
      }
    },
    {
      "cell_type": "code",
      "source": [
        "from sklearn.datasets import load_breast_cancer\n",
        "from sklearn.model_selection import train_test_split\n",
        "from sklearn.naive_bayes import GaussianNB\n",
        "from sklearn.metrics import accuracy_score\n",
        "\n",
        "# Load dataset\n",
        "cancer = load_breast_cancer()\n",
        "X, y = cancer.data, cancer.target\n",
        "\n",
        "# Split data\n",
        "X_train, X_test, y_train, y_test = train_test_split(X, y, test_size=0.3, random_state=42)\n",
        "\n",
        "# Train Gaussian Naïve Bayes\n",
        "gnb = GaussianNB()\n",
        "gnb.fit(X_train, y_train)\n",
        "\n",
        "# Evaluate accuracy\n",
        "y_pred = gnb.predict(X_test)\n",
        "accuracy = accuracy_score(y_test, y_pred)\n",
        "print(f\"Accuracy: {accuracy:.2f}\")"
      ],
      "metadata": {
        "colab": {
          "base_uri": "https://localhost:8080/"
        },
        "id": "3Ix48gvacoje",
        "outputId": "41c33e53-b6b6-4697-f150-50f21a633979"
      },
      "execution_count": 6,
      "outputs": [
        {
          "output_type": "stream",
          "name": "stdout",
          "text": [
            "Accuracy: 0.94\n"
          ]
        }
      ]
    },
    {
      "cell_type": "markdown",
      "source": [
        "26. Train a Multinomial Naïve Bayes classifier for text classification using the 20 Newsgroups dataset\n"
      ],
      "metadata": {
        "id": "FixD51mPcqRH"
      }
    },
    {
      "cell_type": "code",
      "source": [
        "from sklearn.datasets import fetch_20newsgroups\n",
        "from sklearn.feature_extraction.text import TfidfVectorizer\n",
        "from sklearn.naive_bayes import MultinomialNB\n",
        "from sklearn.metrics import accuracy_score\n",
        "from sklearn.model_selection import train_test_split\n",
        "\n",
        "# Load dataset\n",
        "newsgroups = fetch_20newsgroups(subset='all')\n",
        "X, y = newsgroups.data, newsgroups.target\n",
        "\n",
        "# Convert text to TF-IDF features\n",
        "vectorizer = TfidfVectorizer()\n",
        "X_tfidf = vectorizer.fit_transform(X)\n",
        "\n",
        "# Split data\n",
        "X_train, X_test, y_train, y_test = train_test_split(X_tfidf, y, test_size=0.3, random_state=42)\n",
        "\n",
        "# Train Multinomial Naïve Bayes\n",
        "mnb = MultinomialNB()\n",
        "mnb.fit(X_train, y_train)\n",
        "\n",
        "# Evaluate accuracy\n",
        "y_pred = mnb.predict(X_test)\n",
        "accuracy = accuracy_score(y_test, y_pred)\n",
        "print(f\"Accuracy: {accuracy:.2f}\")"
      ],
      "metadata": {
        "colab": {
          "base_uri": "https://localhost:8080/"
        },
        "id": "W2iENSVgcrfk",
        "outputId": "8383d683-afaf-4b75-8f33-7c8234318930"
      },
      "execution_count": 7,
      "outputs": [
        {
          "output_type": "stream",
          "name": "stdout",
          "text": [
            "Accuracy: 0.83\n"
          ]
        }
      ]
    },
    {
      "cell_type": "markdown",
      "source": [
        "27. Train an SVM Classifier with different C values and compare the decision boundaries visually\n"
      ],
      "metadata": {
        "id": "lCE-40Jkcs65"
      }
    },
    {
      "cell_type": "code",
      "source": [
        "import numpy as np\n",
        "import matplotlib.pyplot as plt\n",
        "from sklearn.datasets import make_classification\n",
        "from sklearn.svm import SVC\n",
        "\n",
        "# Generate synthetic data\n",
        "X, y = make_classification(n_samples=100, n_features=2, n_informative=2, n_redundant=0, random_state=42)\n",
        "\n",
        "# Train SVM with different C values\n",
        "C_values = [0.1, 1, 10]\n",
        "plt.figure(figsize=(15, 5))\n",
        "for i, C in enumerate(C_values):\n",
        "    svm = SVC(kernel='linear', C=C)\n",
        "    svm.fit(X, y)\n",
        "\n",
        "    # Plot decision boundary\n",
        "    xx, yy = np.meshgrid(np.linspace(X[:, 0].min(), X[:, 0].max(), 100),\n",
        "                         np.linspace(X[:, 1].min(), X[:, 1].max(), 100))\n",
        "    Z = svm.predict(np.c_[xx.ravel(), yy.ravel()])\n",
        "    Z = Z.reshape(xx.shape)\n",
        "\n",
        "    plt.subplot(1, 3, i + 1)\n",
        "    plt.contourf(xx, yy, Z, alpha=0.8)\n",
        "    plt.scatter(X[:, 0], X[:, 1], c=y, edgecolors='k')\n",
        "    plt.title(f\"SVM Decision Boundary (C={C})\")\n",
        "plt.show()"
      ],
      "metadata": {
        "colab": {
          "base_uri": "https://localhost:8080/",
          "height": 468
        },
        "id": "7_hDB765cxpM",
        "outputId": "65998f61-76af-4052-86f6-dda837a4b850"
      },
      "execution_count": 8,
      "outputs": [
        {
          "output_type": "display_data",
          "data": {
            "text/plain": [
              "<Figure size 1500x500 with 3 Axes>"
            ],
            "image/png": "[encoded data removed]"
          },
          "metadata": {}
        }
      ]
    },
    {
      "cell_type": "markdown",
      "source": [
        "28. Train a Bernoulli Naïve Bayes classifier for binary classification on a dataset with binary features\n"
      ],
      "metadata": {
        "id": "iYNE8-vTczZO"
      }
    },
    {
      "cell_type": "code",
      "source": [
        "from sklearn.datasets import make_classification\n",
        "from sklearn.model_selection import train_test_split\n",
        "from sklearn.naive_bayes import BernoulliNB\n",
        "from sklearn.metrics import accuracy_score\n",
        "\n",
        "# Generate synthetic binary data\n",
        "X, y = make_classification(n_samples=100, n_features=20, n_informative=15, n_redundant=5, random_state=42)\n",
        "\n",
        "# Split data\n",
        "X_train, X_test, y_train, y_test = train_test_split(X, y, test_size=0.3, random_state=42)\n",
        "\n",
        "# Train Bernoulli Naïve Bayes\n",
        "bnb = BernoulliNB()\n",
        "bnb.fit(X_train, y_train)\n",
        "\n",
        "# Evaluate accuracy\n",
        "y_pred = bnb.predict(X_test)\n",
        "accuracy = accuracy_score(y_test, y_pred)\n",
        "print(f\"Accuracy: {accuracy:.2f}\")"
      ],
      "metadata": {
        "colab": {
          "base_uri": "https://localhost:8080/"
        },
        "id": "mVNsZZkoc0uI",
        "outputId": "1a70d47d-01bf-472b-8b6a-eda07822c49b"
      },
      "execution_count": 9,
      "outputs": [
        {
          "output_type": "stream",
          "name": "stdout",
          "text": [
            "Accuracy: 0.53\n"
          ]
        }
      ]
    },
    {
      "cell_type": "markdown",
      "source": [
        "29. Apply feature scaling before training an SVM model and compare results with unscaled data\n"
      ],
      "metadata": {
        "id": "n1W_aLHpc2lK"
      }
    },
    {
      "cell_type": "code",
      "source": [
        "from sklearn.datasets import load_iris\n",
        "from sklearn.model_selection import train_test_split\n",
        "from sklearn.svm import SVC\n",
        "from sklearn.preprocessing import StandardScaler\n",
        "from sklearn.metrics import accuracy_score\n",
        "\n",
        "# Load dataset\n",
        "iris = load_iris()\n",
        "X, y = iris.data, iris.target\n",
        "\n",
        "# Split data\n",
        "X_train, X_test, y_train, y_test = train_test_split(X, y, test_size=0.3, random_state=42)\n",
        "\n",
        "# Scale features\n",
        "scaler = StandardScaler()\n",
        "X_train_scaled = scaler.fit_transform(X_train)\n",
        "X_test_scaled = scaler.transform(X_test)\n",
        "\n",
        "# Train SVM on unscaled data\n",
        "svm_unscaled = SVC(kernel='linear')\n",
        "svm_unscaled.fit(X_train, y_train)\n",
        "y_pred_unscaled = svm_unscaled.predict(X_test)\n",
        "accuracy_unscaled = accuracy_score(y_test, y_pred_unscaled)\n",
        "\n",
        "# Train SVM on scaled data\n",
        "svm_scaled = SVC(kernel='linear')\n",
        "svm_scaled.fit(X_train_scaled, y_train)\n",
        "y_pred_scaled = svm_scaled.predict(X_test_scaled)\n",
        "accuracy_scaled = accuracy_score(y_test, y_pred_scaled)\n",
        "\n",
        "print(f\"Unscaled Accuracy: {accuracy_unscaled:.2f}\")\n",
        "print(f\"Scaled Accuracy: {accuracy_scaled:.2f}\")"
      ],
      "metadata": {
        "colab": {
          "base_uri": "https://localhost:8080/"
        },
        "id": "ZF6WqG4Dc36z",
        "outputId": "880b529d-60ce-4b30-a498-23fc81a6214e"
      },
      "execution_count": 10,
      "outputs": [
        {
          "output_type": "stream",
          "name": "stdout",
          "text": [
            "Unscaled Accuracy: 1.00\n",
            "Scaled Accuracy: 0.98\n"
          ]
        }
      ]
    },
    {
      "cell_type": "markdown",
      "source": [
        "30. Train a Gaussian Naïve Bayes model and compare the predictions before and after Laplace Smoothing\n"
      ],
      "metadata": {
        "id": "fJ3d_B4mc6MZ"
      }
    },
    {
      "cell_type": "code",
      "source": [
        "from sklearn.datasets import load_iris\n",
        "from sklearn.model_selection import train_test_split\n",
        "from sklearn.naive_bayes import GaussianNB\n",
        "from sklearn.metrics import accuracy_score\n",
        "\n",
        "# Load dataset\n",
        "iris = load_iris()\n",
        "X, y = iris.data, iris.target\n",
        "\n",
        "# Split data\n",
        "X_train, X_test, y_train, y_test = train_test_split(X, y, test_size=0.3, random_state=42)\n",
        "\n",
        "# Train Gaussian Naïve Bayes without Laplace Smoothing\n",
        "gnb = GaussianNB(var_smoothing=0)\n",
        "gnb.fit(X_train, y_train)\n",
        "y_pred = gnb.predict(X_test)\n",
        "accuracy = accuracy_score(y_test, y_pred)\n",
        "print(f\"Accuracy without Laplace Smoothing: {accuracy:.2f}\")\n",
        "\n",
        "# Train Gaussian Naïve Bayes with Laplace Smoothing\n",
        "gnb_smoothed = GaussianNB(var_smoothing=1e-9)\n",
        "gnb_smoothed.fit(X_train, y_train)\n",
        "y_pred_smoothed = gnb_smoothed.predict(X_test)\n",
        "accuracy_smoothed = accuracy_score(y_test, y_pred_smoothed)\n",
        "print(f\"Accuracy with Laplace Smoothing: {accuracy_smoothed:.2f}\")"
      ],
      "metadata": {
        "colab": {
          "base_uri": "https://localhost:8080/"
        },
        "id": "DaIV0FhPc7Iz",
        "outputId": "8b67cf2b-7df4-41b8-9d27-f0d07dc750af"
      },
      "execution_count": 11,
      "outputs": [
        {
          "output_type": "stream",
          "name": "stdout",
          "text": [
            "Accuracy without Laplace Smoothing: 0.98\n",
            "Accuracy with Laplace Smoothing: 0.98\n"
          ]
        }
      ]
    },
    {
      "cell_type": "markdown",
      "source": [
        "31. Train an SVM Classifier and use GridSearchCV to tune the hyperparameters (C, gamma, kernel)\n"
      ],
      "metadata": {
        "id": "c4osbpY7dCWp"
      }
    },
    {
      "cell_type": "code",
      "source": [
        "from sklearn.datasets import load_iris\n",
        "from sklearn.model_selection import GridSearchCV, train_test_split\n",
        "from sklearn.svm import SVC\n",
        "from sklearn.metrics import accuracy_score\n",
        "\n",
        "# Load dataset\n",
        "iris = load_iris()\n",
        "X, y = iris.data, iris.target\n",
        "\n",
        "# Split data\n",
        "X_train, X_test, y_train, y_test = train_test_split(X, y, test_size=0.3, random_state=42)\n",
        "\n",
        "# Define parameter grid\n",
        "param_grid = {\n",
        "    'C': [0.1, 1, 10],\n",
        "    'gamma': [0.01, 0.1, 1],\n",
        "    'kernel': ['linear', 'rbf']\n",
        "}\n",
        "\n",
        "# Perform GridSearchCV\n",
        "grid_search = GridSearchCV(SVC(), param_grid, cv=5)\n",
        "grid_search.fit(X_train, y_train)\n",
        "\n",
        "# Best parameters and accuracy\n",
        "print(f\"Best Parameters: {grid_search.best_params_}\")\n",
        "y_pred = grid_search.predict(X_test)\n",
        "accuracy = accuracy_score(y_test, y_pred)\n",
        "print(f\"Accuracy: {accuracy:.2f}\")"
      ],
      "metadata": {
        "colab": {
          "base_uri": "https://localhost:8080/"
        },
        "id": "xBMetnIudDjj",
        "outputId": "f5b49bfe-1719-4220-ebb9-05bf83a4d204"
      },
      "execution_count": 13,
      "outputs": [
        {
          "output_type": "stream",
          "name": "stdout",
          "text": [
            "Best Parameters: {'C': 1, 'gamma': 0.01, 'kernel': 'linear'}\n",
            "Accuracy: 1.00\n"
          ]
        }
      ]
    },
    {
      "cell_type": "markdown",
      "source": [
        "32. Train an SVM Classifier on an imbalanced dataset and apply class weighting to improve accuracy\n"
      ],
      "metadata": {
        "id": "ZekUeJVHdJxe"
      }
    },
    {
      "cell_type": "code",
      "source": [
        "from sklearn.datasets import make_classification\n",
        "from sklearn.model_selection import train_test_split\n",
        "from sklearn.svm import SVC\n",
        "from sklearn.metrics import accuracy_score, classification_report\n",
        "\n",
        "# Generate imbalanced dataset\n",
        "X, y = make_classification(n_samples=1000, n_features=20, n_informative=15, n_redundant=5, weights=[0.9, 0.1], random_state=42)\n",
        "\n",
        "# Split data\n",
        "X_train, X_test, y_train, y_test = train_test_split(X, y, test_size=0.3, random_state=42)\n",
        "\n",
        "# Train SVM without class weighting\n",
        "svm = SVC(kernel='linear')\n",
        "svm.fit(X_train, y_train)\n",
        "y_pred = svm.predict(X_test)\n",
        "print(\"Without Class Weighting:\")\n",
        "print(classification_report(y_test, y_pred))\n",
        "\n",
        "# Train SVM with class weighting\n",
        "svm_weighted = SVC(kernel='linear', class_weight='balanced')\n",
        "svm_weighted.fit(X_train, y_train)\n",
        "y_pred_weighted = svm_weighted.predict(X_test)\n",
        "print(\"With Class Weighting:\")\n",
        "print(classification_report(y_test, y_pred_weighted))"
      ],
      "metadata": {
        "colab": {
          "base_uri": "https://localhost:8080/"
        },
        "id": "g79o3SnVdK1J",
        "outputId": "1768538e-d14a-46cb-bbd2-624aac56ac51"
      },
      "execution_count": 14,
      "outputs": [
        {
          "output_type": "stream",
          "name": "stdout",
          "text": [
            "Without Class Weighting:\n",
            "              precision    recall  f1-score   support\n",
            "\n",
            "           0       0.93      1.00      0.96       274\n",
            "           1       1.00      0.23      0.38        26\n",
            "\n",
            "    accuracy                           0.93       300\n",
            "   macro avg       0.97      0.62      0.67       300\n",
            "weighted avg       0.94      0.93      0.91       300\n",
            "\n",
            "With Class Weighting:\n",
            "              precision    recall  f1-score   support\n",
            "\n",
            "           0       0.99      0.77      0.86       274\n",
            "           1       0.26      0.88      0.41        26\n",
            "\n",
            "    accuracy                           0.78       300\n",
            "   macro avg       0.63      0.83      0.63       300\n",
            "weighted avg       0.92      0.78      0.82       300\n",
            "\n"
          ]
        }
      ]
    },
    {
      "cell_type": "markdown",
      "source": [
        "33. Implement a Naïve Bayes classifier for spam detection using email data\n"
      ],
      "metadata": {
        "id": "C89dH_afdNW6"
      }
    },
    {
      "cell_type": "code",
      "source": [
        "import pandas as pd\n",
        "from sklearn.model_selection import train_test_split\n",
        "from sklearn.feature_extraction.text import CountVectorizer\n",
        "from sklearn.naive_bayes import MultinomialNB\n",
        "from sklearn.metrics import accuracy_score, classification_report\n",
        "\n",
        "data = pd.read_csv(\"spam.csv\")\n",
        "X = data['text']\n",
        "y = data['label']\n",
        "\n",
        "# Convert text to features\n",
        "vectorizer = CountVectorizer()\n",
        "X_features = vectorizer.fit_transform(X)\n",
        "\n",
        "# Split data\n",
        "X_train, X_test, y_train, y_test = train_test_split(X_features, y, test_size=0.3, random_state=42)\n",
        "\n",
        "# Train Multinomial Naïve Bayes\n",
        "mnb = MultinomialNB()\n",
        "mnb.fit(X_train, y_train)\n",
        "\n",
        "# Evaluate\n",
        "y_pred = mnb.predict(X_test)\n",
        "print(f\"Accuracy: {accuracy_score(y_test, y_pred):.2f}\")\n",
        "print(classification_report(y_test, y_pred))"
      ],
      "metadata": {
        "id": "DDICysHVdOrg"
      },
      "execution_count": null,
      "outputs": []
    },
    {
      "cell_type": "markdown",
      "source": [
        "34. Train an SVM Classifier and a Naïve Bayes Classifier on the same dataset and compare their accuracy\n"
      ],
      "metadata": {
        "id": "EbS7q5VBdTTo"
      }
    },
    {
      "cell_type": "code",
      "source": [
        "from sklearn.datasets import load_iris\n",
        "from sklearn.model_selection import train_test_split\n",
        "from sklearn.svm import SVC\n",
        "from sklearn.naive_bayes import GaussianNB\n",
        "from sklearn.metrics import accuracy_score\n",
        "\n",
        "# Load dataset\n",
        "iris = load_iris()\n",
        "X, y = iris.data, iris.target\n",
        "\n",
        "# Split data\n",
        "X_train, X_test, y_train, y_test = train_test_split(X, y, test_size=0.3, random_state=42)\n",
        "\n",
        "# Train SVM\n",
        "svm = SVC(kernel='linear')\n",
        "svm.fit(X_train, y_train)\n",
        "y_pred_svm = svm.predict(X_test)\n",
        "accuracy_svm = accuracy_score(y_test, y_pred_svm)\n",
        "\n",
        "# Train Naïve Bayes\n",
        "gnb = GaussianNB()\n",
        "gnb.fit(X_train, y_train)\n",
        "y_pred_gnb = gnb.predict(X_test)\n",
        "accuracy_gnb = accuracy_score(y_test, y_pred_gnb)\n",
        "\n",
        "print(f\"SVM Accuracy: {accuracy_svm:.2f}\")\n",
        "print(f\"Naïve Bayes Accuracy: {accuracy_gnb:.2f}\")"
      ],
      "metadata": {
        "colab": {
          "base_uri": "https://localhost:8080/"
        },
        "id": "EP4l2Cn6dUxJ",
        "outputId": "c5b63ce7-6057-4878-c7ec-534cf5076a54"
      },
      "execution_count": 15,
      "outputs": [
        {
          "output_type": "stream",
          "name": "stdout",
          "text": [
            "SVM Accuracy: 1.00\n",
            "Naïve Bayes Accuracy: 0.98\n"
          ]
        }
      ]
    },
    {
      "cell_type": "markdown",
      "source": [
        "35. Perform feature selection before training a Naïve Bayes classifier and compare results\n"
      ],
      "metadata": {
        "id": "YMRpy8w1dXDT"
      }
    },
    {
      "cell_type": "code",
      "source": [
        "from sklearn.datasets import load_iris\n",
        "from sklearn.model_selection import train_test_split\n",
        "from sklearn.naive_bayes import GaussianNB\n",
        "from sklearn.feature_selection import SelectKBest, f_classif\n",
        "from sklearn.metrics import accuracy_score\n",
        "\n",
        "# Load dataset\n",
        "iris = load_iris()\n",
        "X, y = iris.data, iris.target\n",
        "\n",
        "# Split data\n",
        "X_train, X_test, y_train, y_test = train_test_split(X, y, test_size=0.3, random_state=42)\n",
        "\n",
        "# Perform feature selection\n",
        "selector = SelectKBest(f_classif, k=2)\n",
        "X_train_selected = selector.fit_transform(X_train, y_train)\n",
        "X_test_selected = selector.transform(X_test)\n",
        "\n",
        "# Train Naïve Bayes\n",
        "gnb = GaussianNB()\n",
        "gnb.fit(X_train_selected, y_train)\n",
        "y_pred = gnb.predict(X_test_selected)\n",
        "accuracy = accuracy_score(y_test, y_pred)\n",
        "print(f\"Accuracy after feature selection: {accuracy:.2f}\")"
      ],
      "metadata": {
        "colab": {
          "base_uri": "https://localhost:8080/"
        },
        "id": "Q1giRQvddYJE",
        "outputId": "1121cea4-5e7a-4d78-b0e6-dd324ea830cd"
      },
      "execution_count": 16,
      "outputs": [
        {
          "output_type": "stream",
          "name": "stdout",
          "text": [
            "Accuracy after feature selection: 1.00\n"
          ]
        }
      ]
    },
    {
      "cell_type": "markdown",
      "source": [
        "36. Train an SVM Classifier using One-vs-Rest (OvR) and One-vs-One (OvO) strategies on the Wine dataset and compare their accuracy\n"
      ],
      "metadata": {
        "id": "Ssuiyvt7dizY"
      }
    },
    {
      "cell_type": "code",
      "source": [
        "from sklearn.datasets import load_wine\n",
        "from sklearn.model_selection import train_test_split\n",
        "from sklearn.svm import SVC\n",
        "from sklearn.multiclass import OneVsRestClassifier, OneVsOneClassifier\n",
        "from sklearn.metrics import accuracy_score\n",
        "\n",
        "# Load dataset\n",
        "wine = load_wine()\n",
        "X, y = wine.data, wine.target\n",
        "\n",
        "# Split data\n",
        "X_train, X_test, y_train, y_test = train_test_split(X, y, test_size=0.3, random_state=42)\n",
        "\n",
        "# Train SVM with OvR\n",
        "svm_ovr = OneVsRestClassifier(SVC(kernel='linear'))\n",
        "svm_ovr.fit(X_train, y_train)\n",
        "y_pred_ovr = svm_ovr.predict(X_test)\n",
        "accuracy_ovr = accuracy_score(y_test, y_pred_ovr)\n",
        "\n",
        "# Train SVM with OvO\n",
        "svm_ovo = OneVsOneClassifier(SVC(kernel='linear'))\n",
        "svm_ovo.fit(X_train, y_train)\n",
        "y_pred_ovo = svm_ovo.predict(X_test)\n",
        "accuracy_ovo = accuracy_score(y_test, y_pred_ovo)\n",
        "\n",
        "print(f\"OvR Accuracy: {accuracy_ovr:.2f}\")\n",
        "print(f\"OvO Accuracy: {accuracy_ovo:.2f}\")"
      ],
      "metadata": {
        "colab": {
          "base_uri": "https://localhost:8080/"
        },
        "id": "g6E_8nSvdlfL",
        "outputId": "b310ead6-83a7-44db-9d28-9c3a1160307b"
      },
      "execution_count": 17,
      "outputs": [
        {
          "output_type": "stream",
          "name": "stdout",
          "text": [
            "OvR Accuracy: 0.98\n",
            "OvO Accuracy: 0.98\n"
          ]
        }
      ]
    },
    {
      "cell_type": "markdown",
      "source": [
        "37. Train an SVM Classifier using Linear, Polynomial, and RBF kernels on the Breast Cancer dataset and compare their accuracy\n"
      ],
      "metadata": {
        "id": "USAO9bDPdnra"
      }
    },
    {
      "cell_type": "code",
      "source": [
        "from sklearn.datasets import load_breast_cancer\n",
        "from sklearn.model_selection import train_test_split\n",
        "from sklearn.svm import SVC\n",
        "from sklearn.metrics import accuracy_score\n",
        "\n",
        "# Load dataset\n",
        "cancer = load_breast_cancer()\n",
        "X, y = cancer.data, cancer.target\n",
        "\n",
        "# Split data\n",
        "X_train, X_test, y_train, y_test = train_test_split(X, y, test_size=0.3, random_state=42)\n",
        "\n",
        "# Train SVM with different kernels\n",
        "kernels = ['linear', 'poly', 'rbf']\n",
        "for kernel in kernels:\n",
        "    svm = SVC(kernel=kernel)\n",
        "    svm.fit(X_train, y_train)\n",
        "    y_pred = svm.predict(X_test)\n",
        "    accuracy = accuracy_score(y_test, y_pred)\n",
        "    print(f\"{kernel.capitalize()} Kernel Accuracy: {accuracy:.2f}\")"
      ],
      "metadata": {
        "colab": {
          "base_uri": "https://localhost:8080/"
        },
        "id": "SNYZvUAgdpJK",
        "outputId": "6502a2a3-d348-4a5d-a401-becb28f30a3a"
      },
      "execution_count": 18,
      "outputs": [
        {
          "output_type": "stream",
          "name": "stdout",
          "text": [
            "Linear Kernel Accuracy: 0.96\n",
            "Poly Kernel Accuracy: 0.94\n",
            "Rbf Kernel Accuracy: 0.94\n"
          ]
        }
      ]
    },
    {
      "cell_type": "markdown",
      "source": [
        "38. Train an SVM Classifier using Stratified K-Fold Cross-Validation and compute the average accuracy\n"
      ],
      "metadata": {
        "id": "nODMN_44drSr"
      }
    },
    {
      "cell_type": "code",
      "source": [
        "from sklearn.datasets import load_iris\n",
        "from sklearn.model_selection import cross_val_score\n",
        "from sklearn.svm import SVC\n",
        "\n",
        "# Load dataset\n",
        "iris = load_iris()\n",
        "X, y = iris.data, iris.target\n",
        "\n",
        "# Perform Stratified K-Fold Cross-Validation\n",
        "svm = SVC(kernel='linear')\n",
        "scores = cross_val_score(svm, X, y, cv=5)\n",
        "print(f\"Average Accuracy: {scores.mean():.2f}\")"
      ],
      "metadata": {
        "colab": {
          "base_uri": "https://localhost:8080/"
        },
        "id": "gq3mUk5PdsZJ",
        "outputId": "c465201e-4898-47d2-9346-dbfb3128d78f"
      },
      "execution_count": 19,
      "outputs": [
        {
          "output_type": "stream",
          "name": "stdout",
          "text": [
            "Average Accuracy: 0.98\n"
          ]
        }
      ]
    },
    {
      "cell_type": "markdown",
      "source": [
        "39. Train a Naïve Bayes classifier using different prior probabilities and compare performance\n"
      ],
      "metadata": {
        "id": "ucuXMWHUduhq"
      }
    },
    {
      "cell_type": "code",
      "source": [
        "from sklearn.datasets import load_iris\n",
        "from sklearn.model_selection import train_test_split\n",
        "from sklearn.naive_bayes import GaussianNB\n",
        "from sklearn.metrics import accuracy_score\n",
        "\n",
        "# Load dataset\n",
        "iris = load_iris()\n",
        "X, y = iris.data, iris.target\n",
        "\n",
        "# Split data\n",
        "X_train, X_test, y_train, y_test = train_test_split(X, y, test_size=0.3, random_state=42)\n",
        "\n",
        "# Train Naïve Bayes with different priors\n",
        "priors = [None, [0.1, 0.8, 0.1], [0.33, 0.33, 0.34]]\n",
        "for prior in priors:\n",
        "    gnb = GaussianNB(priors=prior)\n",
        "    gnb.fit(X_train, y_train)\n",
        "    y_pred = gnb.predict(X_test)\n",
        "    accuracy = accuracy_score(y_test, y_pred)\n",
        "    print(f\"Accuracy with priors {prior}: {accuracy:.2f}\")"
      ],
      "metadata": {
        "id": "m2LpuVIEe9qa"
      },
      "execution_count": null,
      "outputs": []
    },
    {
      "cell_type": "markdown",
      "source": [
        "40. Perform Recursive Feature Elimination (RFE) before training an SVM Classifier and compare accuracy\n"
      ],
      "metadata": {
        "id": "7njJYg-Xe-UF"
      }
    },
    {
      "cell_type": "code",
      "source": [
        "from sklearn.datasets import load_iris\n",
        "from sklearn.model_selection import train_test_split\n",
        "from sklearn.svm import SVC\n",
        "from sklearn.feature_selection import RFE\n",
        "from sklearn.metrics import accuracy_score\n",
        "\n",
        "# Load dataset\n",
        "iris = load_iris()\n",
        "X, y = iris.data, iris.target\n",
        "\n",
        "# Split data\n",
        "X_train, X_test, y_train, y_test = train_test_split(X, y, test_size=0.3, random_state=42)\n",
        "\n",
        "# Perform RFE\n",
        "svm = SVC(kernel='linear')\n",
        "rfe = RFE(svm, n_features_to_select=2)\n",
        "X_train_rfe = rfe.fit_transform(X_train, y_train)\n",
        "X_test_rfe = rfe.transform(X_test)\n",
        "\n",
        "# Train SVM\n",
        "svm.fit(X_train_rfe, y_train)\n",
        "y_pred = svm.predict(X_test_rfe)\n",
        "accuracy = accuracy_score(y_test, y_pred)\n",
        "print(f\"Accuracy after RFE: {accuracy:.2f}\")"
      ],
      "metadata": {
        "colab": {
          "base_uri": "https://localhost:8080/"
        },
        "id": "LZnxtgkIfBpP",
        "outputId": "910f857a-2217-49f7-a302-5538e6609e07"
      },
      "execution_count": 20,
      "outputs": [
        {
          "output_type": "stream",
          "name": "stdout",
          "text": [
            "Accuracy after RFE: 1.00\n"
          ]
        }
      ]
    },
    {
      "cell_type": "markdown",
      "source": [
        "41. Train an SVM Classifier and evaluate its performance using Precision, Recall, and F1-Score instead of accuracy\n"
      ],
      "metadata": {
        "id": "-u0_eWyZfViM"
      }
    },
    {
      "cell_type": "code",
      "source": [
        "from sklearn.datasets import load_iris\n",
        "from sklearn.model_selection import train_test_split\n",
        "from sklearn.svm import SVC\n",
        "from sklearn.metrics import precision_score, recall_score, f1_score\n",
        "\n",
        "# Load dataset\n",
        "iris = load_iris()\n",
        "X, y = iris.data, iris.target\n",
        "\n",
        "# Split data\n",
        "X_train, X_test, y_train, y_test = train_test_split(X, y, test_size=0.3, random_state=42)\n",
        "\n",
        "# Train SVM\n",
        "svm = SVC(kernel='linear')\n",
        "svm.fit(X_train, y_train)\n",
        "y_pred = svm.predict(X_test)\n",
        "\n",
        "# Evaluate\n",
        "precision = precision_score(y_test, y_pred, average='weighted')\n",
        "recall = recall_score(y_test, y_pred, average='weighted')\n",
        "f1 = f1_score(y_test, y_pred, average='weighted')\n",
        "\n",
        "print(f\"Precision: {precision:.2f}\")\n",
        "print(f\"Recall: {recall:.2f}\")\n",
        "print(f\"F1-Score: {f1:.2f}\")"
      ],
      "metadata": {
        "colab": {
          "base_uri": "https://localhost:8080/"
        },
        "id": "p3BBTCxBfXdP",
        "outputId": "7fa646e3-028b-4ea5-e6a4-dd7b25a35c42"
      },
      "execution_count": 21,
      "outputs": [
        {
          "output_type": "stream",
          "name": "stdout",
          "text": [
            "Precision: 1.00\n",
            "Recall: 1.00\n",
            "F1-Score: 1.00\n"
          ]
        }
      ]
    },
    {
      "cell_type": "markdown",
      "source": [
        "42. Train a Naïve Bayes Classifier and evaluate its performance using Log Loss (Cross-Entropy Loss)\n"
      ],
      "metadata": {
        "id": "ktOj6HhBfZeT"
      }
    },
    {
      "cell_type": "code",
      "source": [
        "from sklearn.datasets import load_iris\n",
        "from sklearn.model_selection import train_test_split\n",
        "from sklearn.naive_bayes import GaussianNB\n",
        "from sklearn.metrics import log_loss\n",
        "\n",
        "# Load dataset\n",
        "iris = load_iris()\n",
        "X, y = iris.data, iris.target\n",
        "\n",
        "# Split data\n",
        "X_train, X_test, y_train, y_test = train_test_split(X, y, test_size=0.3, random_state=42)\n",
        "\n",
        "# Train Naïve Bayes\n",
        "gnb = GaussianNB()\n",
        "gnb.fit(X_train, y_train)\n",
        "\n",
        "# Predict probabilities\n",
        "y_pred_proba = gnb.predict_proba(X_test)\n",
        "\n",
        "# Evaluate using Log Loss\n",
        "loss = log_loss(y_test, y_pred_proba)\n",
        "print(f\"Log Loss: {loss:.2f}\")"
      ],
      "metadata": {
        "colab": {
          "base_uri": "https://localhost:8080/"
        },
        "id": "iqkwv1kuffN3",
        "outputId": "4be32cea-b2e6-477d-fc56-4bed5814baed"
      },
      "execution_count": 22,
      "outputs": [
        {
          "output_type": "stream",
          "name": "stdout",
          "text": [
            "Log Loss: 0.05\n"
          ]
        }
      ]
    },
    {
      "cell_type": "markdown",
      "source": [
        "43. Train an SVM Classifier and visualize the Confusion Matrix using seaborn\n"
      ],
      "metadata": {
        "id": "-Fd0pUGvfg89"
      }
    },
    {
      "cell_type": "code",
      "source": [
        "import seaborn as sns\n",
        "import matplotlib.pyplot as plt\n",
        "from sklearn.datasets import load_iris\n",
        "from sklearn.model_selection import train_test_split\n",
        "from sklearn.svm import SVC\n",
        "from sklearn.metrics import confusion_matrix\n",
        "\n",
        "# Load dataset\n",
        "iris = load_iris()\n",
        "X, y = iris.data, iris.target\n",
        "\n",
        "# Split data\n",
        "X_train, X_test, y_train, y_test = train_test_split(X, y, test_size=0.3, random_state=42)\n",
        "\n",
        "# Train SVM\n",
        "svm = SVC(kernel='linear')\n",
        "svm.fit(X_train, y_train)\n",
        "y_pred = svm.predict(X_test)\n",
        "\n",
        "# Confusion Matrix\n",
        "cm = confusion_matrix(y_test, y_pred)\n",
        "sns.heatmap(cm, annot=True, fmt='d', cmap='Blues')\n",
        "plt.xlabel('Predicted')\n",
        "plt.ylabel('Actual')\n",
        "plt.title('Confusion Matrix')\n",
        "plt.show()"
      ],
      "metadata": {
        "colab": {
          "base_uri": "https://localhost:8080/",
          "height": 472
        },
        "id": "XDQlod6GfigC",
        "outputId": "d86614f8-2984-4acd-96f6-f5925c643db8"
      },
      "execution_count": 23,
      "outputs": [
        {
          "output_type": "display_data",
          "data": {
            "text/plain": [
              "<Figure size 640x480 with 2 Axes>"
            ],
            "image/png": "[encoded data removed]"
          },
          "metadata": {}
        }
      ]
    },
    {
      "cell_type": "markdown",
      "source": [
        "44. Train an SVM Regressor (SVR) and evaluate its performance using Mean Absolute Error (MAE) instead of MSE\n"
      ],
      "metadata": {
        "id": "MeBxuUvCfkqv"
      }
    },
    {
      "cell_type": "code",
      "source": [
        "from sklearn.datasets import fetch_california_housing\n",
        "from sklearn.model_selection import train_test_split\n",
        "from sklearn.svm import SVR\n",
        "from sklearn.metrics import mean_absolute_error\n",
        "\n",
        "# Load dataset\n",
        "housing = fetch_california_housing()\n",
        "X, y = housing.data, housing.target\n",
        "\n",
        "# Split data\n",
        "X_train, X_test, y_train, y_test = train_test_split(X, y, test_size=0.3, random_state=42)\n",
        "\n",
        "# Train SVR\n",
        "svr = SVR(kernel='rbf')\n",
        "svr.fit(X_train, y_train)\n",
        "\n",
        "# Evaluate using MAE\n",
        "y_pred = svr.predict(X_test)\n",
        "mae = mean_absolute_error(y_test, y_pred)\n",
        "print(f\"Mean Absolute Error: {mae:.2f}\")"
      ],
      "metadata": {
        "colab": {
          "base_uri": "https://localhost:8080/"
        },
        "id": "HqtuiaKUfl4n",
        "outputId": "170d0907-fca5-496d-ec36-a110b035ac00"
      },
      "execution_count": 24,
      "outputs": [
        {
          "output_type": "stream",
          "name": "stdout",
          "text": [
            "Mean Absolute Error: 0.87\n"
          ]
        }
      ]
    },
    {
      "cell_type": "markdown",
      "source": [
        "45. Train a Naïve Bayes classifier and evaluate its performance using the ROC-AUC score\n"
      ],
      "metadata": {
        "id": "Q1gKcYI0fnog"
      }
    },
    {
      "cell_type": "code",
      "source": [
        "from sklearn.datasets import load_breast_cancer\n",
        "from sklearn.model_selection import train_test_split\n",
        "from sklearn.naive_bayes import GaussianNB\n",
        "from sklearn.metrics import roc_auc_score\n",
        "\n",
        "# Load dataset\n",
        "cancer = load_breast_cancer()\n",
        "X, y = cancer.data, cancer.target\n",
        "\n",
        "# Split data\n",
        "X_train, X_test, y_train, y_test = train_test_split(X, y, test_size=0.3, random_state=42)\n",
        "\n",
        "# Train Naïve Bayes\n",
        "gnb = GaussianNB()\n",
        "gnb.fit(X_train, y_train)\n",
        "\n",
        "# Predict probabilities\n",
        "y_pred_proba = gnb.predict_proba(X_test)[:, 1]\n",
        "\n",
        "# Evaluate using ROC-AUC\n",
        "roc_auc = roc_auc_score(y_test, y_pred_proba)\n",
        "print(f\"ROC-AUC Score: {roc_auc:.2f}\")"
      ],
      "metadata": {
        "colab": {
          "base_uri": "https://localhost:8080/"
        },
        "id": "YFRK-SXEfpA4",
        "outputId": "3e989d27-4792-4136-d511-bcc4ab6d5631"
      },
      "execution_count": 25,
      "outputs": [
        {
          "output_type": "stream",
          "name": "stdout",
          "text": [
            "ROC-AUC Score: 0.99\n"
          ]
        }
      ]
    },
    {
      "cell_type": "markdown",
      "source": [
        "46. Train an SVM Classifier and visualize the Precision-Recall Curve\n"
      ],
      "metadata": {
        "id": "Blp_Et77fq19"
      }
    },
    {
      "cell_type": "code",
      "source": [
        "from sklearn.datasets import load_iris\n",
        "from sklearn.model_selection import train_test_split\n",
        "from sklearn.svm import SVC\n",
        "from sklearn.metrics import precision_recall_curve, auc\n",
        "import matplotlib.pyplot as plt\n",
        "\n",
        "# Load dataset\n",
        "iris = load_iris()\n",
        "X, y = iris.data, iris.target\n",
        "\n",
        "# Binary classification for Precision-Recall Curve\n",
        "X = X[y != 2]\n",
        "y = y[y != 2]\n",
        "\n",
        "# Split data\n",
        "X_train, X_test, y_train, y_test = train_test_split(X, y, test_size=0.3, random_state=42)\n",
        "\n",
        "# Train SVM\n",
        "svm = SVC(kernel='linear', probability=True)\n",
        "svm.fit(X_train, y_train)\n",
        "\n",
        "# Predict probabilities\n",
        "y_pred_proba = svm.predict_proba(X_test)[:, 1]\n",
        "\n",
        "# Precision-Recall Curve\n",
        "precision, recall, _ = precision_recall_curve(y_test, y_pred_proba)\n",
        "pr_auc = auc(recall, precision)\n",
        "\n",
        "# Plot\n",
        "plt.plot(recall, precision, label=f'PR Curve (AUC = {pr_auc:.2f})')\n",
        "plt.xlabel('Recall')\n",
        "plt.ylabel('Precision')\n",
        "plt.title('Precision-Recall Curve')\n",
        "plt.legend()\n",
        "plt.show()"
      ],
      "metadata": {
        "colab": {
          "base_uri": "https://localhost:8080/",
          "height": 472
        },
        "id": "LfM2nQDgfsJT",
        "outputId": "3396030b-e2a9-4275-e9b7-7c88a531faa8"
      },
      "execution_count": 26,
      "outputs": [
        {
          "output_type": "display_data",
          "data": {
            "text/plain": [
              "<Figure size 640x480 with 1 Axes>"
            ],
            "image/png": "[encoded data removed]"
          },
          "metadata": {}
        }
      ]
    }
  ]
}