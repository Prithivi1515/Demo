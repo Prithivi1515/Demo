{
  "nbformat": 4,
  "nbformat_minor": 0,
  "metadata": {
    "colab": {
      "provenance": [],
      "authorship_tag": "ABX9TyOgk1RIRTHBmW7tQyqFcVYn",
      "include_colab_link": true
    },
    "kernelspec": {
      "name": "python3",
      "display_name": "Python 3"
    },
    "language_info": {
      "name": "python"
    }
  },
  "cells": [
    {
      "cell_type": "markdown",
      "metadata": {
        "id": "view-in-github",
        "colab_type": "text"
      },
      "source": [
        "<a href=\"https://colab.research.google.com/github/Prithivi1515/Demo/blob/main/Numpy.ipynb\" target=\"_parent\"><img src=\"https://colab.research.google.com/assets/colab-badge.svg\" alt=\"Open In Colab\"/></a>"
      ]
    },
    {
      "cell_type": "markdown",
      "source": [
        "1. Create a 3x3 NumPy array with random integers between 1 and 100, then interchange its rows and columns.\n"
      ],
      "metadata": {
        "id": "sb9zAyy7hAi2"
      }
    },
    {
      "cell_type": "code",
      "source": [
        "import numpy as np\n",
        "\n",
        "# Generate a 3x3 array with random integers\n",
        "arr = np.random.randint(1, 101, (3, 3))\n",
        "print(\"Original Array:\\n\", arr)\n",
        "\n",
        "# Interchange rows and columns (transpose)\n",
        "transposed_arr = arr.T\n",
        "print(\"Transposed Array:\\n\", transposed_arr)"
      ],
      "metadata": {
        "id": "vQXJaZulhF3a"
      },
      "execution_count": null,
      "outputs": []
    },
    {
      "cell_type": "markdown",
      "source": [
        "2. Generate a 1D NumPy array with 10 elements, reshape it into a 2x5 array, then into a 5x2 array."
      ],
      "metadata": {
        "id": "6OMTtHQzhKgw"
      }
    },
    {
      "cell_type": "code",
      "source": [
        "arr = np.arange(10)\n",
        "arr_2x5 = arr.reshape(2, 5)\n",
        "arr_5x2 = arr.reshape(5, 2)\n",
        "\n",
        "print(\"2x5 Array:\\n\", arr_2x5)\n",
        "print(\"5x2 Array:\\n\", arr_5x2)"
      ],
      "metadata": {
        "id": "Lci3_-IyhQc5"
      },
      "execution_count": null,
      "outputs": []
    },
    {
      "cell_type": "markdown",
      "source": [
        "3. Create a 4x4 NumPy array with random float values, add a border of zeros around it to get a 6x6 array."
      ],
      "metadata": {
        "id": "SXnC5vRwhSMz"
      }
    },
    {
      "cell_type": "code",
      "source": [
        "arr = np.random.rand(4, 4)\n",
        "bordered_arr = np.pad(arr, pad_width=1, mode='constant', constant_values=0)\n",
        "\n",
        "print(\"4x4 Array with Border:\\n\", bordered_arr)"
      ],
      "metadata": {
        "id": "tzbcLZn8hUAZ"
      },
      "execution_count": null,
      "outputs": []
    },
    {
      "cell_type": "markdown",
      "source": [
        "4. Using NumPy, create an array of integers from 10 to 60 with a step of 5.\n",
        "\n"
      ],
      "metadata": {
        "id": "Bfb72HiXhVgu"
      }
    },
    {
      "cell_type": "code",
      "source": [
        "arr = np.arange(10, 61, 5)\n",
        "print(\"Array with step of 5:\\n\", arr)"
      ],
      "metadata": {
        "id": "nkd9H2LkhXjE"
      },
      "execution_count": null,
      "outputs": []
    },
    {
      "cell_type": "markdown",
      "source": [
        "5. Create a NumPy array of strings and apply different case transformations (uppercase, lowercase, title case)."
      ],
      "metadata": {
        "id": "TW9KJoEHhZX7"
      }
    },
    {
      "cell_type": "code",
      "source": [
        "arr = np.array(['python', 'numpy', 'pandas'])\n",
        "\n",
        "# Apply transformations\n",
        "uppercase = np.char.upper(arr)\n",
        "lowercase = np.char.lower(arr)\n",
        "titlecase = np.char.title(arr)\n",
        "\n",
        "print(\"Uppercase:\\n\", uppercase)\n",
        "print(\"Lowercase:\\n\", lowercase)\n",
        "print(\"Title Case:\\n\", titlecase)"
      ],
      "metadata": {
        "id": "hUacAKP2hcpN"
      },
      "execution_count": null,
      "outputs": []
    },
    {
      "cell_type": "markdown",
      "source": [
        "6. Generate a NumPy array of words, and insert a space between each character of every word in the array.\n",
        "\n"
      ],
      "metadata": {
        "id": "z1PHrHBnhepG"
      }
    },
    {
      "cell_type": "code",
      "source": [
        "arr = np.array(['hello', 'world', 'numpy'])\n",
        "spaced_arr = np.array([np.char.join(' ', word) for word in arr])\n",
        "\n",
        "print(\"Array with spaces:\\n\", spaced_arr)"
      ],
      "metadata": {
        "id": "9-P0IINYhgvw"
      },
      "execution_count": null,
      "outputs": []
    },
    {
      "cell_type": "markdown",
      "source": [
        "7. Create two 2D NumPy arrays and perform element-wise addition, subtraction, multiplication, and division.\n",
        "\n"
      ],
      "metadata": {
        "id": "DMJdPDj1hi_6"
      }
    },
    {
      "cell_type": "code",
      "source": [
        "arr1 = np.array([[1, 2], [3, 4]])\n",
        "arr2 = np.array([[5, 6], [7, 8]])\n",
        "\n",
        "addition = arr1 + arr2\n",
        "subtraction = arr1 - arr2\n",
        "multiplication = arr1 * arr2\n",
        "division = arr1 / arr2\n",
        "\n",
        "print(\"Addition:\\n\", addition)\n",
        "print(\"Subtraction:\\n\", subtraction)\n",
        "print(\"Multiplication:\\n\", multiplication)\n",
        "print(\"Division:\\n\", division)"
      ],
      "metadata": {
        "id": "T7nRyD55hnQx"
      },
      "execution_count": null,
      "outputs": []
    },
    {
      "cell_type": "markdown",
      "source": [
        "8. Use NumPy to create a 5x5 identity matrix, then extract its diagonal elements.\n",
        "\n"
      ],
      "metadata": {
        "id": "RxTna8Feho83"
      }
    },
    {
      "cell_type": "code",
      "source": [
        "identity_matrix = np.eye(5)\n",
        "diagonal_elements = np.diag(identity_matrix)\n",
        "\n",
        "print(\"Identity Matrix:\\n\", identity_matrix)\n",
        "print(\"Diagonal Elements:\\n\", diagonal_elements)"
      ],
      "metadata": {
        "id": "RFbaYgjbhrAI"
      },
      "execution_count": null,
      "outputs": []
    },
    {
      "cell_type": "markdown",
      "source": [
        "9. Generate a NumPy array of 100 random integers between 0 and 1000, then find and display all prime numbers.\n",
        "\n"
      ],
      "metadata": {
        "id": "KNRlu_fUhsrR"
      }
    },
    {
      "cell_type": "code",
      "source": [
        "def is_prime(n):\n",
        "    if n < 2:\n",
        "        return False\n",
        "    for i in range(2, int(np.sqrt(n)) + 1):\n",
        "        if n % i == 0:\n",
        "            return False\n",
        "    return True\n",
        "\n",
        "arr = np.random.randint(0, 1001, 100)\n",
        "primes = arr[np.vectorize(is_prime)(arr)]\n",
        "\n",
        "print(\"Array:\\n\", arr)\n",
        "print(\"Prime Numbers:\\n\", primes)"
      ],
      "metadata": {
        "id": "XquiN2ejhvSW"
      },
      "execution_count": null,
      "outputs": []
    },
    {
      "cell_type": "markdown",
      "source": [
        "10. Create a NumPy array representing daily temperatures for a month and calculate weekly averages.\n",
        "\n"
      ],
      "metadata": {
        "id": "hnrNuFRnhxBP"
      }
    },
    {
      "cell_type": "code",
      "source": [
        "# Assume daily temperatures for 30 days\n",
        "temperatures = np.random.randint(20, 35, 30)\n",
        "\n",
        "# Reshape to 4 weeks (7 days per week) with one extra day\n",
        "temperatures = temperatures.reshape(4, 7)\n",
        "weekly_averages = np.mean(temperatures, axis=1)\n",
        "\n",
        "print(\"Daily Temperatures:\\n\", temperatures)\n",
        "print(\"Weekly Averages:\\n\", weekly_averages)"
      ],
      "metadata": {
        "id": "mJLurRfjhyry"
      },
      "execution_count": null,
      "outputs": []
    }
  ]
}