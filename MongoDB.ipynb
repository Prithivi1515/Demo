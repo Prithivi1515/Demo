{
  "nbformat": 4,
  "nbformat_minor": 0,
  "metadata": {
    "colab": {
      "provenance": [],
      "authorship_tag": "ABX9TyNLPI+GfL/J1OxtwJFU1Na1",
      "include_colab_link": true
    },
    "kernelspec": {
      "name": "python3",
      "display_name": "Python 3"
    },
    "language_info": {
      "name": "python"
    }
  },
  "cells": [
    {
      "cell_type": "markdown",
      "metadata": {
        "id": "view-in-github",
        "colab_type": "text"
      },
      "source": [
        "<a href=\"https://colab.research.google.com/github/Prithivi1515/Demo/blob/main/MongoDB.ipynb\" target=\"_parent\"><img src=\"https://colab.research.google.com/assets/colab-badge.svg\" alt=\"Open In Colab\"/></a>"
      ]
    },
    {
      "cell_type": "markdown",
      "source": [
        "Theoretical Questions\n"
      ],
      "metadata": {
        "id": "iNnG50ErWoi2"
      }
    },
    {
      "cell_type": "markdown",
      "source": [
        "1. What are the key differences between SQL and NoSQL database\n"
      ],
      "metadata": {
        "id": "FBBaxU_KUieb"
      }
    },
    {
      "cell_type": "markdown",
      "source": [
        "SQL: Relational, table-based, structured schema, ACID-compliant, good for complex queries.\n",
        "\n",
        "NoSQL: Non-relational, flexible schema (document, key-value, graph, etc.), scalable, good for unstructured data."
      ],
      "metadata": {
        "id": "OAr2Lz23Ulfh"
      }
    },
    {
      "cell_type": "markdown",
      "source": [
        "2.  What makes MongoDB a good choice for modern applications"
      ],
      "metadata": {
        "id": "2QIg9xfqUm9y"
      }
    },
    {
      "cell_type": "markdown",
      "source": [
        "Flexible schema for evolving data.\n",
        "\n",
        "Scalable (horizontal scaling via sharding).\n",
        "\n",
        "High performance for read/write operations.\n",
        "\n",
        "Supports JSON-like documents for easy integration with modern apps."
      ],
      "metadata": {
        "id": "y5tnT4uCUqcb"
      }
    },
    {
      "cell_type": "markdown",
      "source": [
        "3. Explain the concept of collections in MongoDB"
      ],
      "metadata": {
        "id": "BVm4MsjEUsig"
      }
    },
    {
      "cell_type": "markdown",
      "source": [
        "Collections are groups of MongoDB documents (similar to tables in SQL).\n",
        "\n",
        "They don’t enforce a schema, allowing flexibility in document structure."
      ],
      "metadata": {
        "id": "quwELMtiUwwE"
      }
    },
    {
      "cell_type": "markdown",
      "source": [
        "4. How does MongoDB ensure high availability using replication"
      ],
      "metadata": {
        "id": "8g4W5CitUxUl"
      }
    },
    {
      "cell_type": "markdown",
      "source": [
        "MongoDB uses replica sets: a primary node handles writes, while secondary nodes replicate data.\n",
        "\n",
        "If the primary fails, a secondary is elected as the new primary, ensuring minimal downtime."
      ],
      "metadata": {
        "id": "w6h1jaL7U1Jz"
      }
    },
    {
      "cell_type": "markdown",
      "source": [
        "5.  What are the main benefits of MongoDB Atlas?"
      ],
      "metadata": {
        "id": "tMX1J8hxU21p"
      }
    },
    {
      "cell_type": "markdown",
      "source": [
        "Fully managed cloud database service.\n",
        "\n",
        "Automated backups, scaling, and monitoring.\n",
        "\n",
        "Global clusters for low-latency access.\n",
        "\n",
        "Built-in security and compliance features."
      ],
      "metadata": {
        "id": "Lzqr9ZvHU7Eu"
      }
    },
    {
      "cell_type": "markdown",
      "source": [
        "6. What is the role of indexes in MongoDB, and how do they improve performance?"
      ],
      "metadata": {
        "id": "_YMLOGCpU9a6"
      }
    },
    {
      "cell_type": "markdown",
      "source": [
        "Indexes improve query performance by creating pointers to data.\n",
        "\n",
        "Without indexes, MongoDB performs a full collection scan."
      ],
      "metadata": {
        "id": "avppOb-5VAjp"
      }
    },
    {
      "cell_type": "markdown",
      "source": [
        "7.  Describe the stages of the MongoDB aggregation pipeline."
      ],
      "metadata": {
        "id": "kCdqnY9_VDlj"
      }
    },
    {
      "cell_type": "markdown",
      "source": [
        "Stages include match, group, sort, project, lookup, etc.\n",
        "\n",
        "Data flows through stages, transforming and processing it step-by-step."
      ],
      "metadata": {
        "id": "VeaYI1YIVGb3"
      }
    },
    {
      "cell_type": "markdown",
      "source": [
        "8. What is sharding in MongoDB? How does it differ from replication?"
      ],
      "metadata": {
        "id": "z4MN5G4gVG-p"
      }
    },
    {
      "cell_type": "markdown",
      "source": [
        "Sharding splits data across multiple servers (shards) for horizontal scaling.\n",
        "\n",
        "Replication duplicates data across nodes for high availability."
      ],
      "metadata": {
        "id": "1DanLIt0VSQf"
      }
    },
    {
      "cell_type": "markdown",
      "source": [
        "9. What is PyMongo, and why is it used?"
      ],
      "metadata": {
        "id": "FrcgSI6jVUrH"
      }
    },
    {
      "cell_type": "markdown",
      "source": [
        "PyMongo is the official Python driver for MongoDB.\n",
        "\n",
        "It allows Python applications to interact with MongoDB databases."
      ],
      "metadata": {
        "id": "KaXmwVvLVWzn"
      }
    },
    {
      "cell_type": "markdown",
      "source": [
        "10. What are the ACID properties in the context of MongoDB transactions?"
      ],
      "metadata": {
        "id": "WykM6sCWVX2Q"
      }
    },
    {
      "cell_type": "markdown",
      "source": [
        "MongoDB supports ACID (Atomicity, Consistency, Isolation, Durability) for multi-document transactions.\n",
        "\n",
        "Ensures data integrity in complex operations."
      ],
      "metadata": {
        "id": "lG_dB3qIVcuA"
      }
    },
    {
      "cell_type": "markdown",
      "source": [
        "11. What is the purpose of MongoDB’s explain() function?"
      ],
      "metadata": {
        "id": "jCak1cllVfQE"
      }
    },
    {
      "cell_type": "markdown",
      "source": [
        "Provides details on query execution (e.g., indexes used, execution time).\n",
        "\n",
        "Helps optimize queries for better performance."
      ],
      "metadata": {
        "id": "pVPvHaChVigp"
      }
    },
    {
      "cell_type": "markdown",
      "source": [
        "12. How does MongoDB handle schema validation?"
      ],
      "metadata": {
        "id": "fXQz3EQ7Vlfw"
      }
    },
    {
      "cell_type": "markdown",
      "source": [
        "MongoDB allows schema validation rules to enforce document structure.\n",
        "\n",
        "Ensures data consistency without rigid schema enforcement."
      ],
      "metadata": {
        "id": "1LkwJ8KnVnl4"
      }
    },
    {
      "cell_type": "markdown",
      "source": [
        "13. What is the difference between a primary and a secondary node in a replica set?"
      ],
      "metadata": {
        "id": "sQX6gQnFVras"
      }
    },
    {
      "cell_type": "markdown",
      "source": [
        "Primary: Handles all write operations and replicates data to secondaries.\n",
        "\n",
        "Secondary: Replicates data and can handle read operations."
      ],
      "metadata": {
        "id": "pUnYfQP7VuGF"
      }
    },
    {
      "cell_type": "markdown",
      "source": [
        "14. What security mechanisms does MongoDB provide for data protection?"
      ],
      "metadata": {
        "id": "zI6TJnrkVuxO"
      }
    },
    {
      "cell_type": "markdown",
      "source": [
        "Authentication (e.g., SCRAM, LDAP, Kerberos).\n",
        "\n",
        "Encryption (at rest and in transit).\n",
        "\n",
        "Role-based access control (RBAC).\n",
        "\n",
        "Auditing for tracking database activity."
      ],
      "metadata": {
        "id": "CfzvHq7bVxly"
      }
    },
    {
      "cell_type": "markdown",
      "source": [
        "15.  Explain the concept of embedded documents and when they should be used?"
      ],
      "metadata": {
        "id": "dy_XzoXfV1gH"
      }
    },
    {
      "cell_type": "markdown",
      "source": [
        "Documents nested within other documents.\n",
        "\n",
        "Useful for one-to-one or one-to-many relationships to reduce joins."
      ],
      "metadata": {
        "id": "yZnHNlAmV4ll"
      }
    },
    {
      "cell_type": "markdown",
      "source": [
        "16. What is the purpose of MongoDB’s $lookup stage in aggregation?"
      ],
      "metadata": {
        "id": "5kiMUUvfV5WF"
      }
    },
    {
      "cell_type": "markdown",
      "source": [
        "Performs a left outer join between two collections.\n",
        "\n",
        "Combines data from related documents."
      ],
      "metadata": {
        "id": "wkEwazkSV-Yj"
      }
    },
    {
      "cell_type": "markdown",
      "source": [
        "17. What are some common use cases for MongoDB?"
      ],
      "metadata": {
        "id": "bnVZJR_iV-2E"
      }
    },
    {
      "cell_type": "markdown",
      "source": [
        "Real-time analytics.\n",
        "\n",
        "Content management systems.\n",
        "\n",
        "IoT applications.\n",
        "\n",
        "Mobile and social apps.\n",
        "\n",
        "E-commerce platforms."
      ],
      "metadata": {
        "id": "0gki-RMBWDIt"
      }
    },
    {
      "cell_type": "markdown",
      "source": [
        "18. What are the advantages of using MongoDB for horizontal scaling?"
      ],
      "metadata": {
        "id": "gZN7APqGWDvO"
      }
    },
    {
      "cell_type": "markdown",
      "source": [
        "Sharding distributes data across multiple servers.\n",
        "\n",
        "Handles large datasets and high traffic efficiently."
      ],
      "metadata": {
        "id": "2rQ6oc6kWJwd"
      }
    },
    {
      "cell_type": "markdown",
      "source": [
        "19. How do MongoDB transactions differ from SQL transactions?"
      ],
      "metadata": {
        "id": "1A9LZBxTWLxJ"
      }
    },
    {
      "cell_type": "markdown",
      "source": [
        "MongoDB supports multi-document ACID transactions (similar to SQL).\n",
        "\n",
        "However, MongoDB transactions are typically used sparingly due to performance considerations."
      ],
      "metadata": {
        "id": "EDfTMuopWPKl"
      }
    },
    {
      "cell_type": "markdown",
      "source": [
        "20. What are the main differences between capped collections and regular collections?"
      ],
      "metadata": {
        "id": "1O8IVpLdWTaM"
      }
    },
    {
      "cell_type": "markdown",
      "source": [
        "Capped Collections: Fixed size, FIFO order, high-performance for logs or caching.\n",
        "\n",
        "Regular Collections: No size limit, flexible for general use."
      ],
      "metadata": {
        "id": "fAFNUIKqWWzj"
      }
    },
    {
      "cell_type": "markdown",
      "source": [
        "21.  What is the purpose of the $match stage in MongoDB’s aggregation pipeline?"
      ],
      "metadata": {
        "id": "e2wV6q3GWXSE"
      }
    },
    {
      "cell_type": "markdown",
      "source": [
        "Filters documents to pass only those that match specified conditions.\n",
        "\n",
        "Similar to the WHERE clause in SQL."
      ],
      "metadata": {
        "id": "bZ0w5gz5Wbat"
      }
    },
    {
      "cell_type": "markdown",
      "source": [
        "22. How can you secure access to a MongoDB database?"
      ],
      "metadata": {
        "id": "cl7jK5q6WdhW"
      }
    },
    {
      "cell_type": "markdown",
      "source": [
        "Enable authentication and authorization.\n",
        "\n",
        "Use TLS/SSL for encryption.\n",
        "\n",
        "Restrict network access (firewalls, IP whitelisting).\n",
        "\n",
        "Regularly update MongoDB and apply security patches."
      ],
      "metadata": {
        "id": "ad-AgOC8Wf1x"
      }
    },
    {
      "cell_type": "markdown",
      "source": [
        "23. What is MongoDB’s WiredTiger storage engine, and why is it important?"
      ],
      "metadata": {
        "id": "ZSk5s86_WiIt"
      }
    },
    {
      "cell_type": "markdown",
      "source": [
        "MongoDB’s default storage engine.\n",
        "\n",
        "Provides document-level concurrency control, compression, and efficient storage management."
      ],
      "metadata": {
        "id": "_PrH0c0NWkpQ"
      }
    },
    {
      "cell_type": "markdown",
      "source": [
        "Practical Questions\n"
      ],
      "metadata": {
        "id": "Dg4KQg3xW0PV"
      }
    },
    {
      "cell_type": "markdown",
      "source": [
        "1. Write a Python script to load the Superstore dataset from a CSV file into MongoDB\n"
      ],
      "metadata": {
        "id": "_z7-tZCEW01M"
      }
    },
    {
      "cell_type": "code",
      "source": [
        "from pymongo import MongoClient\n",
        "import pandas as pd\n",
        "\n",
        "# Connect to MongoDB\n",
        "client = MongoClient('mongodb://localhost:27017/')\n",
        "db = client['superstore_db']\n",
        "orders_collection = db['Orders']\n",
        "\n",
        "def load_dataset_to_mongodb(file_path):\n",
        "    df = pd.read_csv(file_path)\n",
        "    records = df.to_dict('records')\n",
        "    orders_collection.insert_many(records)\n",
        "    print(\"Dataset loaded into MongoDB.\")\n",
        "\n",
        "file_path = \"C:/Users/prith/Downloads/superstore.csv\"\n",
        "load_dataset_to_mongodb(file_path)"
      ],
      "metadata": {
        "id": "SSwaDGSlZDD6"
      },
      "execution_count": null,
      "outputs": []
    },
    {
      "cell_type": "markdown",
      "source": [
        "2. Retrieve and print all documents from the Orders collection\n"
      ],
      "metadata": {
        "id": "GUesWNJrXf8Z"
      }
    },
    {
      "cell_type": "code",
      "source": [
        "def print_all_documents():\n",
        "    for document in orders_collection.find():\n",
        "        print(document)\n",
        "\n",
        "print_all_documents()"
      ],
      "metadata": {
        "id": "HZhkFUQbXyDQ"
      },
      "execution_count": null,
      "outputs": []
    },
    {
      "cell_type": "markdown",
      "source": [
        "3. Count and display the total number of documents in the Orders collection\n"
      ],
      "metadata": {
        "id": "4KKUYgHMXxcx"
      }
    },
    {
      "cell_type": "code",
      "source": [
        "def count_documents():\n",
        "    count = orders_collection.count_documents({})\n",
        "    print(f\"Total number of documents: {count}\")\n",
        "\n",
        "count_documents()"
      ],
      "metadata": {
        "id": "oodyBNbwX261"
      },
      "execution_count": null,
      "outputs": []
    },
    {
      "cell_type": "markdown",
      "source": [
        "4. Write a query to fetch all orders from the \"West\" region\n"
      ],
      "metadata": {
        "id": "442Z8zHPX4pr"
      }
    },
    {
      "cell_type": "code",
      "source": [
        "def fetch_orders_from_west():\n",
        "    west_orders = orders_collection.find({\"Region\": \"West\"})\n",
        "    for order in west_orders:\n",
        "        print(order)\n",
        "\n",
        "fetch_orders_from_west()"
      ],
      "metadata": {
        "id": "NwsHZyLaX5vX"
      },
      "execution_count": null,
      "outputs": []
    },
    {
      "cell_type": "markdown",
      "source": [
        "5. Write a query to find orders where Sales is greater than 500\n"
      ],
      "metadata": {
        "id": "oW8jRRrYX7Gb"
      }
    },
    {
      "cell_type": "code",
      "source": [
        "def fetch_orders_with_sales_gt_500():\n",
        "    high_sales_orders = orders_collection.find({\"Sales\": {\"$gt\": 500}})\n",
        "    for order in high_sales_orders:\n",
        "        print(order)\n",
        "\n",
        "fetch_orders_with_sales_gt_500()"
      ],
      "metadata": {
        "id": "CFaq5G0vX8Yd"
      },
      "execution_count": null,
      "outputs": []
    },
    {
      "cell_type": "markdown",
      "source": [
        "6. Fetch the top 3 orders with the highest Profit\n"
      ],
      "metadata": {
        "id": "JYeRz2d4X9v5"
      }
    },
    {
      "cell_type": "code",
      "source": [
        "def fetch_top_3_profit_orders():\n",
        "    top_orders = orders_collection.find().sort(\"Profit\", -1).limit(3)\n",
        "    for order in top_orders:\n",
        "        print(order)\n",
        "\n",
        "fetch_top_3_profit_orders()"
      ],
      "metadata": {
        "id": "lFhH7NK_X-kG"
      },
      "execution_count": null,
      "outputs": []
    },
    {
      "cell_type": "markdown",
      "source": [
        "7. Update all orders with Ship Mode as \"First Class\" to \"Premium Class\"\n"
      ],
      "metadata": {
        "id": "zrnDNeCyYCW0"
      }
    },
    {
      "cell_type": "code",
      "source": [
        "def update_ship_mode():\n",
        "    result = orders_collection.update_many(\n",
        "        {\"Ship Mode\": \"First Class\"},\n",
        "        {\"$set\": {\"Ship Mode\": \"Premium Class\"}}\n",
        "    )\n",
        "    print(f\"Updated {result.modified_count} documents.\")\n",
        "\n",
        "update_ship_mode()"
      ],
      "metadata": {
        "id": "F2xRsp1OYD37"
      },
      "execution_count": null,
      "outputs": []
    },
    {
      "cell_type": "markdown",
      "source": [
        "8. Delete all orders where Sales is less than 50\n"
      ],
      "metadata": {
        "id": "GuPs0zWJYFmB"
      }
    },
    {
      "cell_type": "code",
      "source": [
        "def delete_orders_with_sales_lt_50():\n",
        "    result = orders_collection.delete_many({\"Sales\": {\"$lt\": 50}})\n",
        "    print(f\"Deleted {result.deleted_count} documents.\")\n",
        "\n",
        "delete_orders_with_sales_lt_50()"
      ],
      "metadata": {
        "id": "XC9kQYt9YGuS"
      },
      "execution_count": null,
      "outputs": []
    },
    {
      "cell_type": "markdown",
      "source": [
        "9. Use aggregation to group orders by Region and calculate total sales per region\n"
      ],
      "metadata": {
        "id": "KwWDTeXdYHMZ"
      }
    },
    {
      "cell_type": "code",
      "source": [
        "def calculate_total_sales_per_region():\n",
        "    pipeline = [\n",
        "        {\"$group\": {\"_id\": \"$Region\", \"total_sales\": {\"$sum\": \"$Sales\"}}}\n",
        "    ]\n",
        "    result = orders_collection.aggregate(pipeline)\n",
        "    for doc in result:\n",
        "        print(doc)\n",
        "\n",
        "calculate_total_sales_per_region()"
      ],
      "metadata": {
        "id": "BbBp0M2VYJ2C"
      },
      "execution_count": null,
      "outputs": []
    },
    {
      "cell_type": "markdown",
      "source": [
        "10. Fetch all distinct values for Ship Mode from the collection\n"
      ],
      "metadata": {
        "id": "rNgMANz6YLRi"
      }
    },
    {
      "cell_type": "code",
      "source": [
        "def fetch_distinct_ship_modes():\n",
        "    ship_modes = orders_collection.distinct(\"Ship Mode\")\n",
        "    print(\"Distinct Ship Modes:\", ship_modes)\n",
        "\n",
        "fetch_distinct_ship_modes()"
      ],
      "metadata": {
        "id": "nHAQupg3YMd7"
      },
      "execution_count": null,
      "outputs": []
    },
    {
      "cell_type": "markdown",
      "source": [
        "11. Count the number of orders for each category\n"
      ],
      "metadata": {
        "id": "xd7CZlpUYNuM"
      }
    },
    {
      "cell_type": "code",
      "source": [
        "def count_orders_per_category():\n",
        "    pipeline = [\n",
        "        {\"$group\": {\"_id\": \"$Category\", \"count\": {\"$sum\": 1}}}\n",
        "    ]\n",
        "    result = orders_collection.aggregate(pipeline)\n",
        "    for doc in result:\n",
        "        print(doc)\n",
        "\n",
        "count_orders_per_category()"
      ],
      "metadata": {
        "id": "BWIDPw3PYPI1"
      },
      "execution_count": null,
      "outputs": []
    }
  ]
}