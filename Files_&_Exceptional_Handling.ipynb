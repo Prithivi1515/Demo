{
  "nbformat": 4,
  "nbformat_minor": 0,
  "metadata": {
    "colab": {
      "provenance": [],
      "authorship_tag": "ABX9TyMAyAY2UyxO5DpyxfjKVJdS",
      "include_colab_link": true
    },
    "kernelspec": {
      "name": "python3",
      "display_name": "Python 3"
    },
    "language_info": {
      "name": "python"
    }
  },
  "cells": [
    {
      "cell_type": "markdown",
      "metadata": {
        "id": "view-in-github",
        "colab_type": "text"
      },
      "source": [
        "<a href=\"https://colab.research.google.com/github/Prithivi1515/Demo/blob/main/Files_%26_Exceptional_Handling.ipynb\" target=\"_parent\"><img src=\"https://colab.research.google.com/assets/colab-badge.svg\" alt=\"Open In Colab\"/></a>"
      ]
    },
    {
      "cell_type": "markdown",
      "source": [
        "4. Python Program with Multithreading and Lock to Avoid Race Conditions\n"
      ],
      "metadata": {
        "id": "6YSf9Spf8nEY"
      }
    },
    {
      "cell_type": "code",
      "source": [
        "import threading\n",
        "import time\n",
        "\n",
        "# Shared list\n",
        "shared_list = []\n",
        "lock = threading.Lock()\n",
        "\n",
        "# Function to add numbers to the list\n",
        "def add_to_list():\n",
        "    for i in range(5):\n",
        "        with lock:  # Lock acquired\n",
        "            shared_list.append(i)\n",
        "            print(f\"Added {i} to list\")\n",
        "        time.sleep(0.1)\n",
        "\n",
        "# Function to remove numbers from the list\n",
        "def remove_from_list():\n",
        "    for _ in range(5):\n",
        "        with lock:  # Lock acquired\n",
        "            if shared_list:\n",
        "                removed_item = shared_list.pop(0)\n",
        "                print(f\"Removed {removed_item} from list\")\n",
        "        time.sleep(0.15)\n",
        "\n",
        "# Creating threads\n",
        "thread1 = threading.Thread(target=add_to_list)\n",
        "thread2 = threading.Thread(target=remove_from_list)\n",
        "\n",
        "# Starting threads\n",
        "thread1.start()\n",
        "thread2.start()\n",
        "\n",
        "# Wait for both threads to finish\n",
        "thread1.join()\n",
        "thread2.join()\n",
        "\n",
        "print(\"Final list:\", shared_list)"
      ],
      "metadata": {
        "colab": {
          "base_uri": "https://localhost:8080/"
        },
        "id": "lKrmfFAx8llO",
        "outputId": "a4ce2d36-84ed-46e0-99a3-2815a1a3ca15"
      },
      "execution_count": 1,
      "outputs": [
        {
          "output_type": "stream",
          "name": "stdout",
          "text": [
            "Added 0 to list\n",
            "Removed 0 from list\n",
            "Added 1 to list\n",
            "Removed 1 from list\n",
            "Added 2 to list\n",
            "Added 3 to list\n",
            "Removed 2 from list\n",
            "Added 4 to list\n",
            "Removed 3 from list\n",
            "Removed 4 from list\n",
            "Final list: []\n"
          ]
        }
      ]
    },
    {
      "cell_type": "markdown",
      "source": [
        "7. Factorial Calculation Using Thread Pool\n"
      ],
      "metadata": {
        "id": "1-79-AKg88_S"
      }
    },
    {
      "cell_type": "code",
      "source": [
        "from concurrent.futures import ThreadPoolExecutor\n",
        "import math\n",
        "\n",
        "# Function to calculate factorial\n",
        "def factorial(n):\n",
        "    print(f\"Calculating factorial of {n}\")\n",
        "    return math.factorial(n)\n",
        "\n",
        "# Using ThreadPoolExecutor\n",
        "with ThreadPoolExecutor() as executor:\n",
        "    numbers = range(1, 11)\n",
        "    results = executor.map(factorial, numbers)\n",
        "\n",
        "# Display results\n",
        "for num, result in zip(numbers, results):\n",
        "    print(f\"Factorial of {num} is {result}\")\n"
      ],
      "metadata": {
        "colab": {
          "base_uri": "https://localhost:8080/"
        },
        "id": "OnRep7bS89qi",
        "outputId": "c0a0cda4-7696-4075-a110-7c9204d56440"
      },
      "execution_count": 2,
      "outputs": [
        {
          "output_type": "stream",
          "name": "stdout",
          "text": [
            "Calculating factorial of 1Calculating factorial of 2\n",
            "\n",
            "Calculating factorial of 3Calculating factorial of 4\n",
            "\n",
            "Calculating factorial of 5\n",
            "Calculating factorial of 6Calculating factorial of 7\n",
            "Calculating factorial of 8\n",
            "\n",
            "Calculating factorial of 9\n",
            "Calculating factorial of 10\n",
            "Factorial of 1 is 1\n",
            "Factorial of 2 is 2\n",
            "Factorial of 3 is 6\n",
            "Factorial of 4 is 24\n",
            "Factorial of 5 is 120\n",
            "Factorial of 6 is 720\n",
            "Factorial of 7 is 5040\n",
            "Factorial of 8 is 40320\n",
            "Factorial of 9 is 362880\n",
            "Factorial of 10 is 3628800\n"
          ]
        }
      ]
    },
    {
      "cell_type": "markdown",
      "source": [
        "8. Square Calculation Using Multiprocessing.Pool\n"
      ],
      "metadata": {
        "id": "uyqlJTfS9A93"
      }
    },
    {
      "cell_type": "code",
      "source": [
        "import multiprocessing\n",
        "import time\n",
        "\n",
        "# Function to compute square\n",
        "def square(n):\n",
        "    return n * n\n",
        "\n",
        "# Measure time for different pool sizes\n",
        "for pool_size in [2, 4, 8]:\n",
        "    start_time = time.time()\n",
        "    with multiprocessing.Pool(pool_size) as pool:\n",
        "        results = pool.map(square, range(1, 11))\n",
        "    end_time = time.time()\n",
        "    print(f\"Results with pool size {pool_size}: {results}\")\n",
        "    print(f\"Time taken with pool size {pool_size}: {end_time - start_time:.4f} seconds\")\n"
      ],
      "metadata": {
        "colab": {
          "base_uri": "https://localhost:8080/"
        },
        "id": "hhRuQuDI9BpK",
        "outputId": "691fcaa5-0f71-4c83-bc34-273eb2406170"
      },
      "execution_count": 3,
      "outputs": [
        {
          "output_type": "stream",
          "name": "stdout",
          "text": [
            "Results with pool size 2: [1, 4, 9, 16, 25, 36, 49, 64, 81, 100]\n",
            "Time taken with pool size 2: 0.0340 seconds\n",
            "Results with pool size 4: [1, 4, 9, 16, 25, 36, 49, 64, 81, 100]\n",
            "Time taken with pool size 4: 0.0572 seconds\n",
            "Results with pool size 8: [1, 4, 9, 16, 25, 36, 49, 64, 81, 100]\n",
            "Time taken with pool size 8: 0.0845 seconds\n"
          ]
        }
      ]
    }
  ]
}