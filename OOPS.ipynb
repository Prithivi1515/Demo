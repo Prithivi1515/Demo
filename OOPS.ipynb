{
  "nbformat": 4,
  "nbformat_minor": 0,
  "metadata": {
    "colab": {
      "provenance": [],
      "authorship_tag": "ABX9TyPOD4vVEUDaBlF+LBSPNWF9",
      "include_colab_link": true
    },
    "kernelspec": {
      "name": "python3",
      "display_name": "Python 3"
    },
    "language_info": {
      "name": "python"
    }
  },
  "cells": [
    {
      "cell_type": "markdown",
      "metadata": {
        "id": "view-in-github",
        "colab_type": "text"
      },
      "source": [
        "<a href=\"https://colab.research.google.com/github/Prithivi1515/Demo/blob/main/OOPS.ipynb\" target=\"_parent\"><img src=\"https://colab.research.google.com/assets/colab-badge.svg\" alt=\"Open In Colab\"/></a>"
      ]
    },
    {
      "cell_type": "markdown",
      "source": [
        "1. Five Key Concepts of Object-Oriented Programming (OOP):\n",
        "\n",
        "* Encapsulation: Bundling of data and methods within a single unit (class), restricting direct access to some components.\n",
        "* Abstraction: Hiding complex implementation details and exposing only the essentials.\n",
        "* Inheritance: Deriving new classes from existing ones, promoting code reusability.\n",
        "* Polymorphism: Allowing objects to be treated as instances of their parent class, enabling multiple forms.\n",
        "* Association: Defining relationships between objects, where objects can exist independently (e.g., aggregation, composition)."
      ],
      "metadata": {
        "id": "XYmKJk2p2JoV"
      }
    },
    {
      "cell_type": "markdown",
      "source": [
        "2. Python Class for a Car"
      ],
      "metadata": {
        "id": "vryk0ul52ZgH"
      }
    },
    {
      "cell_type": "code",
      "source": [
        "class Car:\n",
        "    def __init__(self, make, model, year):\n",
        "        self.make = make\n",
        "        self.model = model\n",
        "        self.year = year\n",
        "\n",
        "    def display_info(self):\n",
        "        print(f\"Car Info: {self.year} {self.make} {self.model}\")"
      ],
      "metadata": {
        "id": "d84VjjUy2bce"
      },
      "execution_count": null,
      "outputs": []
    },
    {
      "cell_type": "markdown",
      "source": [
        "3. Instance Methods vs Class Methods\n",
        "\n",
        "Instance Method: Operates on individual instances and requires self. They can access and modify instance-specific data.\n",
        "\n",
        "Class Method: Uses @classmethod decorator and requires cls as the first parameter. They can modify class-level data."
      ],
      "metadata": {
        "id": "_jgKu4ka2dKm"
      }
    },
    {
      "cell_type": "code",
      "source": [
        "class Example:\n",
        "    class_counter = 0  # Class attribute\n",
        "\n",
        "    def __init__(self):\n",
        "        Example.class_counter += 1\n",
        "\n",
        "    @classmethod\n",
        "    def get_class_counter(cls):\n",
        "        return cls.class_counter"
      ],
      "metadata": {
        "id": "11CNFyBc2gTv"
      },
      "execution_count": null,
      "outputs": []
    },
    {
      "cell_type": "markdown",
      "source": [
        "4. Method Overloading in Python\n",
        "\n",
        "Python does not support method overloading by default. We can use default parameters or variable-length arguments."
      ],
      "metadata": {
        "id": "z0mCTQor2nEy"
      }
    },
    {
      "cell_type": "code",
      "source": [
        "class MathOperations:\n",
        "    def add(self, a, b=0):\n",
        "        return a + b"
      ],
      "metadata": {
        "id": "vAyVuEga2qnD"
      },
      "execution_count": null,
      "outputs": []
    },
    {
      "cell_type": "markdown",
      "source": [
        "5. Access Modifiers in Python\n",
        "\n",
        "* Public: Accessible from anywhere (attribute).\n",
        "* Protected: Suggested to be private by convention (_attribute).\n",
        "* Private: Restricted access (__attribute).\n"
      ],
      "metadata": {
        "id": "6-pMbh002s-y"
      }
    },
    {
      "cell_type": "markdown",
      "source": [
        "6. Types of Inheritance in Python\n",
        "\n",
        "* Single Inheritance: A subclass inherits from one superclass.\n",
        "* Multiple Inheritance: A subclass inherits from multiple superclasses.\n",
        "* Multilevel Inheritance: A chain of inheritance.\n",
        "* Hierarchical Inheritance: Multiple subclasses inherit from a single superclass.\n",
        "* Hybrid Inheritance: Combination of more than one type of inheritance.\n",
        "\n",
        "Example of Multiple Inheritance:"
      ],
      "metadata": {
        "id": "bC0-Cz7323i_"
      }
    },
    {
      "cell_type": "code",
      "source": [
        "class A:\n",
        "    pass\n",
        "\n",
        "class B:\n",
        "    pass\n",
        "\n",
        "class C(A, B):\n",
        "    pass"
      ],
      "metadata": {
        "id": "SxbMqglS3BXm"
      },
      "execution_count": null,
      "outputs": []
    },
    {
      "cell_type": "markdown",
      "source": [
        "7. Method Resolution Order (MRO)\n",
        "\n",
        "MRO is the order in which methods are inherited from classes in a multiple inheritance scenario.\n",
        "\n",
        "Retrieve it with:"
      ],
      "metadata": {
        "id": "7mBgEEM728an"
      }
    },
    {
      "cell_type": "code",
      "source": [
        "print(C.mro())"
      ],
      "metadata": {
        "id": "xiLD7cMg3LZo"
      },
      "execution_count": null,
      "outputs": []
    },
    {
      "cell_type": "markdown",
      "source": [
        "8. Abstract Base Class Shape"
      ],
      "metadata": {
        "id": "jDnmKthi3Qxk"
      }
    },
    {
      "cell_type": "code",
      "source": [
        "from abc import ABC, abstractmethod\n",
        "\n",
        "class Shape(ABC):\n",
        "    @abstractmethod\n",
        "    def area(self):\n",
        "        pass\n",
        "\n",
        "class Circle(Shape):\n",
        "    def __init__(self, radius):\n",
        "        self.radius = radius\n",
        "\n",
        "    def area(self):\n",
        "        return 3.14 * self.radius ** 2\n",
        "\n",
        "class Rectangle(Shape):\n",
        "    def __init__(self, length, width):\n",
        "        self.length = length\n",
        "        self.width = width\n",
        "\n",
        "    def area(self):\n",
        "        return self.length * self.width"
      ],
      "metadata": {
        "id": "OXH0Mqj43S3_"
      },
      "execution_count": null,
      "outputs": []
    },
    {
      "cell_type": "markdown",
      "source": [
        "9. Polymorphism with Shapes\n"
      ],
      "metadata": {
        "id": "rNNACuo-3UuY"
      }
    },
    {
      "cell_type": "code",
      "source": [
        "def print_area(shape):\n",
        "    print(\"Area:\", shape.area())\n",
        "\n",
        "circle = Circle(5)\n",
        "rectangle = Rectangle(4, 6)\n",
        "\n",
        "print_area(circle)\n",
        "print_area(rectangle)"
      ],
      "metadata": {
        "id": "rVbssEsg3blp"
      },
      "execution_count": null,
      "outputs": []
    },
    {
      "cell_type": "markdown",
      "source": [
        "10. Encapsulation in BankAccount"
      ],
      "metadata": {
        "id": "nuUHOkQE3d-V"
      }
    },
    {
      "cell_type": "code",
      "source": [
        "class BankAccount:\n",
        "    def __init__(self, account_number, balance=0):\n",
        "        self.__account_number = account_number\n",
        "        self.__balance = balance\n",
        "\n",
        "    def deposit(self, amount):\n",
        "        self.__balance += amount\n",
        "\n",
        "    def withdraw(self, amount):\n",
        "        if amount <= self.__balance:\n",
        "            self.__balance -= amount\n",
        "        else:\n",
        "            print(\"Insufficient funds\")\n",
        "\n",
        "    def get_balance(self):\n",
        "        return self.__balance"
      ],
      "metadata": {
        "id": "oXLTisG73eft"
      },
      "execution_count": null,
      "outputs": []
    },
    {
      "cell_type": "markdown",
      "source": [
        "11. Overriding __str__ and __add__ Methods\n",
        "\n",
        "The __str__ method allows a human-readable string for an object, and __add__ allows custom addition behavior.\n",
        "\n"
      ],
      "metadata": {
        "id": "H8il_V_23h_H"
      }
    },
    {
      "cell_type": "code",
      "source": [
        "class Point:\n",
        "    def __init__(self, x, y):\n",
        "        self.x = x\n",
        "        self.y = y\n",
        "\n",
        "    def __str__(self):\n",
        "        return f\"Point({self.x}, {self.y})\"\n",
        "\n",
        "    def __add__(self, other):\n",
        "        return Point(self.x + other.x, self.y + other.y)"
      ],
      "metadata": {
        "id": "kLihpjhc3kuX"
      },
      "execution_count": null,
      "outputs": []
    },
    {
      "cell_type": "markdown",
      "source": [
        "12. Execution Time Decorator"
      ],
      "metadata": {
        "id": "NsSyIxF73oAc"
      }
    },
    {
      "cell_type": "code",
      "source": [
        "import time\n",
        "\n",
        "def execution_time(func):\n",
        "    def wrapper(*args, **kwargs):\n",
        "        start = time.time()\n",
        "        result = func(*args, **kwargs)\n",
        "        end = time.time()\n",
        "        print(f\"Execution time: {end - start:.4f} seconds\")\n",
        "        return result\n",
        "    return wrapper"
      ],
      "metadata": {
        "id": "XDV5uGho3pu-"
      },
      "execution_count": null,
      "outputs": []
    },
    {
      "cell_type": "markdown",
      "source": [
        "13. Diamond Problem and Python’s Resolution\n",
        "\n",
        "The diamond problem occurs when multiple inheritance creates ambiguity. Python resolves this using the MRO."
      ],
      "metadata": {
        "id": "wdMcbsb13sWi"
      }
    },
    {
      "cell_type": "markdown",
      "source": [
        "14. Class Method to Track Instance Count"
      ],
      "metadata": {
        "id": "lIcT96Se3tjR"
      }
    },
    {
      "cell_type": "code",
      "source": [
        "class InstanceCounter:\n",
        "    count = 0\n",
        "\n",
        "    def __init__(self):\n",
        "        InstanceCounter.count += 1\n",
        "\n",
        "    @classmethod\n",
        "    def get_count(cls):\n",
        "        return cls.count"
      ],
      "metadata": {
        "id": "ofXPBLeB3wR9"
      },
      "execution_count": null,
      "outputs": []
    },
    {
      "cell_type": "markdown",
      "source": [
        "15. Static Method to Check Leap Year"
      ],
      "metadata": {
        "id": "121hzRIq3ySx"
      }
    },
    {
      "cell_type": "code",
      "source": [
        "class Utility:\n",
        "    @staticmethod\n",
        "    def is_leap_year(year):\n",
        "        return year % 4 == 0 and (year % 100 != 0 or year % 400 == 0)"
      ],
      "metadata": {
        "id": "asjkk8v330Tc"
      },
      "execution_count": null,
      "outputs": []
    }
  ]
}